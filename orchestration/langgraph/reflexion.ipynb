{
 "cells": [
  {
   "cell_type": "markdown",
   "metadata": {},
   "source": [
    "# Reflexion"
   ]
  },
  {
   "cell_type": "code",
   "execution_count": 61,
   "metadata": {},
   "outputs": [
    {
     "data": {
      "text/plain": [
       "True"
      ]
     },
     "execution_count": 61,
     "metadata": {},
     "output_type": "execute_result"
    }
   ],
   "source": [
    "from dotenv import load_dotenv\n",
    "\n",
    "load_dotenv()"
   ]
  },
  {
   "cell_type": "code",
   "execution_count": 62,
   "metadata": {},
   "outputs": [],
   "source": [
    "from langchain_core.runnables import RunnableLambda\n",
    "from langchain_openai import ChatOpenAI\n",
    "from langgraph.graph import StateGraph, END\n",
    "from langchain_core.prompts import ChatPromptTemplate\n",
    "from pydantic import BaseModel"
   ]
  },
  {
   "cell_type": "code",
   "execution_count": 63,
   "metadata": {},
   "outputs": [],
   "source": [
    "llm = ChatOpenAI(model=\"gpt-3.5-turbo\")"
   ]
  },
  {
   "cell_type": "code",
   "execution_count": 71,
   "metadata": {},
   "outputs": [],
   "source": [
    "class AgentState(BaseModel):\n",
    "    task: str = \"\"\n",
    "    code: str = \"\"\n",
    "    error: str = \"\"\n",
    "    history: list = []\n",
    "    result: str = \"\"\n",
    "    reflection: str = \"\"\n",
    "    reflection_count: int = 0"
   ]
  },
  {
   "cell_type": "code",
   "execution_count": 65,
   "metadata": {},
   "outputs": [],
   "source": [
    "TASK_PROMPT = ChatPromptTemplate.from_messages([\n",
    "    (\"system\", \"You're an expert Python developer. Write Python code to: {task}. Please give me the code only. No extra details are needed.\"),\n",
    "    (\"user\", \"Previous Error (if any): {error}\\n\\nPlease write code again.\"),\n",
    "])\n",
    "\n",
    "REFLECT_PROMPT = ChatPromptTemplate.from_messages([\n",
    "    (\"system\", \"You are debugging your own code. Reflect on the following error and suggest how to fix it.\"),\n",
    "    (\"user\", \"Code: {code}\\n\\nError: {error}\\n\\nWhat went wrong?\\n\\nHistory: {history}\\n\\n\"),\n",
    "])"
   ]
  },
  {
   "cell_type": "code",
   "execution_count": 77,
   "metadata": {},
   "outputs": [],
   "source": [
    "import traceback\n",
    "\n",
    "def generate_code(state: AgentState) -> AgentState:\n",
    "    task = state.task\n",
    "    error = state.error\n",
    "    messages = TASK_PROMPT.format_messages(task=task, error=error)\n",
    "    output = llm.invoke(messages)\n",
    "    state.code = output.content\n",
    "    state.history.append(output.content)\n",
    "    return state\n",
    "\n",
    "\n",
    "def execute_code(state: AgentState) -> AgentState:\n",
    "    code = state.code\n",
    "    try:\n",
    "        exec_globals = {}\n",
    "        exec(code, exec_globals)\n",
    "        state.result = \"success\"\n",
    "    except Exception as e:\n",
    "        state.result = \"fail\"\n",
    "        state.error = traceback.format_exc()\n",
    "\n",
    "    return state\n",
    "    \n",
    "\n",
    "def reflect(state: AgentState) -> AgentState:\n",
    "    state.reflection_count += 1\n",
    "    code = state.code\n",
    "    error = state.error\n",
    "    messages = REFLECT_PROMPT.format_messages(code=code, error=error, history=state.history)\n",
    "    reflection = llm.invoke(messages)\n",
    "    state.reflection = reflection.content\n",
    "    return state"
   ]
  },
  {
   "cell_type": "code",
   "execution_count": 81,
   "metadata": {},
   "outputs": [],
   "source": [
    "def should_reflect(state: AgentState):\n",
    "    print(f\"Reflection count: {state.reflection_count}\")\n",
    "    if state.reflection_count >= 3:\n",
    "        return END\n",
    "    return \"reflect\" if state.result == \"fail\" else END"
   ]
  },
  {
   "cell_type": "code",
   "execution_count": 82,
   "metadata": {},
   "outputs": [
    {
     "data": {
      "text/plain": [
       "<langgraph.graph.state.StateGraph at 0x11c9cc1d0>"
      ]
     },
     "execution_count": 82,
     "metadata": {},
     "output_type": "execute_result"
    }
   ],
   "source": [
    "workflow = StateGraph(AgentState)\n",
    "workflow.add_node(\"generate_code\", RunnableLambda(generate_code))\n",
    "workflow.add_node(\"execute_code\", RunnableLambda(execute_code))\n",
    "workflow.add_node(\"reflect\", RunnableLambda(reflect))\n",
    "\n",
    "workflow.set_entry_point(\"generate_code\")\n",
    "workflow.add_edge(\"generate_code\", \"execute_code\")\n",
    "workflow.add_conditional_edges(\"execute_code\", should_reflect)\n",
    "workflow.add_edge(\"reflect\", \"generate_code\")"
   ]
  },
  {
   "cell_type": "code",
   "execution_count": 83,
   "metadata": {},
   "outputs": [
    {
     "name": "stdout",
     "output_type": "stream",
     "text": [
      "Reflection count: 0\n",
      "Reflection count: 1\n",
      "Reflection count: 2\n",
      "Reflection count: 3\n"
     ]
    }
   ],
   "source": [
    "app = workflow.compile()\n",
    "\n",
    "initial_state = AgentState(task=\"Write a function that divides two numbers, but handles divide-by-zero errors safely.\")\n",
    "final_state = AgentState(**app.invoke(initial_state, {\"recursion_limit\": 100}))"
   ]
  },
  {
   "cell_type": "code",
   "execution_count": 84,
   "metadata": {},
   "outputs": [
    {
     "name": "stdout",
     "output_type": "stream",
     "text": [
      "Final Result:\n",
      "\n",
      "```python\n",
      "def safe_divide(a, b):\n",
      "    try:\n",
      "        result = a / b\n",
      "    except ZeroDivisionError:\n",
      "        result = None\n",
      "    return result\n",
      "```\n",
      "\n",
      "Reflection History:\n",
      "---\n",
      " Sure, here is the code:\n",
      "\n",
      "```python\n",
      "def safe_divide(a, b):\n",
      "    try:\n",
      "        result = a / b\n",
      "    except ZeroDivisionError:\n",
      "        print(\"Error: Division by zero is not allowed\")\n",
      "        result = None\n",
      "    return result\n",
      "```\n",
      "---\n",
      " ```python\n",
      "def safe_divide(num, denom):\n",
      "    try:\n",
      "        result = num / denom\n",
      "    except ZeroDivisionError:\n",
      "        result = \"Error: Cannot divide by zero\"\n",
      "    return result\n",
      "```\n",
      "---\n",
      " ```python\n",
      "def safe_divide(a, b):\n",
      "    try:\n",
      "        result = a / b\n",
      "    except ZeroDivisionError:\n",
      "        print(\"Error: Division by zero\")\n",
      "        result = None\n",
      "    return result\n",
      "```\n",
      "---\n",
      " ```python\n",
      "def safe_divide(a, b):\n",
      "    try:\n",
      "        result = a / b\n",
      "    except ZeroDivisionError:\n",
      "        result = None\n",
      "    return result\n",
      "```\n",
      "\n",
      "Still failed after reflexion attempts\n"
     ]
    }
   ],
   "source": [
    "print(\"Final Result:\\n\")\n",
    "print(final_state.code)\n",
    "print(\"\\nReflection History:\")\n",
    "\n",
    "for item in final_state.history:\n",
    "    print(\"---\\n\", item)\n",
    "    \n",
    "if final_state.result == \"fail\":\n",
    "    print(\"\\nStill failed after reflexion attempts\")"
   ]
  }
 ],
 "metadata": {
  "kernelspec": {
   "display_name": "generative-ai-XwelIRLU",
   "language": "python",
   "name": "python3"
  },
  "language_info": {
   "codemirror_mode": {
    "name": "ipython",
    "version": 3
   },
   "file_extension": ".py",
   "mimetype": "text/x-python",
   "name": "python",
   "nbconvert_exporter": "python",
   "pygments_lexer": "ipython3",
   "version": "3.12.9"
  }
 },
 "nbformat": 4,
 "nbformat_minor": 2
}
