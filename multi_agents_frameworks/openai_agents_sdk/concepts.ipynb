{
 "cells": [
  {
   "cell_type": "markdown",
   "metadata": {
    "vscode": {
     "languageId": "raw"
    }
   },
   "source": [
    "# OpenAI Agents SDK - Customer Support System\n",
    "\n",
    "It handles inquiries, creates tickets, processes payments, and maintains context across interactions.\n"
   ]
  },
  {
   "cell_type": "code",
   "execution_count": 1,
   "metadata": {},
   "outputs": [
    {
     "name": "stdout",
     "output_type": "stream",
     "text": [
      "  \u001b[31m×\u001b[0m No solution found when resolving dependencies:\n",
      "\u001b[31m  ╰─▶ \u001b[0mBecause openai-agents-sdk was not found in the package registry and\n",
      "\u001b[31m      \u001b[0myou require openai-agents-sdk, we can conclude that your requirements\n",
      "\u001b[31m      \u001b[0mare unsatisfiable.\n",
      "Note: you may need to restart the kernel to use updated packages.\n"
     ]
    }
   ],
   "source": [
    "%uv pip install openai-agents-sdk openai pydantic litellm --quiet\n"
   ]
  },
  {
   "cell_type": "code",
   "execution_count": null,
   "metadata": {},
   "outputs": [],
   "source": [
    "import os\n",
    "import json\n",
    "import datetime\n",
    "from typing import Dict, Any, List, Optional\n",
    "from pydantic import BaseModel, Field\n",
    "from openai import OpenAI\n",
    "from openai_agents_sdk import create_agent, run_agent\n",
    "\n",
    "client = OpenAI(api_key=os.getenv(\"OPENAI_API_KEY\"))\n",
    "print(\"✅ Dependencies loaded successfully!\")\n"
   ]
  },
  {
   "cell_type": "raw",
   "metadata": {
    "vscode": {
     "languageId": "raw"
    }
   },
   "source": [
    "## Pydantic Models for Data Validation\n"
   ]
  },
  {
   "cell_type": "code",
   "execution_count": null,
   "metadata": {},
   "outputs": [],
   "source": [
    "class Customer(BaseModel):\n",
    "    customer_id: str = Field(..., description=\"Unique customer identifier\")\n",
    "    name: str = Field(..., min_length=1, max_length=100)\n",
    "    email: str = Field(..., regex=r'^[^@]+@[^@]+\\.[^@]+$')\n",
    "    phone: Optional[str] = None\n",
    "    tier: str = Field(default=\"standard\", description=\"Customer tier: basic, standard, premium\")\n",
    "    created_at: datetime.datetime = Field(default_factory=datetime.datetime.now)\n",
    "\n",
    "class SupportTicket(BaseModel):\n",
    "    ticket_id: str = Field(..., description=\"Unique ticket identifier\")\n",
    "    customer_id: str\n",
    "    title: str = Field(..., min_length=1, max_length=200)\n",
    "    description: str = Field(..., min_length=10)\n",
    "    category: str = Field(..., description=\"technical, billing, general\")\n",
    "    priority: str = Field(default=\"medium\", description=\"low, medium, high, urgent\")\n",
    "    status: str = Field(default=\"open\", description=\"open, in_progress, resolved, closed\")\n",
    "    assigned_agent: Optional[str] = None\n",
    "    created_at: datetime.datetime = Field(default_factory=datetime.datetime.now)\n",
    "    updated_at: datetime.datetime = Field(default_factory=datetime.datetime.now)\n",
    "\n",
    "class ConversationContext(BaseModel):\n",
    "    session_id: str\n",
    "    customer: Customer\n",
    "    current_agent: str\n",
    "    conversation_history: List[Dict[str, str]] = Field(default_factory=list)\n",
    "    active_ticket: Optional[SupportTicket] = None\n",
    "    context_data: Dict[str, Any] = Field(default_factory=dict)\n",
    "    last_interaction: datetime.datetime = Field(default_factory=datetime.datetime.now)\n",
    "\n",
    "print(\"✅ Pydantic models defined\")\n"
   ]
  },
  {
   "cell_type": "raw",
   "metadata": {
    "vscode": {
     "languageId": "raw"
    }
   },
   "source": [
    "## Context Management System\n"
   ]
  },
  {
   "cell_type": "code",
   "execution_count": null,
   "metadata": {},
   "outputs": [],
   "source": [
    "class ContextManager:\n",
    "    def __init__(self):\n",
    "        self.contexts: Dict[str, ConversationContext] = {}\n",
    "        self.tickets: Dict[str, SupportTicket] = {}\n",
    "        self.customers: Dict[str, Customer] = {}\n",
    "    \n",
    "    def get_or_create_context(self, customer_id: str, agent_name: str) -> ConversationContext:\n",
    "        session_id = f\"{customer_id}_{datetime.datetime.now().strftime('%Y%m%d_%H%M%S')}\"\n",
    "        \n",
    "        if customer_id not in self.customers:\n",
    "            self.customers[customer_id] = Customer(\n",
    "                customer_id=customer_id,\n",
    "                name=f\"Customer {customer_id}\",\n",
    "                email=f\"customer{customer_id}@example.com\"\n",
    "            )\n",
    "        \n",
    "        context = ConversationContext(\n",
    "            session_id=session_id,\n",
    "            customer=self.customers[customer_id],\n",
    "            current_agent=agent_name\n",
    "        )\n",
    "        \n",
    "        self.contexts[session_id] = context\n",
    "        return context\n",
    "    \n",
    "    def update_context(self, session_id: str, user_message: str, agent_response: str):\n",
    "        if session_id in self.contexts:\n",
    "            context = self.contexts[session_id]\n",
    "            context.conversation_history.append({\n",
    "                \"timestamp\": datetime.datetime.now().isoformat(),\n",
    "                \"user\": user_message,\n",
    "                \"agent\": agent_response\n",
    "            })\n",
    "            context.last_interaction = datetime.datetime.now()\n",
    "    \n",
    "    def create_ticket(self, customer_id: str, title: str, description: str, category: str) -> SupportTicket:\n",
    "        ticket_id = f\"TKT-{datetime.datetime.now().strftime('%Y%m%d%H%M%S')}\"\n",
    "        ticket = SupportTicket(\n",
    "            ticket_id=ticket_id,\n",
    "            customer_id=customer_id,\n",
    "            title=title,\n",
    "            description=description,\n",
    "            category=category\n",
    "        )\n",
    "        self.tickets[ticket_id] = ticket\n",
    "        return ticket\n",
    "\n",
    "context_manager = ContextManager()\n",
    "print(\"✅ Context management system initialized\")\n"
   ]
  },
  {
   "cell_type": "raw",
   "metadata": {
    "vscode": {
     "languageId": "raw"
    }
   },
   "source": [
    "## Tracing System\n"
   ]
  },
  {
   "cell_type": "code",
   "execution_count": null,
   "metadata": {},
   "outputs": [],
   "source": [
    "class SupportTracer:\n",
    "    def __init__(self):\n",
    "        self.traces: List[Dict[str, Any]] = []\n",
    "        self.current_trace: Optional[Dict[str, Any]] = None\n",
    "    \n",
    "    def start_trace(self, agent_name: str, customer_id: str, message: str):\n",
    "        self.current_trace = {\n",
    "            \"trace_id\": f\"trace_{len(self.traces) + 1}\",\n",
    "            \"agent_name\": agent_name,\n",
    "            \"customer_id\": customer_id,\n",
    "            \"user_message\": message,\n",
    "            \"start_time\": datetime.datetime.now(),\n",
    "            \"events\": [],\n",
    "            \"tool_calls\": [],\n",
    "            \"handoffs\": [],\n",
    "            \"end_time\": None,\n",
    "            \"duration\": None,\n",
    "            \"response\": None\n",
    "        }\n",
    "    \n",
    "    def log_tool_call(self, tool_name: str, parameters: Dict, result: str):\n",
    "        if self.current_trace:\n",
    "            self.current_trace[\"tool_calls\"].append({\n",
    "                \"timestamp\": datetime.datetime.now(),\n",
    "                \"tool_name\": tool_name,\n",
    "                \"parameters\": parameters,\n",
    "                \"result\": result[:200] + \"...\" if len(result) > 200 else result\n",
    "            })\n",
    "    \n",
    "    def log_handoff(self, from_agent: str, to_agent: str, reason: str):\n",
    "        if self.current_trace:\n",
    "            self.current_trace[\"handoffs\"].append({\n",
    "                \"timestamp\": datetime.datetime.now(),\n",
    "                \"from_agent\": from_agent,\n",
    "                \"to_agent\": to_agent,\n",
    "                \"reason\": reason\n",
    "            })\n",
    "    \n",
    "    def log_event(self, event_type: str, data: Any):\n",
    "        if self.current_trace:\n",
    "            self.current_trace[\"events\"].append({\n",
    "                \"timestamp\": datetime.datetime.now(),\n",
    "                \"event_type\": event_type,\n",
    "                \"data\": data\n",
    "            })\n",
    "    \n",
    "    def end_trace(self, response: str):\n",
    "        if self.current_trace:\n",
    "            self.current_trace[\"end_time\"] = datetime.datetime.now()\n",
    "            self.current_trace[\"duration\"] = (\n",
    "                self.current_trace[\"end_time\"] - self.current_trace[\"start_time\"]\n",
    "            ).total_seconds()\n",
    "            self.current_trace[\"response\"] = response\n",
    "            self.traces.append(self.current_trace.copy())\n",
    "            self.current_trace = None\n",
    "    \n",
    "    def get_analytics(self) -> Dict[str, Any]:\n",
    "        if not self.traces:\n",
    "            return {\"message\": \"No traces available\"}\n",
    "        \n",
    "        return {\n",
    "            \"total_interactions\": len(self.traces),\n",
    "            \"avg_duration\": sum(t.get(\"duration\", 0) for t in self.traces) / len(self.traces),\n",
    "            \"total_tool_calls\": sum(len(t.get(\"tool_calls\", [])) for t in self.traces),\n",
    "            \"total_handoffs\": sum(len(t.get(\"handoffs\", [])) for t in self.traces),\n",
    "            \"agent_usage\": {agent: sum(1 for t in self.traces if t.get(\"agent_name\") == agent) \n",
    "                          for agent in set(t.get(\"agent_name\", \"\") for t in self.traces)}\n",
    "        }\n",
    "\n",
    "tracer = SupportTracer()\n",
    "print(\"✅ Tracing system initialized\")\n"
   ]
  },
  {
   "cell_type": "raw",
   "metadata": {
    "vscode": {
     "languageId": "raw"
    }
   },
   "source": [
    "## Guardrails and Safety System\n"
   ]
  },
  {
   "cell_type": "code",
   "execution_count": null,
   "metadata": {},
   "outputs": [],
   "source": [
    "class ContentGuardrails:\n",
    "    def __init__(self):\n",
    "        self.blocked_words = ['hack', 'exploit', 'illegal', 'fraud', 'scam']\n",
    "        self.sensitive_topics = ['password', 'credit card', 'ssn', 'social security']\n",
    "        self.profanity = ['inappropriate', 'offensive']\n",
    "    \n",
    "    def check_content(self, text: str) -> Dict[str, Any]:\n",
    "        text_lower = text.lower()\n",
    "        \n",
    "        blocked_found = [word for word in self.blocked_words if word in text_lower]\n",
    "        sensitive_found = [topic for topic in self.sensitive_topics if topic in text_lower]\n",
    "        profanity_found = [word for word in self.profanity if word in text_lower]\n",
    "        \n",
    "        is_safe = not (blocked_found or profanity_found)\n",
    "        has_sensitive = bool(sensitive_found)\n",
    "        \n",
    "        return {\n",
    "            \"is_safe\": is_safe,\n",
    "            \"has_sensitive_data\": has_sensitive,\n",
    "            \"blocked_words\": blocked_found,\n",
    "            \"sensitive_topics\": sensitive_found,\n",
    "            \"profanity\": profanity_found,\n",
    "            \"action\": \"block\" if not is_safe else \"warn\" if has_sensitive else \"allow\"\n",
    "        }\n",
    "    \n",
    "    def filter_response(self, response: str) -> str:\n",
    "        check_result = self.check_content(response)\n",
    "        \n",
    "        if not check_result[\"is_safe\"]:\n",
    "            return \"I apologize, but I cannot provide information on that topic due to our safety guidelines.\"\n",
    "        \n",
    "        if check_result[\"has_sensitive_data\"]:\n",
    "            return response + \"\\n\\n⚠️ Please ensure you're in a secure environment when discussing sensitive information.\"\n",
    "        \n",
    "        return response\n",
    "\n",
    "guardrails = ContentGuardrails()\n",
    "print(\"✅ Guardrails system initialized\")\n"
   ]
  },
  {
   "cell_type": "raw",
   "metadata": {
    "vscode": {
     "languageId": "raw"
    }
   },
   "source": [
    "## Tool Functions\n"
   ]
  },
  {
   "cell_type": "code",
   "execution_count": null,
   "metadata": {},
   "outputs": [],
   "source": [
    "def search_knowledge_base(query: str, category: str = \"general\") -> str:\n",
    "    \"\"\"Search the knowledge base for relevant information\"\"\"\n",
    "    tracer.log_tool_call(\"search_knowledge_base\", {\"query\": query, \"category\": category}, \"Knowledge search completed\")\n",
    "    \n",
    "    kb_data = {\n",
    "        \"technical\": {\n",
    "            \"login issues\": \"Try clearing browser cache, check credentials, or reset password\",\n",
    "            \"slow performance\": \"Check internet connection, close unnecessary tabs, clear cache\",\n",
    "            \"error messages\": \"Note the exact error message and steps to reproduce\"\n",
    "        },\n",
    "        \"billing\": {\n",
    "            \"payment failed\": \"Check card details, ensure sufficient funds, contact bank if needed\",\n",
    "            \"refund request\": \"Refunds processed within 5-7 business days to original payment method\",\n",
    "            \"subscription\": \"Manage subscriptions in account settings or contact billing team\"\n",
    "        },\n",
    "        \"general\": {\n",
    "            \"account\": \"Account related questions - check profile settings\",\n",
    "            \"features\": \"Feature requests can be submitted through feedback form\",\n",
    "            \"contact\": \"Multiple contact options available - chat, email, phone\"\n",
    "        }\n",
    "    }\n",
    "    \n",
    "    results = []\n",
    "    search_category = kb_data.get(category, kb_data[\"general\"])\n",
    "    \n",
    "    for key, value in search_category.items():\n",
    "        if any(word in key.lower() for word in query.lower().split()):\n",
    "            results.append(f\"**{key.title()}**: {value}\")\n",
    "    \n",
    "    if not results:\n",
    "        results = [\"No specific matches found. Please provide more details about your issue.\"]\n",
    "    \n",
    "    return \"\\n\".join(results)\n",
    "\n",
    "def create_support_ticket(customer_id: str, title: str, description: str, category: str) -> str:\n",
    "    \"\"\"Create a new support ticket\"\"\"\n",
    "    try:\n",
    "        ticket = context_manager.create_ticket(customer_id, title, description, category)\n",
    "        tracer.log_tool_call(\"create_support_ticket\", \n",
    "                           {\"customer_id\": customer_id, \"category\": category}, \n",
    "                           f\"Ticket {ticket.ticket_id} created\")\n",
    "        \n",
    "        return json.dumps({\n",
    "            \"ticket_id\": ticket.ticket_id,\n",
    "            \"status\": \"created\",\n",
    "            \"message\": f\"Support ticket {ticket.ticket_id} has been created successfully.\"\n",
    "        })\n",
    "    except Exception as e:\n",
    "        return json.dumps({\"error\": f\"Failed to create ticket: {str(e)}\"})\n",
    "\n",
    "def process_payment(customer_id: str, amount: float, payment_method: str) -> str:\n",
    "    \"\"\"Process a payment (mock implementation)\"\"\"\n",
    "    tracer.log_tool_call(\"process_payment\", \n",
    "                       {\"customer_id\": customer_id, \"amount\": amount}, \n",
    "                       \"Payment processed\")\n",
    "    \n",
    "    if amount <= 0:\n",
    "        return json.dumps({\"error\": \"Invalid payment amount\"})\n",
    "    \n",
    "    payment_id = f\"PAY-{datetime.datetime.now().strftime('%Y%m%d%H%M%S')}\"\n",
    "    \n",
    "    return json.dumps({\n",
    "        \"payment_id\": payment_id,\n",
    "        \"status\": \"completed\",\n",
    "        \"amount\": amount,\n",
    "        \"method\": payment_method,\n",
    "        \"message\": f\"Payment of ${amount} processed successfully.\"\n",
    "    })\n",
    "\n",
    "def handoff_to_technical(reason: str, context: str, customer_id: str) -> str:\n",
    "    \"\"\"Handoff conversation to technical support\"\"\"\n",
    "    tracer.log_handoff(\"CustomerService\", \"TechnicalSupport\", reason)\n",
    "    \n",
    "    handoff_data = {\n",
    "        \"handoff_id\": f\"HO-{datetime.datetime.now().strftime('%Y%m%d%H%M%S')}\",\n",
    "        \"from_agent\": \"CustomerService\",\n",
    "        \"to_agent\": \"TechnicalSupport\", \n",
    "        \"reason\": reason,\n",
    "        \"context\": context,\n",
    "        \"customer_id\": customer_id,\n",
    "        \"timestamp\": datetime.datetime.now().isoformat()\n",
    "    }\n",
    "    \n",
    "    return json.dumps({\n",
    "        \"status\": \"handoff_completed\",\n",
    "        \"message\": f\"Transferring you to technical support. Reason: {reason}\",\n",
    "        \"handoff_id\": handoff_data[\"handoff_id\"]\n",
    "    })\n",
    "\n",
    "def handoff_to_billing(reason: str, context: str, customer_id: str) -> str:\n",
    "    \"\"\"Handoff conversation to billing department\"\"\"\n",
    "    tracer.log_handoff(\"CustomerService\", \"BillingSupport\", reason)\n",
    "    \n",
    "    return json.dumps({\n",
    "        \"status\": \"handoff_completed\", \n",
    "        \"message\": f\"Transferring you to billing department. Reason: {reason}\",\n",
    "        \"handoff_id\": f\"HO-{datetime.datetime.now().strftime('%Y%m%d%H%M%S')}\"\n",
    "    })\n",
    "\n",
    "print(\"✅ Tool functions defined\")\n"
   ]
  },
  {
   "cell_type": "raw",
   "metadata": {
    "vscode": {
     "languageId": "raw"
    }
   },
   "source": [
    "## Tool Definitions\n"
   ]
  },
  {
   "cell_type": "code",
   "execution_count": null,
   "metadata": {},
   "outputs": [],
   "source": [
    "knowledge_search_tool = {\n",
    "    \"type\": \"function\",\n",
    "    \"function\": {\n",
    "        \"name\": \"search_knowledge_base\",\n",
    "        \"description\": \"Search knowledge base for solutions and information\",\n",
    "        \"parameters\": {\n",
    "            \"type\": \"object\",\n",
    "            \"properties\": {\n",
    "                \"query\": {\"type\": \"string\", \"description\": \"Search query\"},\n",
    "                \"category\": {\"type\": \"string\", \"enum\": [\"technical\", \"billing\", \"general\"], \"default\": \"general\"}\n",
    "            },\n",
    "            \"required\": [\"query\"]\n",
    "        }\n",
    "    }\n",
    "}\n",
    "\n",
    "ticket_creation_tool = {\n",
    "    \"type\": \"function\", \n",
    "    \"function\": {\n",
    "        \"name\": \"create_support_ticket\",\n",
    "        \"description\": \"Create a new support ticket\",\n",
    "        \"parameters\": {\n",
    "            \"type\": \"object\",\n",
    "            \"properties\": {\n",
    "                \"customer_id\": {\"type\": \"string\", \"description\": \"Customer ID\"},\n",
    "                \"title\": {\"type\": \"string\", \"description\": \"Ticket title\"},\n",
    "                \"description\": {\"type\": \"string\", \"description\": \"Detailed description\"},\n",
    "                \"category\": {\"type\": \"string\", \"enum\": [\"technical\", \"billing\", \"general\"]}\n",
    "            },\n",
    "            \"required\": [\"customer_id\", \"title\", \"description\", \"category\"]\n",
    "        }\n",
    "    }\n",
    "}\n",
    "\n",
    "payment_tool = {\n",
    "    \"type\": \"function\",\n",
    "    \"function\": {\n",
    "        \"name\": \"process_payment\", \n",
    "        \"description\": \"Process a customer payment\",\n",
    "        \"parameters\": {\n",
    "            \"type\": \"object\",\n",
    "            \"properties\": {\n",
    "                \"customer_id\": {\"type\": \"string\", \"description\": \"Customer ID\"},\n",
    "                \"amount\": {\"type\": \"number\", \"description\": \"Payment amount\"},\n",
    "                \"payment_method\": {\"type\": \"string\", \"description\": \"Payment method\"}\n",
    "            },\n",
    "            \"required\": [\"customer_id\", \"amount\", \"payment_method\"]\n",
    "        }\n",
    "    }\n",
    "}\n",
    "\n",
    "technical_handoff_tool = {\n",
    "    \"type\": \"function\",\n",
    "    \"function\": {\n",
    "        \"name\": \"handoff_to_technical\",\n",
    "        \"description\": \"Transfer conversation to technical support\",\n",
    "        \"parameters\": {\n",
    "            \"type\": \"object\",\n",
    "            \"properties\": {\n",
    "                \"reason\": {\"type\": \"string\", \"description\": \"Reason for handoff\"},\n",
    "                \"context\": {\"type\": \"string\", \"description\": \"Context summary\"},\n",
    "                \"customer_id\": {\"type\": \"string\", \"description\": \"Customer ID\"}\n",
    "            },\n",
    "            \"required\": [\"reason\", \"context\", \"customer_id\"]\n",
    "        }\n",
    "    }\n",
    "}\n",
    "\n",
    "billing_handoff_tool = {\n",
    "    \"type\": \"function\",\n",
    "    \"function\": {\n",
    "        \"name\": \"handoff_to_billing\",\n",
    "        \"description\": \"Transfer conversation to billing department\",\n",
    "        \"parameters\": {\n",
    "            \"type\": \"object\",\n",
    "            \"properties\": {\n",
    "                \"reason\": {\"type\": \"string\", \"description\": \"Reason for handoff\"},\n",
    "                \"context\": {\"type\": \"string\", \"description\": \"Context summary\"},\n",
    "                \"customer_id\": {\"type\": \"string\", \"description\": \"Customer ID\"}\n",
    "            },\n",
    "            \"required\": [\"reason\", \"context\", \"customer_id\"]\n",
    "        }\n",
    "    }\n",
    "}\n",
    "\n",
    "print(\"✅ Tool definitions created\")\n"
   ]
  },
  {
   "cell_type": "raw",
   "metadata": {
    "vscode": {
     "languageId": "raw"
    }
   },
   "source": [
    "## Creating Specialized Agents\n"
   ]
  },
  {
   "cell_type": "code",
   "execution_count": null,
   "metadata": {},
   "outputs": [],
   "source": [
    "customer_service_agent = create_agent(\n",
    "    name=\"CustomerService\",\n",
    "    instructions=\"\"\"You are a friendly customer service representative. Your role is to:\n",
    "    \n",
    "    1. Greet customers warmly and identify their needs\n",
    "    2. Search the knowledge base for solutions to common issues\n",
    "    3. Create support tickets for complex issues\n",
    "    4. Transfer to technical support for technical problems\n",
    "    5. Transfer to billing for payment and subscription issues\n",
    "    \n",
    "    Always be helpful, professional, and empathetic. If you cannot resolve an issue,\n",
    "    create a ticket or transfer to the appropriate specialized team.\"\"\",\n",
    "    model=\"gpt-4o-mini\",\n",
    "    tools=[knowledge_search_tool, ticket_creation_tool, technical_handoff_tool, billing_handoff_tool],\n",
    "    client=client\n",
    ")\n",
    "\n",
    "technical_support_agent = create_agent(\n",
    "    name=\"TechnicalSupport\", \n",
    "    instructions=\"\"\"You are a technical support specialist. Your expertise includes:\n",
    "    \n",
    "    1. Diagnosing technical problems and providing step-by-step solutions\n",
    "    2. Searching technical knowledge base for detailed troubleshooting\n",
    "    3. Creating technical tickets for complex issues requiring engineering\n",
    "    4. Providing clear, actionable instructions\n",
    "    \n",
    "    Always ask clarifying questions to understand the exact issue and provide\n",
    "    detailed technical solutions. Be patient and thorough in your explanations.\"\"\",\n",
    "    model=\"gpt-4o-mini\",\n",
    "    tools=[knowledge_search_tool, ticket_creation_tool],\n",
    "    client=client\n",
    ")\n",
    "\n",
    "billing_support_agent = create_agent(\n",
    "    name=\"BillingSupport\",\n",
    "    instructions=\"\"\"You are a billing specialist. Your responsibilities include:\n",
    "    \n",
    "    1. Handling payment processing and billing inquiries\n",
    "    2. Processing refunds and subscription changes\n",
    "    3. Searching billing knowledge base for policy information\n",
    "    4. Creating billing tickets for account-specific issues\n",
    "    \n",
    "    Always verify customer identity before processing financial transactions.\n",
    "    Be clear about billing policies and procedures.\"\"\",\n",
    "    model=\"gpt-4o-mini\", \n",
    "    tools=[knowledge_search_tool, payment_tool, ticket_creation_tool],\n",
    "    client=client\n",
    ")\n",
    "\n",
    "print(\"✅ Specialized agents created:\")\n",
    "print(f\"  - {customer_service_agent.name}\")\n",
    "print(f\"  - {technical_support_agent.name}\")\n",
    "print(f\"  - {billing_support_agent.name}\")\n"
   ]
  },
  {
   "cell_type": "raw",
   "metadata": {
    "vscode": {
     "languageId": "raw"
    }
   },
   "source": [
    "## Customer Support System Demo\n"
   ]
  },
  {
   "cell_type": "code",
   "execution_count": null,
   "metadata": {},
   "outputs": [],
   "source": [
    "def run_support_interaction(agent, customer_id: str, message: str) -> str:\n",
    "    \"\"\"Run a complete support interaction with tracing and context management\"\"\"\n",
    "    \n",
    "    # Start tracing\n",
    "    tracer.start_trace(agent.name, customer_id, message)\n",
    "    \n",
    "    # Check content safety\n",
    "    safety_check = guardrails.check_content(message)\n",
    "    if not safety_check[\"is_safe\"]:\n",
    "        tracer.log_event(\"content_blocked\", safety_check)\n",
    "        tracer.end_trace(\"Content blocked by safety filters\")\n",
    "        return \"I'm sorry, but I cannot process that request due to our content policy.\"\n",
    "    \n",
    "    # Create or get context\n",
    "    context = context_manager.get_or_create_context(customer_id, agent.name)\n",
    "    tracer.log_event(\"context_created\", {\"session_id\": context.session_id})\n",
    "    \n",
    "    # Define tool functions\n",
    "    tool_functions = {\n",
    "        \"search_knowledge_base\": search_knowledge_base,\n",
    "        \"create_support_ticket\": create_support_ticket,\n",
    "        \"process_payment\": process_payment,\n",
    "        \"handoff_to_technical\": handoff_to_technical,\n",
    "        \"handoff_to_billing\": handoff_to_billing\n",
    "    }\n",
    "    \n",
    "    try:\n",
    "        # Run the agent\n",
    "        response = run_agent(agent, message, tool_functions=tool_functions)\n",
    "        \n",
    "        # Apply content filtering to response\n",
    "        filtered_response = guardrails.filter_response(response)\n",
    "        \n",
    "        # Update context\n",
    "        context_manager.update_context(context.session_id, message, filtered_response)\n",
    "        \n",
    "        # End tracing\n",
    "        tracer.end_trace(filtered_response)\n",
    "        \n",
    "        return filtered_response\n",
    "        \n",
    "    except Exception as e:\n",
    "        error_message = f\"An error occurred: {str(e)}\"\n",
    "        tracer.log_event(\"error\", {\"error\": str(e)})\n",
    "        tracer.end_trace(error_message)\n",
    "        return error_message\n",
    "\n",
    "print(\"✅ Support interaction function ready\")\n"
   ]
  },
  {
   "cell_type": "raw",
   "metadata": {
    "vscode": {
     "languageId": "raw"
    }
   },
   "source": [
    "### Scenario 1: General Inquiry with Knowledge Base Search\n"
   ]
  },
  {
   "cell_type": "code",
   "execution_count": null,
   "metadata": {},
   "outputs": [],
   "source": [
    "customer_message = \"Hi, I'm having trouble logging into my account. Can you help?\"\n",
    "customer_id = \"CUST001\"\n",
    "\n",
    "print(\"🔵 Customer Service Interaction\")\n",
    "print(f\"Customer ({customer_id}): {customer_message}\")\n",
    "print()\n",
    "\n",
    "response = run_support_interaction(customer_service_agent, customer_id, customer_message)\n",
    "print(f\"Agent Response: {response}\")\n",
    "print(\"\\n\" + \"=\"*60)\n"
   ]
  },
  {
   "cell_type": "raw",
   "metadata": {
    "vscode": {
     "languageId": "raw"
    }
   },
   "source": [
    "### Scenario 2: Technical Issue with Handoff\n"
   ]
  },
  {
   "cell_type": "code",
   "execution_count": null,
   "metadata": {},
   "outputs": [],
   "source": [
    "technical_message = \"My application keeps crashing when I try to export large datasets. It worked fine yesterday.\"\n",
    "customer_id = \"CUST002\"\n",
    "\n",
    "print(\"🔴 Technical Support Needed\")\n",
    "print(f\"Customer ({customer_id}): {technical_message}\")\n",
    "print()\n",
    "\n",
    "# First, customer service handles the inquiry\n",
    "response = run_support_interaction(customer_service_agent, customer_id, technical_message)\n",
    "print(f\"Customer Service: {response}\")\n",
    "print()\n",
    "\n",
    "# If handoff occurred, continue with technical support\n",
    "follow_up = \"I need detailed troubleshooting steps for the export crash issue.\"\n",
    "print(f\"Customer: {follow_up}\")\n",
    "tech_response = run_support_interaction(technical_support_agent, customer_id, follow_up)\n",
    "print(f\"Technical Support: {tech_response}\")\n",
    "print(\"\\n\" + \"=\"*60)\n"
   ]
  },
  {
   "cell_type": "raw",
   "metadata": {
    "vscode": {
     "languageId": "raw"
    }
   },
   "source": [
    "### Scenario 3: Billing Issue with Payment Processing\n"
   ]
  },
  {
   "cell_type": "code",
   "execution_count": null,
   "metadata": {},
   "outputs": [],
   "source": [
    "billing_message = \"My payment failed and I need to update my subscription. Can you help me process a new payment?\"\n",
    "customer_id = \"CUST003\"\n",
    "\n",
    "print(\"🟡 Billing Support Interaction\")\n",
    "print(f\"Customer ({customer_id}): {billing_message}\")\n",
    "print()\n",
    "\n",
    "# Customer service handles initial inquiry\n",
    "response = run_support_interaction(customer_service_agent, customer_id, billing_message)\n",
    "print(f\"Customer Service: {response}\")\n",
    "print()\n",
    "\n",
    "# Continue with billing specialist\n",
    "payment_request = \"I want to pay $99.99 with my credit card for the premium subscription.\"\n",
    "print(f\"Customer: {payment_request}\")\n",
    "billing_response = run_support_interaction(billing_support_agent, customer_id, payment_request)\n",
    "print(f\"Billing Support: {billing_response}\")\n",
    "print(\"\\n\" + \"=\"*60)\n"
   ]
  },
  {
   "cell_type": "raw",
   "metadata": {
    "vscode": {
     "languageId": "raw"
    }
   },
   "source": [
    "### Scenario 4: Content Safety and Guardrails\n"
   ]
  },
  {
   "cell_type": "code",
   "execution_count": null,
   "metadata": {},
   "outputs": [],
   "source": [
    "unsafe_message = \"Can you help me hack into my competitor's system?\"\n",
    "customer_id = \"CUST004\"\n",
    "\n",
    "print(\"🚫 Content Safety Test\")\n",
    "print(f\"Customer ({customer_id}): {unsafe_message}\")\n",
    "print()\n",
    "\n",
    "response = run_support_interaction(customer_service_agent, customer_id, unsafe_message)\n",
    "print(f\"Agent Response: {response}\")\n",
    "print()\n",
    "\n",
    "# Test sensitive content warning\n",
    "sensitive_message = \"I forgot my password and need help with my credit card information.\"\n",
    "print(f\"Customer: {sensitive_message}\")\n",
    "sensitive_response = run_support_interaction(customer_service_agent, customer_id, sensitive_message)\n",
    "print(f\"Agent Response: {sensitive_response}\")\n",
    "print(\"\\n\" + \"=\"*60)\n"
   ]
  },
  {
   "cell_type": "raw",
   "metadata": {
    "vscode": {
     "languageId": "raw"
    }
   },
   "source": [
    "## System Analytics and Monitoring\n"
   ]
  },
  {
   "cell_type": "code",
   "execution_count": null,
   "metadata": {},
   "outputs": [],
   "source": [
    "print(\"📊 SYSTEM ANALYTICS\")\n",
    "print(\"=\"*50)\n",
    "\n",
    "# Tracing analytics\n",
    "analytics = tracer.get_analytics()\n",
    "print(\"🔍 Tracing Analytics:\")\n",
    "for key, value in analytics.items():\n",
    "    print(f\"  {key}: {value}\")\n",
    "print()\n",
    "\n",
    "# Context analytics\n",
    "print(\"📝 Context Analytics:\")\n",
    "print(f\"  Total customers: {len(context_manager.customers)}\")\n",
    "print(f\"  Active sessions: {len(context_manager.contexts)}\")\n",
    "print(f\"  Support tickets: {len(context_manager.tickets)}\")\n",
    "print()\n",
    "\n",
    "# Show recent tickets\n",
    "print(\"🎫 Recent Support Tickets:\")\n",
    "for ticket_id, ticket in list(context_manager.tickets.items())[-3:]:\n",
    "    print(f\"  {ticket_id}: {ticket.title} ({ticket.category}) - {ticket.status}\")\n",
    "print()\n",
    "\n",
    "# Show customer information\n",
    "print(\"👥 Customer Information:\")\n",
    "for customer_id, customer in context_manager.customers.items():\n",
    "    print(f\"  {customer_id}: {customer.name} ({customer.email}) - {customer.tier}\")\n",
    "\n",
    "print(\"\\n\" + \"=\"*60)\n"
   ]
  },
  {
   "cell_type": "raw",
   "metadata": {
    "vscode": {
     "languageId": "raw"
    }
   },
   "source": [
    "## LiteLLM Integration (Optional)\n"
   ]
  },
  {
   "cell_type": "code",
   "execution_count": null,
   "metadata": {},
   "outputs": [],
   "source": [
    "try:\n",
    "    import litellm\n",
    "    \n",
    "    # Example of using different LLM providers with LiteLLM\n",
    "    # This would allow switching between OpenAI, Anthropic, Google, etc.\n",
    "    \n",
    "    def create_multi_provider_agent(provider: str = \"openai\"):\n",
    "        \"\"\"Create agent with different LLM providers using LiteLLM\"\"\"\n",
    "        \n",
    "        # Configure different providers\n",
    "        provider_configs = {\n",
    "            \"openai\": {\"model\": \"gpt-4o-mini\", \"api_key\": os.getenv(\"OPENAI_API_KEY\")},\n",
    "            \"anthropic\": {\"model\": \"claude-3-sonnet\", \"api_key\": os.getenv(\"ANTHROPIC_API_KEY\")},\n",
    "            \"google\": {\"model\": \"gemini-pro\", \"api_key\": os.getenv(\"GOOGLE_API_KEY\")}\n",
    "        }\n",
    "        \n",
    "        if provider in provider_configs:\n",
    "            config = provider_configs[provider]\n",
    "            print(f\"✅ LiteLLM configured for {provider} with model {config['model']}\")\n",
    "            \n",
    "            # Note: In actual implementation, you would configure the OpenAI Agents SDK\n",
    "            # to use LiteLLM as the client for multi-provider support\n",
    "            \n",
    "            return f\"Agent configured with {provider} provider\"\n",
    "        else:\n",
    "            return f\"Provider {provider} not supported\"\n",
    "    \n",
    "    # Demo different providers\n",
    "    print(\"🌐 LiteLLM Multi-Provider Support:\")\n",
    "    for provider in [\"openai\", \"anthropic\", \"google\"]:\n",
    "        result = create_multi_provider_agent(provider)\n",
    "        print(f\"  {result}\")\n",
    "    \n",
    "    print(\"\\n💡 LiteLLM enables using multiple LLM providers with the same codebase\")\n",
    "    print(\"   This allows for cost optimization, redundancy, and model comparison\")\n",
    "    \n",
    "except ImportError:\n",
    "    print(\"⚠️  LiteLLM not available. Install with: pip install litellm\")\n",
    "    print(\"   LiteLLM provides unified interface for multiple LLM providers\")\n"
   ]
  },
  {
   "cell_type": "raw",
   "metadata": {
    "vscode": {
     "languageId": "raw"
    }
   },
   "source": [
    "## Summary\n",
    "\n",
    "This comprehensive customer support system demonstrates all key OpenAI Agents SDK concepts:\n",
    "\n",
    "### ✅ **Concepts Implemented:**\n",
    "\n",
    "1. **Creating Simple Agents** - Customer service, technical support, and billing specialists\n",
    "2. **Running Agents with Messages** - Complete interaction processing with error handling\n",
    "3. **Adding Tools to Agents** - Knowledge base search, ticket creation, payment processing\n",
    "4. **Handoff** - Seamless transfers between specialized agents with context preservation\n",
    "5. **Pydantic Validation** - Structured data models for customers, tickets, and conversations\n",
    "6. **Context Management** - Persistent conversation history and customer state tracking\n",
    "7. **Guardrails** - Content safety filtering and sensitive data warnings\n",
    "8. **Tracing** - Comprehensive monitoring of interactions, tool usage, and performance\n",
    "9. **LiteLLM** - Multi-provider LLM support for flexibility and cost optimization\n",
    "\n",
    "### 🏗️ **System Architecture:**\n",
    "\n",
    "- **Modular Design**: Separate concerns for context, tracing, safety, and agents\n",
    "- **Scalable Structure**: Easy to add new agents, tools, and capabilities\n",
    "- **Production Ready**: Error handling, validation, monitoring, and safety features\n",
    "- **Flexible Integration**: Support for multiple LLM providers and external systems\n",
    "\n",
    "### 🚀 **Key Features:**\n",
    "\n",
    "- **Real-time Monitoring**: Track all interactions, tool usage, and handoffs\n",
    "- **Data Validation**: Ensure data integrity with Pydantic models\n",
    "- **Content Safety**: Automatic filtering of inappropriate content\n",
    "- **Context Persistence**: Maintain conversation history across interactions\n",
    "- **Analytics Dashboard**: Performance metrics and usage statistics\n",
    "\n",
    "This system provides a solid foundation for building production-grade customer support applications with AI agents.\n"
   ]
  }
 ],
 "metadata": {
  "kernelspec": {
   "display_name": "venv-genai",
   "language": "python",
   "name": "python3"
  },
  "language_info": {
   "codemirror_mode": {
    "name": "ipython",
    "version": 3
   },
   "file_extension": ".py",
   "mimetype": "text/x-python",
   "name": "python",
   "nbconvert_exporter": "python",
   "pygments_lexer": "ipython3",
   "version": "3.13.5"
  }
 },
 "nbformat": 4,
 "nbformat_minor": 2
}
