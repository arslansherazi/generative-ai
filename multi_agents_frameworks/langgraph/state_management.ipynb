{
 "cells": [
  {
   "cell_type": "markdown",
   "id": "1d97be9b",
   "metadata": {},
   "source": [
    "# State Management\n",
    "State in LangGraph is a typed dictionary that flows through the graph. Nodes read inputs from the state and return updates that merge into the state. This enables clear data dependencies, parallel execution (fan-out), and synchronized aggregation (fan-in) without explicit message passing.\n",
    "\n",
    "### Use Case: Automobile Industry – Intelligent Maintenance Advisor\n",
    "The workflow processes multiple sources in parallel:\n",
    "- Vehicle diagnostics (OBD-II logs) → fault analysis\n",
    "- Customer feedback → issues summary\n",
    "- Maintenance manuals lookup → recommended procedures\n",
    "\n",
    "A final aggregator node merges the three results into a unified diagnostic summary using an OpenAI LLM.\n"
   ]
  },
  {
   "cell_type": "code",
   "execution_count": 1,
   "id": "7c334398",
   "metadata": {},
   "outputs": [],
   "source": [
    "from typing import TypedDict\n",
    "\n",
    "from langchain_openai import ChatOpenAI\n",
    "from langgraph.graph import StateGraph, START, END\n"
   ]
  },
  {
   "cell_type": "code",
   "execution_count": 2,
   "id": "7d9f7b49",
   "metadata": {},
   "outputs": [],
   "source": [
    "llm = ChatOpenAI(model=\"gpt-4o-mini\", temperature=0.2)"
   ]
  },
  {
   "cell_type": "markdown",
   "id": "b64ca2af",
   "metadata": {},
   "source": []
  },
  {
   "cell_type": "code",
   "execution_count": 3,
   "id": "25b7a29b",
   "metadata": {},
   "outputs": [],
   "source": [
    "class MaintenanceState(TypedDict):\n",
    "    obd_logs: str\n",
    "    customer_feedback: str\n",
    "    manuals_query: str\n",
    "    sensor_analysis: str\n",
    "    feedback_summary: str\n",
    "    recommended_solution: str\n",
    "    diagnostic_summary: str\n"
   ]
  },
  {
   "cell_type": "markdown",
   "id": "857fda03",
   "metadata": {},
   "source": [
    "#### Define Processing Nodes (Channels)"
   ]
  },
  {
   "cell_type": "code",
   "execution_count": 4,
   "id": "f2951563",
   "metadata": {},
   "outputs": [],
   "source": [
    "def analyze_sensors(state: MaintenanceState):\n",
    "    prompt = f\"\"\"\n",
    "    Analyze these vehicle sensor readings and identify issues:\n",
    "    \n",
    "    Sensor Data:\n",
    "    {state['obd_logs']}\n",
    "    \"\"\"\n",
    "    response = llm.invoke(prompt)\n",
    "    analysis = response.content.strip()\n",
    "    return {\"sensor_analysis\": analysis}\n"
   ]
  },
  {
   "cell_type": "markdown",
   "id": "a13775ca",
   "metadata": {},
   "source": [
    "#### Node 2 — Maintenance Prediction Node"
   ]
  },
  {
   "cell_type": "code",
   "execution_count": 5,
   "id": "d926273c",
   "metadata": {},
   "outputs": [],
   "source": [
    "def analyze_feedback(state: MaintenanceState):\n",
    "    prompt = f\"\"\"\n",
    "    Analyze this customer feedback and extract key issues:\n",
    "    \n",
    "    Customer Feedback:\n",
    "    {state['customer_feedback']}\n",
    "    \"\"\"\n",
    "    response = llm.invoke(prompt)\n",
    "    analysis = response.content.strip()\n",
    "    return {\"feedback_summary\": analysis}\n"
   ]
  },
  {
   "cell_type": "markdown",
   "id": "9f5ddc76",
   "metadata": {},
   "source": [
    "#### Node 3 — Technician Report Generation Node"
   ]
  },
  {
   "cell_type": "code",
   "execution_count": 6,
   "id": "ef756773",
   "metadata": {},
   "outputs": [],
   "source": [
    "def lookup_manual(state: MaintenanceState):\n",
    "    prompt = f\"\"\"\n",
    "    Search maintenance database for solutions based on:\n",
    "    Sensor Data: {state['obd_logs'][:100]}...\n",
    "    Customer Feedback: {state['customer_feedback'][:100]}...\n",
    "    Query: {state['manuals_query']}\n",
    "    \n",
    "    Provide relevant maintenance procedures and solutions.\n",
    "    \"\"\"\n",
    "    response = llm.invoke(prompt)\n",
    "    lookup = response.content.strip()\n",
    "    return {\"recommended_solution\": lookup}\n"
   ]
  },
  {
   "cell_type": "markdown",
   "id": "1e56b40e",
   "metadata": {},
   "source": [
    "#### Node 4 — Final Output Node"
   ]
  },
  {
   "cell_type": "code",
   "execution_count": 7,
   "id": "7c4348c6",
   "metadata": {},
   "outputs": [],
   "source": [
    "def generate_final_report(state: MaintenanceState):\n",
    "    sensor_analysis = state.get(\"sensor_analysis\", \"\")\n",
    "    feedback_summary = state.get(\"feedback_summary\", \"\")\n",
    "    recommended_solution = state.get(\"recommended_solution\", \"\")\n",
    "    \n",
    "    prompt = f\"\"\"\n",
    "    Create a comprehensive diagnostic report combining:\n",
    "    \n",
    "    Sensor Analysis: {sensor_analysis}\n",
    "    Customer Feedback: {feedback_summary}\n",
    "    Manual Solutions: {recommended_solution}\n",
    "    \n",
    "    Provide a unified maintenance recommendation.\n",
    "    \"\"\"\n",
    "    response = llm.invoke(prompt)\n",
    "    final_report = response.content.strip()\n",
    "    return {\"diagnostic_summary\": final_report}\n"
   ]
  },
  {
   "cell_type": "markdown",
   "id": "619f792e",
   "metadata": {},
   "source": [
    "#### Build and Connect the Workflow Graph"
   ]
  },
  {
   "cell_type": "code",
   "execution_count": 8,
   "id": "f133365d",
   "metadata": {},
   "outputs": [
    {
     "data": {
      "text/plain": [
       "<langgraph.graph.state.StateGraph at 0x1112c9a90>"
      ]
     },
     "execution_count": 8,
     "metadata": {},
     "output_type": "execute_result"
    }
   ],
   "source": [
    "# Build state-managed graph\n",
    "graph = StateGraph(MaintenanceState)\n",
    "\n",
    "# Worker nodes\n",
    "graph.add_node(\"analyze_sensors\", analyze_sensors)\n",
    "graph.add_node(\"analyze_feedback\", analyze_feedback)\n",
    "graph.add_node(\"lookup_manual\", lookup_manual)\n",
    "\n",
    "# Aggregator\n",
    "graph.add_node(\"aggregate\", generate_final_report)\n",
    "\n",
    "# Fan-out from START\n",
    "graph.add_edge(START, \"analyze_sensors\")\n",
    "graph.add_edge(START, \"analyze_feedback\")\n",
    "graph.add_edge(START, \"lookup_manual\")\n",
    "\n",
    "# Fan-in to aggregator\n",
    "graph.add_edge(\"analyze_sensors\", \"aggregate\")\n",
    "graph.add_edge(\"analyze_feedback\", \"aggregate\")\n",
    "graph.add_edge(\"lookup_manual\", \"aggregate\")\n",
    "\n",
    "# Finish at END via aggregate\n",
    "graph.add_edge(\"aggregate\", END)\n"
   ]
  },
  {
   "cell_type": "code",
   "execution_count": 9,
   "id": "b6be4fc3",
   "metadata": {},
   "outputs": [],
   "source": [
    "# Example input\n",
    "obd_logs = \"\"\"\n",
    "Engine Temperature: 105°C\n",
    "Battery Voltage: 11.2V\n",
    "Tire Pressure: Low\n",
    "Oil Pressure: 18 PSI\n",
    "\"\"\"\n",
    "\n",
    "customer_feedback = \"\"\"\n",
    "Customer complains about:\n",
    "- Engine overheating\n",
    "- Poor fuel efficiency\n",
    "- Strange noises when braking\n",
    "\"\"\"\n",
    "\n",
    "manuals_query = \"P0128 overheating; low oil pressure\"\n",
    "\n",
    "# Initialize state\n",
    "state: MaintenanceState = {\n",
    "    \"obd_logs\": obd_logs,\n",
    "    \"customer_feedback\": customer_feedback,\n",
    "    \"manuals_query\": manuals_query,\n",
    "    \"sensor_analysis\": \"\",\n",
    "    \"feedback_summary\": \"\",\n",
    "    \"recommended_solution\": \"\",\n",
    "    \"diagnostic_summary\": \"\",\n",
    "}\n",
    "\n",
    "# Run graph\n",
    "app = graph.compile()\n",
    "result_state = app.invoke(state)\n"
   ]
  },
  {
   "cell_type": "markdown",
   "id": "de6e37ab",
   "metadata": {},
   "source": [
    "#### Review Channel Data"
   ]
  },
  {
   "cell_type": "code",
   "execution_count": 10,
   "id": "b8f7ccb1",
   "metadata": {},
   "outputs": [
    {
     "name": "stdout",
     "output_type": "stream",
     "text": [
      "🔧 Sensor Analysis:\n",
      " Based on the provided vehicle sensor readings, here are the analyses and potential issues identified:\n",
      "\n",
      "1. **Engine Temperature: 105°C**\n",
      "   - **Analysis**: This temperature is higher than the typical operating range for most engines, which is usually between 90°C and 100°C. An engine temperature of 105°C could indicate overheating.\n",
      "   - **Potential Issues**: Possible causes for overheating include low coolant levels, a malfunctioning thermostat, a failing water pump, or a blocked radiator. Immediate attention is recommended to prevent engine damage.\n",
      "\n",
      "2. **Battery Voltage: 11.2V**\n",
      "   - **Analysis**: A healthy car battery typically reads between 12.4V and 12.7V when the engine is off and around 13.7V to 14.7V when the engine is running (due to the alternator charging the battery). A reading of 11.2V suggests that the battery is undercharged or failing.\n",
      "   - **Potential Issues**: This could indicate a weak battery, a failing alternator, or an electrical drain on the battery. It may require testing or replacement to ensure reliable vehicle operation.\n",
      "\n",
      "3. **Tire Pressure: Low**\n",
      "   - **Analysis**: Low tire pressure can lead to reduced fuel efficiency, poor handling, and increased tire wear. The specific pressure value is not provided, but it is essential to check the recommended tire pressure for the vehicle.\n",
      "   - **Potential Issues**: Causes of low tire pressure can include punctures, leaks, or simply not being inflated to the correct level. It is advisable to inflate the tires to the recommended pressure and check for any leaks or damage.\n",
      "\n",
      "4. **Oil Pressure: 18 PSI**\n",
      "   - **Analysis**: Normal oil pressure for most vehicles typically ranges from 25 to 65 PSI when the engine is running. A reading of 18 PSI is low and could indicate insufficient oil circulation.\n",
      "   - **Potential Issues**: Low oil pressure can be caused by low oil levels, a failing oil pump, or a clogged oil filter. This condition can lead to serious engine damage if not addressed promptly.\n",
      "\n",
      "### Summary of Issues:\n",
      "- **Overheating Engine**: Immediate investigation needed to prevent damage.\n",
      "- **Undercharged Battery**: Check battery health and charging system.\n",
      "- **Low Tire Pressure**: Inflate tires and check for leaks.\n",
      "- **Low Oil Pressure**: Check oil levels and system for potential failures.\n",
      "\n",
      "### Recommendations:\n",
      "- Address the overheating issue as a priority.\n",
      "- Test the battery and charging system.\n",
      "- Inflate tires to the correct pressure and inspect for damage.\n",
      "- Check oil levels and consider an oil change or inspection of the oil system. \n",
      "\n",
      "It is advisable to consult a qualified mechanic to diagnose and resolve these issues effectively. \n",
      "\n",
      "💬 Feedback Summary:\n",
      " Based on the customer feedback provided, the key issues can be summarized as follows:\n",
      "\n",
      "1. **Engine Overheating**: The customer is experiencing problems with the engine overheating, which could indicate potential issues with the cooling system, thermostat, or other engine components.\n",
      "\n",
      "2. **Poor Fuel Efficiency**: The customer reports that the vehicle is not performing well in terms of fuel consumption, suggesting possible issues with the engine, fuel system, or driving habits.\n",
      "\n",
      "3. **Strange Noises When Braking**: The customer has noted unusual sounds when applying the brakes, which could point to problems with the brake pads, rotors, or other braking system components.\n",
      "\n",
      "These issues indicate potential mechanical problems that may require inspection and repair to ensure the vehicle operates safely and efficiently. \n",
      "\n",
      "📚 Recommended Solution:\n",
      " Based on the provided sensor data and customer feedback, here are some relevant maintenance procedures and solutions for the issues identified:\n",
      "\n",
      "### 1. **Engine Overheating (P0128)**\n",
      "   - **Diagnosis**: The P0128 code indicates that the engine coolant temperature is not reaching the expected temperature within a specified time frame. This can lead to overheating.\n",
      "   - **Possible Causes**:\n",
      "     - Faulty thermostat (stuck open)\n",
      "     - Low coolant level or leaks\n",
      "     - Faulty coolant temperature sensor\n",
      "     - Radiator issues (clogged or damaged)\n",
      "     - Water pump failure\n",
      "\n",
      "   - **Maintenance Procedures**:\n",
      "     - **Inspect and Replace Thermostat**: Check if the thermostat is functioning properly. If it is stuck open, replace it.\n",
      "     - **Check Coolant Level**: Ensure the coolant is at the proper level. If low, top it up and check for leaks in the system.\n",
      "     - **Inspect Coolant Temperature Sensor**: Test the sensor for proper operation and replace if faulty.\n",
      "     - **Inspect Radiator**: Check for blockages or damage. Clean or replace as necessary.\n",
      "     - **Check Water Pump**: Ensure the water pump is functioning correctly and replace if it shows signs of failure.\n",
      "\n",
      "### 2. **Low Oil Pressure (18 PSI)**\n",
      "   - **Diagnosis**: Low oil pressure can lead to engine damage and is often caused by low oil levels, a failing oil pump, or a clogged oil filter.\n",
      "   - **Possible Causes**:\n",
      "     - Low oil level\n",
      "     - Worn engine bearings\n",
      "     - Faulty oil pump\n",
      "     - Clogged oil filter\n",
      "\n",
      "   - **Maintenance Procedures**:\n",
      "     - **Check Oil Level**: Verify the oil level and top up if necessary.\n",
      "     - **Inspect Oil Pump**: Test the oil pump for proper operation. Replace if it is not generating adequate pressure.\n",
      "     - **Change Oil and Oil Filter**: If the oil is dirty or old, change the oil and replace the oil filter to ensure proper flow.\n",
      "     - **Inspect Engine Bearings**: If low oil pressure persists, inspect the engine bearings for wear and replace if necessary.\n",
      "\n",
      "### 3. **Tire Pressure**\n",
      "   - **Diagnosis**: Low tire pressure can affect fuel efficiency and handling.\n",
      "   - **Maintenance Procedures**:\n",
      "     - **Check and Inflate Tires**: Measure the tire pressure and inflate to the manufacturer’s recommended levels.\n",
      "     - **Inspect for Leaks**: Check for punctures or leaks that may be causing low pressure.\n",
      "\n",
      "### 4. **Strange Noises When Braking**\n",
      "   - **Diagnosis**: This could indicate worn brake pads, warped rotors, or issues with the brake calipers.\n",
      "   - **Maintenance Procedures**:\n",
      "     - **Inspect Brake Pads and Rotors**: Check for wear on brake pads and inspect rotors for warping or damage. Replace as necessary.\n",
      "     - **Check Brake Calipers**: Ensure calipers are functioning properly and not sticking.\n",
      "\n",
      "### 5. **Poor Fuel Efficiency**\n",
      "   - **Diagnosis**: Poor fuel efficiency can be caused by a variety of factors including engine performance issues, tire pressure, and more.\n",
      "   - **Maintenance Procedures**:\n",
      "     - **Perform a Tune-Up**: Check spark plugs, air filters, and fuel filters. Replace as necessary to improve engine performance.\n",
      "     - **Check for Engine Codes**: Use an OBD-II scanner to check for any additional trouble codes that may indicate performance issues.\n",
      "     - **Inspect Fuel System**: Ensure the fuel injectors are clean and functioning properly.\n",
      "\n",
      "### Conclusion\n",
      "Addressing the overheating issue and low oil pressure is critical to prevent further damage to the engine. Regular maintenance checks, including monitoring sensor data and customer feedback, can help identify and resolve issues promptly. Always refer to the vehicle's service manual for specific procedures and specifications. \n",
      "\n",
      "📋 Diagnostic Summary:\n",
      " ### Unified Maintenance Recommendation\n",
      "\n",
      "Based on the comprehensive diagnostic report that combines sensor analysis, customer feedback, and manual solutions, the following unified maintenance recommendations are provided to address the identified issues effectively:\n",
      "\n",
      "#### 1. **Engine Overheating**\n",
      "   - **Immediate Actions**:\n",
      "     - **Inspect and Replace Thermostat**: Check the thermostat for proper function. If it is stuck open or malfunctioning, replace it.\n",
      "     - **Check Coolant Level**: Verify the coolant level in the reservoir and radiator. If low, top it up and inspect for leaks in the cooling system.\n",
      "     - **Inspect Coolant Temperature Sensor**: Test the sensor for accuracy. Replace if faulty.\n",
      "     - **Radiator Inspection**: Examine the radiator for blockages or damage. Clean or replace as necessary.\n",
      "     - **Water Pump Check**: Ensure the water pump is operational. Replace if it shows signs of failure.\n",
      "\n",
      "#### 2. **Low Oil Pressure (18 PSI)**\n",
      "   - **Immediate Actions**:\n",
      "     - **Check Oil Level**: Verify the oil level using the dipstick. Top up if necessary.\n",
      "     - **Inspect Oil Pump**: Test the oil pump for proper operation. Replace if it is not generating adequate pressure.\n",
      "     - **Change Oil and Oil Filter**: If the oil is dirty or old, perform an oil change and replace the oil filter to ensure proper flow.\n",
      "     - **Inspect Engine Bearings**: If low oil pressure persists, inspect the engine bearings for wear and replace if necessary.\n",
      "\n",
      "#### 3. **Tire Pressure**\n",
      "   - **Immediate Actions**:\n",
      "     - **Check and Inflate Tires**: Measure the tire pressure using a gauge and inflate to the manufacturer’s recommended levels.\n",
      "     - **Inspect for Leaks**: Conduct a thorough inspection of each tire for punctures or leaks. Repair or replace tires as needed.\n",
      "\n",
      "#### 4. **Strange Noises When Braking**\n",
      "   - **Immediate Actions**:\n",
      "     - **Inspect Brake Pads and Rotors**: Examine brake pads for wear and inspect rotors for warping or damage. Replace as necessary.\n",
      "     - **Check Brake Calipers**: Ensure calipers are functioning correctly and not sticking. Repair or replace if needed.\n",
      "\n",
      "#### 5. **Poor Fuel Efficiency**\n",
      "   - **Immediate Actions**:\n",
      "     - **Perform a Tune-Up**: Check and replace spark plugs, air filters, and fuel filters as necessary to improve engine performance.\n",
      "     - **Check for Engine Codes**: Use an OBD-II scanner to identify any additional trouble codes that may indicate performance issues.\n",
      "     - **Inspect Fuel System**: Ensure fuel injectors are clean and functioning properly. Consider using a fuel system cleaner if necessary.\n",
      "\n",
      "### General Recommendations\n",
      "- **Regular Maintenance Schedule**: Establish a routine maintenance schedule to monitor engine performance, fluid levels, and tire conditions.\n",
      "- **Monitor Sensor Data**: Regularly check sensor readings to catch potential issues early.\n",
      "- **Consult a Qualified Mechanic**: For any repairs or inspections beyond basic maintenance, consult a qualified mechanic to ensure proper diagnosis and resolution of issues.\n",
      "\n",
      "### Conclusion\n",
      "Addressing the overheating issue and low oil pressure is critical to prevent further damage to the engine. By following these unified maintenance recommendations, you can enhance vehicle safety, performance, and longevity. Regular checks and timely interventions will help maintain optimal vehicle operation and improve overall driving experience. \n",
      "\n"
     ]
    }
   ],
   "source": [
    "# Review results from state\n",
    "print(\"🔧 Sensor Analysis:\\n\", result_state.get(\"sensor_analysis\"), \"\\n\")\n",
    "print(\"💬 Feedback Summary:\\n\", result_state.get(\"feedback_summary\"), \"\\n\")\n",
    "print(\"📚 Recommended Solution:\\n\", result_state.get(\"recommended_solution\"), \"\\n\")\n",
    "print(\"📋 Diagnostic Summary:\\n\", result_state.get(\"diagnostic_summary\"), \"\\n\")\n"
   ]
  }
 ],
 "metadata": {
  "kernelspec": {
   "display_name": "venv-genai",
   "language": "python",
   "name": "python3"
  },
  "language_info": {
   "codemirror_mode": {
    "name": "ipython",
    "version": 3
   },
   "file_extension": ".py",
   "mimetype": "text/x-python",
   "name": "python",
   "nbconvert_exporter": "python",
   "pygments_lexer": "ipython3",
   "version": "3.13.5"
  }
 },
 "nbformat": 4,
 "nbformat_minor": 5
}
