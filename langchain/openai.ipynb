{
 "cells": [
  {
   "cell_type": "code",
   "execution_count": 3,
   "metadata": {},
   "outputs": [
    {
     "data": {
      "text/plain": [
       "True"
      ]
     },
     "execution_count": 3,
     "metadata": {},
     "output_type": "execute_result"
    }
   ],
   "source": [
    "import os\n",
    "\n",
    "from dotenv import load_dotenv\n",
    "\n",
    "load_dotenv()"
   ]
  },
  {
   "cell_type": "code",
   "execution_count": 57,
   "metadata": {},
   "outputs": [
    {
     "name": "stdout",
     "output_type": "stream",
     "text": [
      "1. Great Wall of China\n",
      "2. Petra, Jordan\n",
      "3. Christ the Redeemer, Brazil\n",
      "4. Machu Picchu, Peru\n",
      "5. Taj Mahal, India\n",
      "6. Colosseum, Italy\n",
      "7. Chichen Itza, Mexico\n",
      "8. Great Pyramid of Giza, Egypt\n"
     ]
    }
   ],
   "source": [
    "from langchain.chat_models import ChatOpenAI\n",
    "from langchain.schema import HumanMessage\n",
    "\n",
    "llm = ChatOpenAI(model=\"gpt-3.5-turbo\")\n",
    "\n",
    "messages = [\n",
    "    HumanMessage(content=\"List 8 wonders of the word\")\n",
    "]\n",
    "\n",
    "result = llm(messages)\n",
    "\n",
    "wonders_list = result.content.split(\"\\n\")\n",
    "\n",
    "for wonder in wonders_list:\n",
    "    print(wonder)"
   ]
  },
  {
   "cell_type": "markdown",
   "metadata": {},
   "source": [
    "## Streaming and Batching\n"
   ]
  },
  {
   "cell_type": "code",
   "execution_count": null,
   "metadata": {},
   "outputs": [
    {
     "name": "stdout",
     "output_type": "stream",
     "text": [
      "\n",
      "1\n",
      ".\n",
      " Great\n",
      " Wall\n",
      " of\n",
      " China\n",
      "\n",
      "\n",
      "2\n",
      ".\n",
      " Petra\n",
      ",\n",
      " Jordan\n",
      "\n",
      "\n",
      "3\n",
      ".\n",
      " Christ\n",
      " the\n",
      " Rede\n",
      "emer\n",
      ",\n",
      " Brazil\n",
      "\n",
      "\n",
      "4\n",
      ".\n",
      " Mach\n",
      "u\n",
      " Pic\n",
      "chu\n",
      ",\n",
      " Peru\n",
      "\n",
      "\n",
      "5\n",
      ".\n",
      " Ch\n",
      "ichen\n",
      " It\n",
      "za\n",
      ",\n",
      " Mexico\n",
      "\n",
      "\n",
      "6\n",
      ".\n",
      " Roman\n",
      " Col\n",
      "os\n",
      "se\n",
      "um\n",
      ",\n",
      " Italy\n",
      "\n",
      "\n",
      "7\n",
      ".\n",
      " Taj\n",
      " Mah\n",
      "al\n",
      ",\n",
      " India\n",
      "\n",
      "\n",
      "8\n",
      ".\n",
      " Great\n",
      " Pyramid\n",
      " of\n",
      " G\n",
      "iza\n",
      ",\n",
      " Egypt\n",
      "\n"
     ]
    }
   ],
   "source": [
    "for chunk in llm.stream(\"8 Wonders of World\"):\n",
    "    print(chunk.content)"
   ]
  },
  {
   "cell_type": "code",
   "execution_count": null,
   "metadata": {},
   "outputs": [
    {
     "name": "stdout",
     "output_type": "stream",
     "text": [
      "2 + 2 equals 4.\n",
      "58.68\n"
     ]
    }
   ],
   "source": [
    "result = llm.batch(\n",
    "    [\n",
    "        \"What's 2 +2 ?\",\n",
    "        \"What's 34.9 + 23.78?\"\n",
    "    ]\n",
    ")\n",
    "for _result in result:\n",
    "    print(_result.content)"
   ]
  },
  {
   "cell_type": "markdown",
   "metadata": {},
   "source": [
    "## System & Human Message"
   ]
  },
  {
   "cell_type": "code",
   "execution_count": null,
   "metadata": {},
   "outputs": [
    {
     "data": {
      "text/plain": [
       "'I am associated with the cricket bat manufacturer, MRF.'"
      ]
     },
     "execution_count": 5,
     "metadata": {},
     "output_type": "execute_result"
    }
   ],
   "source": [
    "from langchain.schema import SystemMessage\n",
    "\n",
    "messages = [\n",
    "    SystemMessage(content=\"You are Virat Kohli\"),\n",
    "    HumanMessage(content=\"Which crickrt bat manufacturer you are associated with?\")\n",
    "]\n",
    "\n",
    "result = llm(messages)\n",
    "result.content"
   ]
  },
  {
   "cell_type": "markdown",
   "metadata": {},
   "source": [
    "## Prompt Template"
   ]
  },
  {
   "cell_type": "code",
   "execution_count": null,
   "metadata": {},
   "outputs": [
    {
     "data": {
      "text/plain": [
       "'Why was the robot so bad at soccer? Because it kept kicking up sparks instead of the ball!'"
      ]
     },
     "execution_count": 6,
     "metadata": {},
     "output_type": "execute_result"
    }
   ],
   "source": [
    "from langchain.prompts import PromptTemplate\n",
    "\n",
    "prompt_template = PromptTemplate.from_template(\n",
    "    \"tell me a {objective} joke about {content}\"\n",
    ")\n",
    "\n",
    "filled_prompt = prompt_template.format(objective=\"funny\", content=\"robots\")\n",
    "\n",
    "response = llm.invoke(filled_prompt)\n",
    "response.content"
   ]
  },
  {
   "cell_type": "markdown",
   "metadata": {},
   "source": [
    "## Chat Prompt Template"
   ]
  },
  {
   "cell_type": "code",
   "execution_count": null,
   "metadata": {},
   "outputs": [
    {
     "name": "stdout",
     "output_type": "stream",
     "text": [
      "You are a helpful AI Mathematics teacher bot. Your name is {name}\n",
      "Hello, How are you doing?\n",
      "I'm doing well, thanks!\n",
      "{math_problem}\n"
     ]
    }
   ],
   "source": [
    "from langchain.prompts import ChatPromptTemplate\n",
    "from langchain_core.messages import SystemMessage, HumanMessage, AIMessage\n",
    "\n",
    "# Defining a chat template with various roles\n",
    "chat_template = ChatPromptTemplate.from_messages(\n",
    "    [\n",
    "        SystemMessage(content=\"You are a helpful AI Mathematics teacher bot. Your name is {name}\"),\n",
    "        HumanMessage(content=\"Hello, How are you doing?\"),\n",
    "        AIMessage(content=\"I'm doing well, thanks!\"),\n",
    "        HumanMessage(content=\"{math_problem}\")\n",
    "    ]\n",
    ")\n",
    "\n",
    "math_problem = input(\"Enter Math problem:\")\n",
    "\n",
    "formatted_messages = chat_template.format_messages(name=\"Bob\", math_problem=math_problem)\n",
    "\n",
    "for message in formatted_messages:\n",
    "    print(message.content)"
   ]
  },
  {
   "cell_type": "markdown",
   "metadata": {},
   "source": [
    "## Output Parsers"
   ]
  },
  {
   "cell_type": "markdown",
   "metadata": {},
   "source": [
    "### Simple Json Parser"
   ]
  },
  {
   "cell_type": "code",
   "execution_count": null,
   "metadata": {},
   "outputs": [
    {
     "data": {
      "text/plain": [
       "{'birth_place': {'Elon Musk': 'Pretoria, South Africa',\n",
       "  'Bill Gates': 'Seattle, Washington, United States'},\n",
       " 'birth_date': {'Elon Musk': 'June 28, 1971',\n",
       "  'Bill Gates': 'October 28, 1955'}}"
      ]
     },
     "execution_count": 8,
     "metadata": {},
     "output_type": "execute_result"
    }
   ],
   "source": [
    "from langchain.prompts import PromptTemplate\n",
    "from langchain.output_parsers.json import SimpleJsonOutputParser\n",
    "\n",
    "json_parser = SimpleJsonOutputParser()\n",
    "\n",
    "template = \"\"\"\n",
    "Answer the user's question:\n",
    "{question}\n",
    "Return the answer as a JSON object with keys 'birth_place' and 'birth_date'.\n",
    "\"\"\"\n",
    "\n",
    "json_prompt = PromptTemplate.from_template(template)\n",
    "\n",
    "json_chain = json_prompt | llm | json_parser\n",
    "\n",
    "input_data = {\"question\": \"When and where were Elon Musk and Bill Gates born?\"}\n",
    "\n",
    "output = json_chain.invoke(input_data)\n",
    "output"
   ]
  },
  {
   "cell_type": "markdown",
   "metadata": {},
   "source": [
    "### CSV Parser"
   ]
  },
  {
   "cell_type": "code",
   "execution_count": null,
   "metadata": {},
   "outputs": [
    {
     "data": {
      "text/plain": [
       "['Afghanistan',\n",
       " 'Kabul',\n",
       " 'August 19',\n",
       " '1919\\nBahrain',\n",
       " 'Manama',\n",
       " 'August 15',\n",
       " '1971\\nBangladesh',\n",
       " 'Dhaka',\n",
       " 'December 16',\n",
       " '1971\\nBhutan',\n",
       " 'Thimphu',\n",
       " 'August 8',\n",
       " '1949\\nBrunei',\n",
       " 'Bandar Seri Begawan',\n",
       " 'January 1',\n",
       " '1984\\nCambodia',\n",
       " 'Phnom Penh',\n",
       " 'November 9',\n",
       " '1953\\nChina',\n",
       " 'Beijing',\n",
       " 'October 1',\n",
       " '1949\\nIndia',\n",
       " 'New Delhi',\n",
       " 'August 15',\n",
       " '1947\\nIndonesia',\n",
       " 'Jakarta',\n",
       " 'August 17',\n",
       " '1945\\nIran',\n",
       " 'Tehran',\n",
       " 'February 1',\n",
       " '1979\\nIraq',\n",
       " 'Baghdad',\n",
       " 'October 3',\n",
       " '1932\\nIsrael',\n",
       " 'Jerusalem',\n",
       " 'May 14',\n",
       " '1948\\nJapan',\n",
       " 'Tokyo',\n",
       " 'May 3',\n",
       " '1947\\nJordan',\n",
       " 'Amman',\n",
       " 'May 25',\n",
       " '1946\\nKazakhstan',\n",
       " 'Nur-Sultan',\n",
       " 'December 16',\n",
       " '1991\\nKuwait',\n",
       " 'Kuwait City',\n",
       " 'June 19',\n",
       " '1961\\nKyrgyzstan',\n",
       " 'Bishkek',\n",
       " 'August 31',\n",
       " '1991\\nLaos',\n",
       " 'Vientiane',\n",
       " 'July 19',\n",
       " '1949\\nLebanon',\n",
       " 'Beirut',\n",
       " 'November 22',\n",
       " '1943\\nMalaysia',\n",
       " 'Kuala Lumpur',\n",
       " 'August 31',\n",
       " '1957\\nMaldives',\n",
       " 'Malé',\n",
       " 'July 26',\n",
       " '1965\\nMongolia',\n",
       " 'Ulaanbaatar',\n",
       " 'December 29',\n",
       " '1911\\nMyanmar',\n",
       " 'Naypyidaw',\n",
       " 'January 4',\n",
       " '1948\\nNepal',\n",
       " 'Kathmandu',\n",
       " 'September 20',\n",
       " '1951\\nNorth Korea',\n",
       " 'Pyongyang',\n",
       " 'September 9',\n",
       " '1948\\nOman',\n",
       " 'Muscat',\n",
       " 'November 18',\n",
       " '1650\\nPakistan',\n",
       " 'Islamabad',\n",
       " 'August 14',\n",
       " '1947\\nPhilippines',\n",
       " 'Manila',\n",
       " 'June 12',\n",
       " '1898\\nQatar',\n",
       " 'Doha',\n",
       " 'September 3',\n",
       " '1971\\nSaudi Arabia',\n",
       " 'Riyadh',\n",
       " 'September 23',\n",
       " '1932\\nSingapore',\n",
       " 'Singapore',\n",
       " 'August 9',\n",
       " '1965\\nSouth Korea',\n",
       " 'Seoul',\n",
       " 'August 15',\n",
       " '1948\\nSri Lanka',\n",
       " 'Colombo',\n",
       " 'February 4',\n",
       " '1948\\nSyria',\n",
       " 'Damascus',\n",
       " 'April 17',\n",
       " '1946\\nTajikistan',\n",
       " 'Dushanbe',\n",
       " 'September 9',\n",
       " '1991\\nThailand',\n",
       " 'Bangkok',\n",
       " 'December 10',\n",
       " '1932\\nTimor-Leste',\n",
       " 'Dili',\n",
       " 'May 20',\n",
       " '2002\\nTurkey',\n",
       " 'Ankara',\n",
       " 'October 29',\n",
       " '1923\\nTurkmenistan',\n",
       " 'Ashgabat',\n",
       " 'October 27',\n",
       " '1991\\nUnited Arab Emirates',\n",
       " 'Abu Dhabi',\n",
       " 'December 2',\n",
       " '1971\\nUzbekistan',\n",
       " 'Tashkent',\n",
       " 'August 31',\n",
       " '1991\\nVietnam',\n",
       " 'Hanoi',\n",
       " 'September 2',\n",
       " '1945\\nYemen',\n",
       " \"Sana'a\",\n",
       " 'May 22',\n",
       " '1990']"
      ]
     },
     "execution_count": 9,
     "metadata": {},
     "output_type": "execute_result"
    }
   ],
   "source": [
    "from langchain.prompts import PromptTemplate\n",
    "from langchain.output_parsers import CommaSeparatedListOutputParser\n",
    "\n",
    "csv_parser = CommaSeparatedListOutputParser()\n",
    "\n",
    "template = \"\"\"\n",
    "Answer the user's question:\n",
    "{question}\n",
    "Return the answer as a comma-separated list with the format: \"Country, Capital, Independence Date\".\n",
    "Only include countries in Asia.\n",
    "\"\"\"\n",
    "\n",
    "csv_prompt = PromptTemplate.from_template(template)\n",
    "\n",
    "csv_chain = csv_prompt | llm | csv_parser\n",
    "\n",
    "input_data = {\"question\": \"Give details of countries in Aisa\"}\n",
    "\n",
    "output = csv_chain.invoke(input_data)\n",
    "output"
   ]
  },
  {
   "cell_type": "markdown",
   "metadata": {},
   "source": [
    "## Retrieval"
   ]
  },
  {
   "cell_type": "code",
   "execution_count": null,
   "metadata": {},
   "outputs": [
    {
     "data": {
      "text/plain": [
       "['Welcome to Smallpdf',\n",
       " 'Digital Documents—All In One Place',\n",
       " 'Access Files Anytime, Anywhere Enhance Documents in One Click ',\n",
       " 'Collaborate With Others With the new Smallpdf experience, you can ',\n",
       " 'freely upload, organize, and share digital ',\n",
       " 'documents. When you enable the ‘Storage’ ',\n",
       " 'option, we’ll also store all processed files here. ',\n",
       " 'You can access files stored on Smallpdf from ',\n",
       " 'your computer, phone, or tablet. We’ll also ',\n",
       " 'sync files from the Smallpdf Mobile App to our ',\n",
       " 'online portalWhen you right-click on a file, we’ll present ',\n",
       " 'you with an array of options to convert, ',\n",
       " 'compress, or modify it. ',\n",
       " 'Forget mundane administrative tasks. With ',\n",
       " 'Smallpdf, you can request e-signatures, send ',\n",
       " 'large files, or even enable the Smallpdf G Suite ',\n",
       " 'App for your entire organization. Ready to take document management to the next level?']"
      ]
     },
     "execution_count": 42,
     "metadata": {},
     "output_type": "execute_result"
    }
   ],
   "source": [
    "from langchain.document_loaders import PyPDFLoader\n",
    "\n",
    "loader = PyPDFLoader(\"/home/arslanhaider/ahs-data/test-pdf.pdf\")\n",
    "\n",
    "pages = loader.load_and_split()\n",
    "\n",
    "pages[0].page_content.split(\"\\n\")"
   ]
  },
  {
   "cell_type": "markdown",
   "metadata": {},
   "source": [
    "## Agent"
   ]
  },
  {
   "cell_type": "code",
   "execution_count": null,
   "metadata": {},
   "outputs": [
    {
     "name": "stdout",
     "output_type": "stream",
     "text": [
      "\n",
      "\n",
      "\u001b[1m> Entering new AgentExecutor chain...\u001b[0m\n",
      "\u001b[32;1m\u001b[1;3mI need to check the weather to see if I can go jogging and then schedule the team meeting.\n",
      "Action: check_weather\n",
      "Action Input: today's date\u001b[0m\n",
      "Observation: \u001b[33;1m\u001b[1;3m{'queryCost': 1, 'latitude': 51.5064, 'longitude': -0.12721, 'resolvedAddress': 'London, England, United Kingdom', 'address': 'London,UK', 'timezone': 'Europe/London', 'tzoffset': 1.0, 'description': 'Similar temperatures continuing with no rain expected.', 'days': [{'datetime': '2024-07-18', 'datetimeEpoch': 1721257200, 'tempmax': 80.5, 'tempmin': 57.8, 'temp': 69.0, 'feelslikemax': 80.5, 'feelslikemin': 57.8, 'feelslike': 69.1, 'dew': 56.2, 'humidity': 65.9, 'precip': 0.0, 'precipprob': 0.0, 'precipcover': 0.0, 'preciptype': ['rain'], 'snow': 0.0, 'snowdepth': 0.0, 'windgust': 21.9, 'windspeed': 10.1, 'winddir': 167.0, 'pressure': 1020.3, 'cloudcover': 70.8, 'visibility': 8.4, 'solarradiation': 247.0, 'solarenergy': 21.4, 'uvindex': 7.0, 'severerisk': 10.0, 'sunrise': '05:05:13', 'sunriseEpoch': 1721275513, 'sunset': '21:07:42', 'sunsetEpoch': 1721333262, 'moonphase': 0.4, 'conditions': 'Partially cloudy', 'description': 'Partly cloudy throughout the day.', 'icon': 'partly-cloudy-day', 'stations': ['EGWU', 'EGLL', 'D5621', 'F6665', 'EGLC'], 'source': 'comb', 'hours': [{'datetime': '00:00:00', 'datetimeEpoch': 1721257200, 'temp': 62.5, 'feelslike': 62.5, 'humidity': 77.28, 'dew': 55.3, 'precip': 0.0, 'precipprob': 0.0, 'snow': 0.0, 'snowdepth': 0.0, 'preciptype': None, 'windgust': 4.5, 'windspeed': 2.9, 'winddir': 134.0, 'pressure': 1021.0, 'visibility': 6.2, 'cloudcover': 7.1, 'solarradiation': 0.0, 'solarenergy': 0.0, 'uvindex': 0.0, 'severerisk': 10.0, 'conditions': 'Clear', 'icon': 'clear-night', 'stations': ['EGWU', 'EGLL', 'D5621', 'EGLC'], 'source': 'obs'}, {'datetime': '01:00:00', 'datetimeEpoch': 1721260800, 'temp': 61.0, 'feelslike': 61.0, 'humidity': 78.24, 'dew': 54.2, 'precip': 0.0, 'precipprob': 0.0, 'snow': 0.0, 'snowdepth': 0.0, 'preciptype': None, 'windgust': 4.3, 'windspeed': 5.1, 'winddir': 192.0, 'pressure': 1021.0, 'visibility': 6.2, 'cloudcover': 91.2, 'solarradiation': 0.0, 'solarenergy': 0.0, 'uvindex': 0.0, 'severerisk': 10.0, 'conditions': 'Overcast', 'icon': 'cloudy', 'stations': ['EGWU', 'EGLL', 'D5621', 'EGLC'], 'source': 'obs'}, {'datetime': '02:00:00', 'datetimeEpoch': 1721264400, 'temp': 59.6, 'feelslike': 59.6, 'humidity': 82.28, 'dew': 54.2, 'precip': 0.0, 'precipprob': 0.0, 'snow': 0.0, 'snowdepth': 0.0, 'preciptype': None, 'windgust': 4.0, 'windspeed': 4.2, 'winddir': 150.0, 'pressure': 1021.0, 'visibility': 6.2, 'cloudcover': 100.0, 'solarradiation': 0.0, 'solarenergy': 0.0, 'uvindex': 0.0, 'severerisk': 10.0, 'conditions': 'Overcast', 'icon': 'cloudy', 'stations': ['EGWU', 'EGLL', 'D5621', 'EGLC'], 'source': 'obs'}, {'datetime': '03:00:00', 'datetimeEpoch': 1721268000, 'temp': 59.6, 'feelslike': 59.6, 'humidity': 82.28, 'dew': 54.2, 'precip': 0.0, 'precipprob': 0.0, 'snow': 0.0, 'snowdepth': 0.0, 'preciptype': None, 'windgust': 3.8, 'windspeed': 3.4, 'winddir': 160.0, 'pressure': 1021.0, 'visibility': 6.2, 'cloudcover': 100.0, 'solarradiation': 0.0, 'solarenergy': 0.0, 'uvindex': 0.0, 'severerisk': 10.0, 'conditions': 'Overcast', 'icon': 'cloudy', 'stations': ['EGWU', 'EGLL', 'D5621', 'EGLC'], 'source': 'obs'}, {'datetime': '04:00:00', 'datetimeEpoch': 1721271600, 'temp': 58.9, 'feelslike': 58.9, 'humidity': 83.22, 'dew': 53.8, 'precip': 0.0, 'precipprob': 0.0, 'snow': 0.0, 'snowdepth': 0.0, 'preciptype': None, 'windgust': 3.1, 'windspeed': 0.6, 'winddir': 33.0, 'pressure': 1020.8, 'visibility': 6.2, 'cloudcover': 50.0, 'solarradiation': 0.0, 'solarenergy': 0.0, 'uvindex': 0.0, 'severerisk': 10.0, 'conditions': 'Partially cloudy', 'icon': 'partly-cloudy-night', 'stations': ['EGWU', 'EGLL', 'D5621', 'EGLC'], 'source': 'obs'}, {'datetime': '05:00:00', 'datetimeEpoch': 1721275200, 'temp': 57.8, 'feelslike': 57.8, 'humidity': 87.76, 'dew': 54.2, 'precip': 0.0, 'precipprob': 0.0, 'snow': 0.0, 'snowdepth': 0.0, 'preciptype': None, 'windgust': 2.2, 'windspeed': 1.3, 'winddir': 206.0, 'pressure': 1021.0, 'visibility': 6.2, 'cloudcover': 100.0, 'solarradiation': 0.0, 'solarenergy': 0.0, 'uvindex': 0.0, 'severerisk': 10.0, 'conditions': 'Overcast', 'icon': 'cloudy', 'stations': ['EGWU', 'EGLL', 'D5621', 'EGLC'], 'source': 'obs'}, {'datetime': '06:00:00', 'datetimeEpoch': 1721278800, 'temp': 58.2, 'feelslike': 58.2, 'humidity': 86.57, 'dew': 54.2, 'precip': 0.0, 'precipprob': 0.0, 'snow': 0.0, 'snowdepth': 0.0, 'preciptype': None, 'windgust': 1.6, 'windspeed': 3.1, 'winddir': 113.0, 'pressure': 1021.0, 'visibility': 6.2, 'cloudcover': 100.0, 'solarradiation': 31.0, 'solarenergy': 0.1, 'uvindex': 0.0, 'severerisk': 10.0, 'conditions': 'Overcast', 'icon': 'cloudy', 'stations': ['EGWU', 'EGLL', 'D5621', 'EGLC'], 'source': 'obs'}, {'datetime': '07:00:00', 'datetimeEpoch': 1721282400, 'temp': 60.0, 'feelslike': 60.0, 'humidity': 85.65, 'dew': 55.7, 'precip': 0.0, 'precipprob': 0.0, 'snow': 0.0, 'snowdepth': 0.0, 'preciptype': None, 'windgust': 3.1, 'windspeed': 2.4, 'winddir': 138.0, 'pressure': 1021.0, 'visibility': 6.2, 'cloudcover': 88.0, 'solarradiation': 50.0, 'solarenergy': 0.2, 'uvindex': 1.0, 'severerisk': 10.0, 'conditions': 'Partially cloudy', 'icon': 'partly-cloudy-day', 'stations': ['EGWU', 'EGLL', 'D5621', 'EGLC'], 'source': 'obs'}, {'datetime': '08:00:00', 'datetimeEpoch': 1721286000, 'temp': 61.8, 'feelslike': 61.8, 'humidity': 80.35, 'dew': 55.7, 'precip': 0.0, 'precipprob': 0.0, 'snow': 0.0, 'snowdepth': 0.0, 'preciptype': None, 'windgust': 4.5, 'windspeed': 1.8, 'winddir': 300.0, 'pressure': 1021.0, 'visibility': 6.2, 'cloudcover': 67.5, 'solarradiation': 120.0, 'solarenergy': 0.4, 'uvindex': 1.0, 'severerisk': 10.0, 'conditions': 'Partially cloudy', 'icon': 'partly-cloudy-day', 'stations': ['EGWU', 'EGLL', 'D5621', 'EGLC'], 'source': 'obs'}, {'datetime': '09:00:00', 'datetimeEpoch': 1721289600, 'temp': 65.4, 'feelslike': 65.4, 'humidity': 70.83, 'dew': 55.7, 'precip': 0.0, 'precipprob': 0.0, 'snow': 0.0, 'snowdepth': 0.0, 'preciptype': None, 'windgust': 4.7, 'windspeed': 3.5, 'winddir': 87.0, 'pressure': 1021.0, 'visibility': 6.2, 'cloudcover': 67.5, 'solarradiation': 199.0, 'solarenergy': 0.7, 'uvindex': 2.0, 'severerisk': 10.0, 'conditions': 'Partially cloudy', 'icon': 'partly-cloudy-day', 'stations': ['EGWU', 'EGLL', 'D5621', 'EGLC'], 'source': 'obs'}, {'datetime': '10:00:00', 'datetimeEpoch': 1721293200, 'temp': 67.9, 'feelslike': 67.9, 'humidity': 64.06, 'dew': 55.3, 'precip': 0.0, 'precipprob': 0.0, 'snow': 0.0, 'snowdepth': 0.0, 'preciptype': None, 'windgust': 4.7, 'windspeed': 3.2, 'winddir': 68.0, 'pressure': 1021.0, 'visibility': 6.2, 'cloudcover': 88.0, 'solarradiation': 285.0, 'solarenergy': 1.0, 'uvindex': 3.0, 'severerisk': 10.0, 'conditions': 'Partially cloudy', 'icon': 'partly-cloudy-day', 'stations': ['EGWU', 'EGLL', 'D5621', 'EGLC'], 'source': 'obs'}, {'datetime': '11:00:00', 'datetimeEpoch': 1721296800, 'temp': 71.5, 'feelslike': 71.5, 'humidity': 61.29, 'dew': 57.5, 'precip': 0.0, 'precipprob': 0.0, 'snow': 0.0, 'snowdepth': 0.0, 'preciptype': None, 'windgust': 6.5, 'windspeed': 4.4, 'winddir': 91.0, 'pressure': 1020.6, 'visibility': 6.2, 'cloudcover': 87.7, 'solarradiation': 574.0, 'solarenergy': 2.1, 'uvindex': 6.0, 'severerisk': 10.0, 'conditions': 'Partially cloudy', 'icon': 'partly-cloudy-day', 'stations': ['EGWU', 'EGLL', 'D5621', 'EGLC'], 'source': 'obs'}, {'datetime': '12:00:00', 'datetimeEpoch': 1721300400, 'temp': 74.8, 'feelslike': 74.8, 'humidity': 57.76, 'dew': 58.9, 'precip': 0.0, 'precipprob': 0.0, 'snow': 0.0, 'snowdepth': 0.0, 'preciptype': None, 'windgust': 11.0, 'windspeed': 6.3, 'winddir': 148.0, 'pressure': 1020.0, 'visibility': 6.2, 'cloudcover': 88.0, 'solarradiation': 380.0, 'solarenergy': 1.4, 'uvindex': 4.0, 'severerisk': 10.0, 'conditions': 'Partially cloudy', 'icon': 'partly-cloudy-day', 'stations': ['EGWU', 'EGLL', 'D5621', 'EGLC'], 'source': 'obs'}, {'datetime': '13:00:00', 'datetimeEpoch': 1721304000, 'temp': 78.0, 'feelslike': 78.0, 'humidity': 49.91, 'dew': 57.8, 'precip': 0.0, 'precipprob': 0.0, 'snow': 0.0, 'snowdepth': 0.0, 'preciptype': ['rain'], 'windgust': 16.1, 'windspeed': 5.8, 'winddir': 176.0, 'pressure': 1020.0, 'visibility': 6.2, 'cloudcover': 50.0, 'solarradiation': 663.0, 'solarenergy': 2.4, 'uvindex': 7.0, 'severerisk': 10.0, 'conditions': 'Partially cloudy', 'icon': 'partly-cloudy-day', 'stations': ['EGWU', 'EGLL', 'F6665', 'EGLC'], 'source': 'obs'}, {'datetime': '14:00:00', 'datetimeEpoch': 1721307600, 'temp': 79.1, 'feelslike': 79.1, 'humidity': 48.82, 'dew': 58.2, 'precip': 0.0, 'precipprob': 0.0, 'snow': 0.0, 'snowdepth': 0.0, 'preciptype': None, 'windgust': 17.9, 'windspeed': 9.6, 'winddir': 190.0, 'pressure': 1020.0, 'visibility': 6.2, 'cloudcover': 25.0, 'solarradiation': 717.0, 'solarenergy': 2.6, 'uvindex': 7.0, 'severerisk': 10.0, 'conditions': 'Partially cloudy', 'icon': 'partly-cloudy-day', 'stations': ['EGWU', 'EGLL', 'F6665', 'EGLC'], 'source': 'obs'}, {'datetime': '15:00:00', 'datetimeEpoch': 1721311200, 'temp': 80.1, 'feelslike': 80.4, 'humidity': 44.14, 'dew': 56.3, 'precip': 0.0, 'precipprob': 0.0, 'snow': 0.0, 'snowdepth': 0.0, 'preciptype': None, 'windgust': 18.1, 'windspeed': 9.4, 'winddir': 188.0, 'pressure': 1019.8, 'visibility': 6.2, 'cloudcover': 36.5, 'solarradiation': 694.0, 'solarenergy': 2.5, 'uvindex': 7.0, 'severerisk': 10.0, 'conditions': 'Partially cloudy', 'icon': 'partly-cloudy-day', 'stations': ['EGWU', 'EGLL', 'F6665', 'EGLC'], 'source': 'obs'}, {'datetime': '16:00:00', 'datetimeEpoch': 1721314800, 'temp': 80.1, 'feelslike': 80.3, 'humidity': 43.11, 'dew': 55.7, 'precip': 0.0, 'precipprob': 0.0, 'snow': 0.0, 'snowdepth': 0.0, 'preciptype': None, 'windgust': 17.9, 'windspeed': 10.1, 'winddir': 202.0, 'pressure': 1019.0, 'visibility': 6.2, 'cloudcover': 93.2, 'solarradiation': 688.0, 'solarenergy': 2.5, 'uvindex': 7.0, 'severerisk': 10.0, 'conditions': 'Overcast', 'icon': 'cloudy', 'stations': ['EGWU', 'EGLL', 'F6665', 'EGLC'], 'source': 'obs'}, {'datetime': '17:00:00', 'datetimeEpoch': 1721318400, 'temp': 80.5, 'feelslike': 80.5, 'humidity': 41.99, 'dew': 55.3, 'precip': 0.0, 'precipprob': 0.0, 'snow': 0.0, 'snowdepth': 0.0, 'preciptype': None, 'windgust': 21.9, 'windspeed': 8.5, 'winddir': 192.0, 'pressure': 1019.0, 'visibility': 6.2, 'cloudcover': 71.8, 'solarradiation': 565.0, 'solarenergy': 2.0, 'uvindex': 6.0, 'severerisk': 10.0, 'conditions': 'Partially cloudy', 'icon': 'partly-cloudy-day', 'stations': ['EGWU', 'EGLL', 'F6665', 'EGLC'], 'source': 'obs'}, {'datetime': '18:00:00', 'datetimeEpoch': 1721322000, 'temp': 77.3, 'feelslike': 77.3, 'humidity': 48.26, 'dew': 56.2, 'precip': 0.0, 'precipprob': 0.0, 'snow': 0.0, 'snowdepth': 0.0, 'preciptype': None, 'windgust': 16.1, 'windspeed': 6.0, 'winddir': 174.6, 'pressure': 1019.0, 'visibility': 15.0, 'cloudcover': 53.7, 'solarradiation': 464.0, 'solarenergy': 1.7, 'uvindex': 5.0, 'severerisk': 10.0, 'conditions': 'Partially cloudy', 'icon': 'partly-cloudy-day', 'stations': None, 'source': 'fcst'}, {'datetime': '19:00:00', 'datetimeEpoch': 1721325600, 'temp': 76.2, 'feelslike': 76.2, 'humidity': 50.67, 'dew': 56.6, 'precip': 0.0, 'precipprob': 0.0, 'snow': 0.0, 'snowdepth': 0.0, 'preciptype': None, 'windgust': 15.2, 'windspeed': 5.6, 'winddir': 172.5, 'pressure': 1019.0, 'visibility': 15.0, 'cloudcover': 72.7, 'solarradiation': 308.0, 'solarenergy': 1.1, 'uvindex': 3.0, 'severerisk': 10.0, 'conditions': 'Partially cloudy', 'icon': 'partly-cloudy-day', 'stations': None, 'source': 'fcst'}, {'datetime': '20:00:00', 'datetimeEpoch': 1721329200, 'temp': 74.6, 'feelslike': 74.6, 'humidity': 55.97, 'dew': 57.8, 'precip': 0.0, 'precipprob': 0.0, 'snow': 0.0, 'snowdepth': 0.0, 'preciptype': None, 'windgust': 13.6, 'windspeed': 4.3, 'winddir': 162.2, 'pressure': 1019.0, 'visibility': 15.0, 'cloudcover': 79.9, 'solarradiation': 157.0, 'solarenergy': 0.6, 'uvindex': 2.0, 'severerisk': 10.0, 'conditions': 'Partially cloudy', 'icon': 'partly-cloudy-day', 'stations': None, 'source': 'fcst'}, {'datetime': '21:00:00', 'datetimeEpoch': 1721332800, 'temp': 72.6, 'feelslike': 72.6, 'humidity': 62.99, 'dew': 59.3, 'precip': 0.0, 'precipprob': 0.0, 'snow': 0.0, 'snowdepth': 0.0, 'preciptype': None, 'windgust': 10.3, 'windspeed': 2.5, 'winddir': 152.4, 'pressure': 1020.0, 'visibility': 15.0, 'cloudcover': 73.1, 'solarradiation': 34.0, 'solarenergy': 0.1, 'uvindex': 0.0, 'severerisk': 10.0, 'conditions': 'Partially cloudy', 'icon': 'partly-cloudy-day', 'stations': None, 'source': 'fcst'}, {'datetime': '22:00:00', 'datetimeEpoch': 1721336400, 'temp': 70.6, 'feelslike': 70.6, 'humidity': 67.79, 'dew': 59.4, 'precip': 0.0, 'precipprob': 0.0, 'snow': 0.0, 'snowdepth': 0.0, 'preciptype': None, 'windgust': 5.4, 'windspeed': 2.2, 'winddir': 142.1, 'pressure': 1020.0, 'visibility': 15.0, 'cloudcover': 62.6, 'solarradiation': 0.0, 'solarenergy': 0.0, 'uvindex': 0.0, 'severerisk': 10.0, 'conditions': 'Partially cloudy', 'icon': 'partly-cloudy-night', 'stations': None, 'source': 'fcst'}, {'datetime': '23:00:00', 'datetimeEpoch': 1721340000, 'temp': 68.8, 'feelslike': 68.8, 'humidity': 69.36, 'dew': 58.4, 'precip': 0.0, 'precipprob': 0.0, 'snow': 0.0, 'snowdepth': 0.0, 'preciptype': None, 'windgust': 4.3, 'windspeed': 2.2, 'winddir': 142.4, 'pressure': 1020.0, 'visibility': 15.0, 'cloudcover': 46.1, 'solarradiation': 0.0, 'solarenergy': 0.0, 'uvindex': 0.0, 'severerisk': 10.0, 'conditions': 'Partially cloudy', 'icon': 'partly-cloudy-night', 'stations': None, 'source': 'fcst'}]}], 'alerts': [], 'stations': {'EGWU': {'distance': 20850.0, 'latitude': 51.55, 'longitude': -0.42, 'useCount': 0, 'id': 'EGWU', 'name': 'EGWU', 'quality': 50, 'contribution': 0.0}, 'EGLC': {'distance': 12300.0, 'latitude': 51.5, 'longitude': 0.05, 'useCount': 0, 'id': 'EGLC', 'name': 'EGLC', 'quality': 50, 'contribution': 0.0}, 'EGLL': {'distance': 22564.0, 'latitude': 51.48, 'longitude': -0.45, 'useCount': 0, 'id': 'EGLL', 'name': 'EGLL', 'quality': 50, 'contribution': 0.0}, 'D5621': {'distance': 11192.0, 'latitude': 51.535, 'longitude': 0.028, 'useCount': 0, 'id': 'D5621', 'name': 'DW5621 Upton Park UK', 'quality': 0, 'contribution': 0.0}, 'F6665': {'distance': 14583.0, 'latitude': 51.437, 'longitude': 0.051, 'useCount': 0, 'id': 'F6665', 'name': 'FW6665 Mottingham UK', 'quality': 0, 'contribution': 0.0}, 'F8628': {'distance': 14897.0, 'latitude': 51.612, 'longitude': 0.005, 'useCount': 0, 'id': 'F8628', 'name': 'M0BPQ Chingford UK', 'quality': 0, 'contribution': 0.0}}, 'currentConditions': {'datetime': '17:20:00', 'datetimeEpoch': 1721319600, 'temp': 82.5, 'feelslike': 82.1, 'humidity': 41.6, 'dew': 56.8, 'precip': 0.0, 'precipprob': 0.0, 'snow': 0.0, 'snowdepth': 0.0, 'preciptype': None, 'windgust': 4.0, 'windspeed': 4.4, 'winddir': 206.0, 'pressure': 1019.0, 'visibility': 6.2, 'cloudcover': 71.8, 'solarradiation': 565.0, 'solarenergy': 2.0, 'uvindex': 6.0, 'conditions': 'Partially cloudy', 'icon': 'partly-cloudy-day', 'stations': ['F6665', 'EGLC', 'F8628'], 'source': 'obs', 'sunrise': '05:05:13', 'sunriseEpoch': 1721275513, 'sunset': '21:07:42', 'sunsetEpoch': 1721333262, 'moonphase': 0.4}}\u001b[0m\n",
      "Thought:\u001b[32;1m\u001b[1;3mThe weather forecast shows that it is partially cloudy throughout the day, so I can go jogging.\n",
      "Action: add_to_calendar\n",
      "Action Input: Jogging\u001b[0mAdding task to calendar: Jogging\n",
      "\n",
      "Observation: \u001b[38;5;200m\u001b[1;3mTask Jogging added to calendar.\u001b[0m\n",
      "Thought:\u001b[32;1m\u001b[1;3mI need to schedule my team meeting now.\n",
      "Action: add_to_calendar\n",
      "Action Input: Team Meeting\u001b[0mAdding task to calendar: Team Meeting\n",
      "\n",
      "Observation: \u001b[38;5;200m\u001b[1;3mTask Team Meeting added to calendar.\u001b[0m\n",
      "Thought:\u001b[32;1m\u001b[1;3mI now know my tasks for today. Time to get jogging and prepare for the team meeting.\n",
      "Final Answer: Jogging and Team Meeting tasks scheduled for today.\u001b[0m\n",
      "\n",
      "\u001b[1m> Finished chain.\u001b[0m\n",
      "{'input': 'Manage my tasks for today. Check if I can go jogging, and schedule my team meeting.', 'output': 'Jogging and Team Meeting tasks scheduled for today.'}\n"
     ]
    }
   ],
   "source": [
    "import json\n",
    "from datetime import datetime\n",
    "\n",
    "import requests\n",
    "from langchain.agents import initialize_agent, Tool\n",
    "\n",
    "# Define tools as functions\n",
    "def read_tasks_from_file(input):\n",
    "    with open('tasks.json', 'r') as file:\n",
    "        tasks = json.load(file)\n",
    "    return tasks\n",
    "\n",
    "def check_weather(date):\n",
    "    response = requests.get(f\"https://weather.visualcrossing.com/VisualCrossingWebServices/rest/services/timeline/London,UK/{datetime.now().strftime('%Y-%m-%d')}?key={os.getenv('WEATHER_API_KEY')}\")\n",
    "    return response.json()\n",
    "\n",
    "def add_to_calendar(task):\n",
    "    print(f\"Adding task to calendar: {task}\")\n",
    "    return f\"Task {task} added to calendar.\"\n",
    "\n",
    "# Define the tools for the agent\n",
    "tools = [\n",
    "    Tool(\n",
    "        name=\"read_tasks_from_file\",\n",
    "        func=read_tasks_from_file,\n",
    "        description=\"Reads tasks from a local JSON file\"\n",
    "    ),\n",
    "    Tool(\n",
    "        name=\"check_weather\",\n",
    "        func=check_weather,\n",
    "        description=\"Checks the weather forecast for a given date\"\n",
    "    ),\n",
    "    Tool(\n",
    "        name=\"add_to_calendar\",\n",
    "        func=add_to_calendar,\n",
    "        description=\"Adds a task to the calendar\"\n",
    "    )\n",
    "]\n",
    "\n",
    "agent = initialize_agent(tools, llm, agent=\"zero-shot-react-description\", verbose=True)\n",
    "\n",
    "\n",
    "sample_tasks = [\n",
    "    {\"title\": \"Buy groceries\", \"tags\": [\"shopping\"]},\n",
    "    {\"title\": \"Jogging\", \"tags\": [\"outdoor\", \"exercise\"]},\n",
    "    {\"title\": \"Team meeting\", \"tags\": [\"work\"]},\n",
    "]\n",
    "with open('tasks.json', 'w') as file:\n",
    "    json.dump(sample_tasks, file)\n",
    "\n",
    "input_text = \"Manage my tasks for today. Check if I can go jogging, and schedule my team meeting.\"\n",
    "\n",
    "# Plan and execute the tasks\n",
    "result = agent(input_text)\n",
    "\n",
    "# Display the result\n",
    "print(result)\n"
   ]
  },
  {
   "cell_type": "markdown",
   "metadata": {},
   "source": [
    "### Use Built-in Tools for Agents"
   ]
  },
  {
   "cell_type": "code",
   "execution_count": 48,
   "metadata": {},
   "outputs": [
    {
     "name": "stdout",
     "output_type": "stream",
     "text": [
      "\n",
      "\n",
      "\u001b[1m> Entering new AgentExecutor chain...\u001b[0m\n",
      "\u001b[32;1m\u001b[1;3mI need to search for the cricket or football match today and see if there is a match happening.\n",
      "Action: web_search\n",
      "Action Input: \"cricket match today\" or \"football match today\"\u001b[0m\n",
      "Observation: \u001b[36;1m\u001b[1;3mCheck live score, live cricket scorecard, upcoming cricket matches and latest news and videos for today's live cricket matches on ESPN cricinfo. Cricket Matches; Football Matches; All Matches; India Matches. T20 WC 2024 ... Team India have a chance to clinch the five-match T20I series against Zimbabwe today, as they play the fourth T20I. Cricket Matches; Football Matches; All Matches; India Matches. T20 WC 2024 ... Get the Latest India tour of Zimbabwe, 2024 Updates, check out cricket news and Euro Cup 2024 at NDTV Sports. Follow our live cricket update for in-depth match coverage and exciting highlights from India vs Pakistan 12th Match in Ahmedabad on ESPNcricinfo. Follow our live cricket update for in-depth match coverage and exciting highlights from India vs Pakistan 9th Match, Super Four in Colombo on ESPNcricinfo. ... For the match to be completed today ...\u001b[0m\n",
      "Thought:\u001b[32;1m\u001b[1;3mI need to check if there is a cricket match happening today.\n",
      "Action: web_search\n",
      "Action Input: \"cricket match today\"\u001b[0m\n",
      "Observation: \u001b[36;1m\u001b[1;3mCheck live score, live cricket scorecard, upcoming cricket matches and latest news and videos for today's live cricket matches on ESPN cricinfo. Get Live Cricket Scores, Ball By Ball Commentary, Latest Cricket and Scorecard Updates of all International and domestic cricket matches & related News Wed 10 Jul 2024 - Sun 14 Jul 2024, Men's International Test Match Series - Day 5 of 5 Shami is now also the leading wicket-taker for India in World Cups, going past Zaheer Khan and Javagal Srinath's tally of 44 each. It took Zaheer Khan 23 matches and Srinath 34; Shami has broken ... Follow our live cricket update for in-depth match coverage and exciting highlights from India vs Pakistan 12th Match in Ahmedabad on ESPNcricinfo.\u001b[0m\n",
      "Thought:\u001b[32;1m\u001b[1;3mI need to check if there is a football match happening today.\n",
      "Action: web_search\n",
      "Action Input: \"football match today\"\u001b[0m\n",
      "Observation: \u001b[36;1m\u001b[1;3mFind out the results and standings of all today's soccer matches from various leagues and tournaments. See the latest scores, goals, cards, and stats for each game on BeSoccer. Live Soccer TV - Football TV Listings, Official Live Streams, Live Soccer Scores, Fixtures, Tables, Results, News, Pubs and Video Highlights. ... Upcoming Top Matches. Jul 20 · Manchester United - Rangers. Jul 23 · Manchester City - Celtic. Jul 24 · Chelsea - Wrexham. Find out the latest results of all today's football matches from various leagues and tournaments around the world. See the scores, standings, statistics and news of your favorite teams and players on BeSoccer. If you are looking for the latest and most comprehensive football fixtures for today, you have come to the right place. The Sportsman's live football centre offers you all the information you need to follow your favourite teams and leagues from around the world. Whether you are interested in the Premier League, the Liga Mx, the Erovnuli Liga or any other competition, you can find the dates ... USA TODAY Sports provided updates and highlights from Sunday night's match in Miami: Highlights of Argentina's win over Colombia Argentina won a record 16th Copa America title by beating Colombia ...\u001b[0m\n",
      "Thought:\u001b[32;1m\u001b[1;3mI need to set up a meeting since there are no cricket or football matches happening today.\n",
      "Action: add_to_calendar\n",
      "Action Input: \"Schedule meeting\"\u001b[0mAdding task to calendar: Schedule meeting\n",
      "\n",
      "Observation: \u001b[33;1m\u001b[1;3mTask Schedule meeting added to calendar.\u001b[0m\n",
      "Thought:\u001b[32;1m\u001b[1;3mI now know the final answer. \n",
      "\n",
      "Final Answer: There are no cricket or football matches happening today, so a meeting has been scheduled.\u001b[0m\n",
      "\n",
      "\u001b[1m> Finished chain.\u001b[0m\n",
      "{'input': 'Search for the cricket or football match today. if there is a match then displays the match details otherwise schedule a meeting', 'output': 'There are no cricket or football matches happening today, so a meeting has been scheduled.'}\n"
     ]
    }
   ],
   "source": [
    "# calculator Tool\n",
    "from langchain.agents import initialize_agent, Tool\n",
    "from langchain.tools import DuckDuckGoSearchRun\n",
    "\n",
    "# Initialize the DuckDuckGoSearchRun tool\n",
    "duckduckgo_tool = DuckDuckGoSearchRun()\n",
    "\n",
    "# Define a tool for performing a web search\n",
    "def perform_web_search(query):\n",
    "    try:\n",
    "        search_results = duckduckgo_tool.run(query)\n",
    "        return search_results\n",
    "    except Exception as e:\n",
    "        return f\"Error: {str(e)}\"\n",
    "    \n",
    "tools = [\n",
    "    Tool(\n",
    "        name=\"web_search\",\n",
    "        func=perform_web_search,\n",
    "        description=\"Performs a web search using DuckDuckGo\"\n",
    "    ),\n",
    "    Tool(\n",
    "        name=\"add_to_calendar\",\n",
    "        func=add_to_calendar,\n",
    "        description=\"Adds a task to the calendar\"\n",
    "    )\n",
    "]\n",
    "\n",
    "agent = initialize_agent(tools, llm, agent=\"zero-shot-react-description\", verbose=True)\n",
    "\n",
    "# Input for the agent\n",
    "input_text = \"Search for the cricket or football match today. if there is a match then displays the match details otherwise schedule a meeting\"\n",
    "\n",
    "# Plan and execute the task\n",
    "result = agent(input_text)\n",
    "\n",
    "print(result)"
   ]
  },
  {
   "cell_type": "markdown",
   "metadata": {},
   "source": [
    "## Chains & Memory\n",
    "\n",
    "- Large Language Models are stateless.\n",
    "- Each transaction is independent\n",
    "- Chatbots appear to have memory by providing the full conversation as context\n"
   ]
  },
  {
   "cell_type": "markdown",
   "metadata": {},
   "source": [
    "### LCEL (Langchain Expression Language)"
   ]
  },
  {
   "cell_type": "code",
   "execution_count": 29,
   "metadata": {},
   "outputs": [
    {
     "name": "stdout",
     "output_type": "stream",
     "text": [
      "Input: Hi, I need help with my account.\n",
      "Response: Of course! I'm here to help. What specific issue are you experiencing with your account? \n",
      "\n",
      "Input: I forgot my password.\n",
      "Response: I can help you with that. Please provide me with your account information so I can assist you in resetting your password. \n",
      "\n",
      "Input: Can you help me reset it?\n",
      "Response: AI: Of course! I can help you reset your password. Please provide me with your account information so we can proceed with the reset. \n",
      "\n",
      "Input: username: arslanhaider95\n",
      "Response: I'm sorry, but I am unable to help with password resets through this platform. Please contact the customer support team for assistance with resetting your password. \n",
      "\n"
     ]
    }
   ],
   "source": [
    "from langchain.prompts import PromptTemplate\n",
    "from langchain.chat_models import ChatOpenAI\n",
    "from langchain.memory import ConversationBufferMemory\n",
    "\n",
    "llm = ChatOpenAI(model=\"gpt-3.5-turbo\")\n",
    "\n",
    "memory = ConversationBufferMemory(memory_key=\"chat_history\", output_key=\"response\")\n",
    "\n",
    "prompt = PromptTemplate(\n",
    "    input_variables=[\"user_input\", \"history\"],\n",
    "    template=\"You are a helpful assistant. You have the following conversation history: {history}. Respond to the user's input: {user_input}\"\n",
    ")\n",
    "\n",
    "chain = prompt | llm\n",
    "\n",
    "user_inputs = [\n",
    "    \"Hi, I need help with my account.\",\n",
    "    \"I forgot my password.\",\n",
    "    \"Can you help me reset it?\",\n",
    "    \"username: arslanhaider95\"\n",
    "]\n",
    "\n",
    "for user_input in user_inputs:\n",
    "    response = chain.invoke({\"user_input\": user_input, \"history\": memory.load_memory_variables({}).get(\"chat_history\", \"\")})\n",
    "    print(\"Input:\", user_input)\n",
    "    print(\"Response:\", response.content + \" \\n\")\n",
    "    memory.save_context({\"user_input\": user_input}, {\"response\": []})"
   ]
  },
  {
   "cell_type": "code",
   "execution_count": 31,
   "metadata": {},
   "outputs": [
    {
     "name": "stdout",
     "output_type": "stream",
     "text": [
      "\n",
      "Complete Conversation History:\n",
      "\n",
      "Human: Hi, I need help with my account.\n",
      "AI: []\n",
      "Human: I forgot my password.\n",
      "AI: []\n",
      "Human: Can you help me reset it?\n",
      "AI: []\n",
      "Human: username: arslanhaider95\n",
      "AI: []\n"
     ]
    }
   ],
   "source": [
    "# Display the entire conversation history\n",
    "print(\"\\nComplete Conversation History:\\n\")\n",
    "print(memory.load_memory_variables({})[\"chat_history\"])"
   ]
  },
  {
   "cell_type": "markdown",
   "metadata": {},
   "source": [
    "### Conversation Buffer Memory "
   ]
  },
  {
   "cell_type": "code",
   "execution_count": 5,
   "metadata": {},
   "outputs": [],
   "source": [
    "from langchain.chat_models import ChatOpenAI\n",
    "from langchain.chains import ConversationChain\n",
    "from langchain.memory import ConversationBufferMemory\n",
    "\n",
    "\n",
    "llm = ChatOpenAI(temperature=0.0)\n",
    "\n",
    "memory = ConversationBufferMemory()\n",
    "\n",
    "conversation = ConversationChain(\n",
    "    llm=llm,\n",
    "    memory=memory,\n",
    "    verbose=True\n",
    ")"
   ]
  },
  {
   "cell_type": "code",
   "execution_count": 6,
   "metadata": {},
   "outputs": [
    {
     "name": "stdout",
     "output_type": "stream",
     "text": [
      "\n",
      "\n",
      "\u001b[1m> Entering new ConversationChain chain...\u001b[0m\n",
      "Prompt after formatting:\n",
      "\u001b[32;1m\u001b[1;3mThe following is a friendly conversation between a human and an AI. The AI is talkative and provides lots of specific details from its context. If the AI does not know the answer to a question, it truthfully says it does not know.\n",
      "\n",
      "Current conversation:\n",
      "\n",
      "Human: Hi, My name is Arslan\n",
      "AI:\u001b[0m\n",
      "\n",
      "\u001b[1m> Finished chain.\u001b[0m\n"
     ]
    },
    {
     "data": {
      "text/plain": [
       "\"Hello Arslan! It's nice to meet you. How can I assist you today?\""
      ]
     },
     "execution_count": 6,
     "metadata": {},
     "output_type": "execute_result"
    }
   ],
   "source": [
    "conversation.predict(input=\"Hi, My name is Arslan\")"
   ]
  },
  {
   "cell_type": "code",
   "execution_count": 7,
   "metadata": {},
   "outputs": [
    {
     "name": "stdout",
     "output_type": "stream",
     "text": [
      "\n",
      "\n",
      "\u001b[1m> Entering new ConversationChain chain...\u001b[0m\n",
      "Prompt after formatting:\n",
      "\u001b[32;1m\u001b[1;3mThe following is a friendly conversation between a human and an AI. The AI is talkative and provides lots of specific details from its context. If the AI does not know the answer to a question, it truthfully says it does not know.\n",
      "\n",
      "Current conversation:\n",
      "Human: Hi, My name is Arslan\n",
      "AI: Hello Arslan! It's nice to meet you. How can I assist you today?\n",
      "Human: What is 1 + 1?\n",
      "AI:\u001b[0m\n",
      "\n",
      "\u001b[1m> Finished chain.\u001b[0m\n"
     ]
    },
    {
     "data": {
      "text/plain": [
       "'1 + 1 equals 2. Is there anything else you would like to know?'"
      ]
     },
     "execution_count": 7,
     "metadata": {},
     "output_type": "execute_result"
    }
   ],
   "source": [
    "conversation.predict(input=\"What is 1 + 1?\")"
   ]
  },
  {
   "cell_type": "code",
   "execution_count": 9,
   "metadata": {},
   "outputs": [
    {
     "name": "stdout",
     "output_type": "stream",
     "text": [
      "\n",
      "\n",
      "\u001b[1m> Entering new ConversationChain chain...\u001b[0m\n",
      "Prompt after formatting:\n",
      "\u001b[32;1m\u001b[1;3mThe following is a friendly conversation between a human and an AI. The AI is talkative and provides lots of specific details from its context. If the AI does not know the answer to a question, it truthfully says it does not know.\n",
      "\n",
      "Current conversation:\n",
      "Human: Hi, My name is Arslan\n",
      "AI: Hello Arslan! It's nice to meet you. How can I assist you today?\n",
      "Human: What is 1 + 1?\n",
      "AI: 1 + 1 equals 2. Is there anything else you would like to know?\n",
      "Human: What is my name?\n",
      "AI:\u001b[0m\n",
      "\n",
      "\u001b[1m> Finished chain.\u001b[0m\n"
     ]
    },
    {
     "data": {
      "text/plain": [
       "'Your name is Arslan.'"
      ]
     },
     "execution_count": 9,
     "metadata": {},
     "output_type": "execute_result"
    }
   ],
   "source": [
    "conversation.predict(input=\"What is my name?\")"
   ]
  },
  {
   "cell_type": "code",
   "execution_count": 11,
   "metadata": {},
   "outputs": [
    {
     "name": "stdout",
     "output_type": "stream",
     "text": [
      "Human: Hi, My name is Arslan\n",
      "AI: Hello Arslan! It's nice to meet you. How can I assist you today?\n",
      "Human: What is 1 + 1?\n",
      "AI: 1 + 1 equals 2. Is there anything else you would like to know?\n",
      "Human: What is my name?\n",
      "AI: Your name is Arslan.\n"
     ]
    }
   ],
   "source": [
    "print(memory.buffer)"
   ]
  },
  {
   "cell_type": "code",
   "execution_count": 13,
   "metadata": {},
   "outputs": [
    {
     "data": {
      "text/plain": [
       "{'history': \"Human: Hi, My name is Arslan\\nAI: Hello Arslan! It's nice to meet you. How can I assist you today?\\nHuman: What is 1 + 1?\\nAI: 1 + 1 equals 2. Is there anything else you would like to know?\\nHuman: What is my name?\\nAI: Your name is Arslan.\"}"
      ]
     },
     "execution_count": 13,
     "metadata": {},
     "output_type": "execute_result"
    }
   ],
   "source": [
    "memory.load_memory_variables({})"
   ]
  }
 ],
 "metadata": {
  "kernelspec": {
   "display_name": "langchain-venv",
   "language": "python",
   "name": "python3"
  },
  "language_info": {
   "codemirror_mode": {
    "name": "ipython",
    "version": 3
   },
   "file_extension": ".py",
   "mimetype": "text/x-python",
   "name": "python",
   "nbconvert_exporter": "python",
   "pygments_lexer": "ipython3",
   "version": "3.12.5"
  }
 },
 "nbformat": 4,
 "nbformat_minor": 2
}
