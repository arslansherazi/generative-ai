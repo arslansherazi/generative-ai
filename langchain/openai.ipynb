{
 "cells": [
  {
   "cell_type": "code",
   "execution_count": 43,
   "metadata": {},
   "outputs": [
    {
     "data": {
      "text/plain": [
       "True"
      ]
     },
     "execution_count": 43,
     "metadata": {},
     "output_type": "execute_result"
    }
   ],
   "source": [
    "from dotenv import load_dotenv\n",
    "\n",
    "load_dotenv()"
   ]
  },
  {
   "cell_type": "code",
   "execution_count": 24,
   "metadata": {},
   "outputs": [
    {
     "name": "stdout",
     "output_type": "stream",
     "text": [
      "1. Great Wall of China\n",
      "2. Petra, Jordan\n",
      "3. Christ the Redeemer, Brazil\n",
      "4. Taj Mahal, India\n",
      "5. Machu Picchu, Peru\n",
      "6. Chichen Itza, Mexico\n",
      "7. Colosseum, Italy\n",
      "8. Statue of Liberty, United States\n"
     ]
    }
   ],
   "source": [
    "from langchain.chat_models import ChatOpenAI\n",
    "from langchain.schema import HumanMessage\n",
    "\n",
    "llm = ChatOpenAI(model=\"gpt-3.5-turbo\")\n",
    "\n",
    "messages = [\n",
    "    HumanMessage(content=\"List 8 wonders of the word\")\n",
    "]\n",
    "\n",
    "result = llm(messages)\n",
    "\n",
    "wonders_list = result.content.split(\"\\n\")\n",
    "\n",
    "for wonder in wonders_list:\n",
    "    print(wonder)"
   ]
  },
  {
   "cell_type": "markdown",
   "metadata": {},
   "source": [
    "### Streaming and Batching\n"
   ]
  },
  {
   "cell_type": "code",
   "execution_count": 21,
   "metadata": {},
   "outputs": [
    {
     "name": "stdout",
     "output_type": "stream",
     "text": [
      "\n",
      "1\n",
      ".\n",
      " Great\n",
      " Wall\n",
      " of\n",
      " China\n",
      "\n",
      "\n",
      "2\n",
      ".\n",
      " Petra\n",
      ",\n",
      " Jordan\n",
      "\n",
      "\n",
      "3\n",
      ".\n",
      " Christ\n",
      " the\n",
      " Rede\n",
      "emer\n",
      ",\n",
      " Brazil\n",
      "\n",
      "\n",
      "4\n",
      ".\n",
      " Mach\n",
      "u\n",
      " Pic\n",
      "chu\n",
      ",\n",
      " Peru\n",
      "\n",
      "\n",
      "5\n",
      ".\n",
      " Ch\n",
      "ichen\n",
      " It\n",
      "za\n",
      ",\n",
      " Mexico\n",
      "\n",
      "\n",
      "6\n",
      ".\n",
      " Col\n",
      "os\n",
      "se\n",
      "um\n",
      ",\n",
      " Italy\n",
      "\n",
      "\n",
      "7\n",
      ".\n",
      " Taj\n",
      " Mah\n",
      "al\n",
      ",\n",
      " India\n",
      "\n",
      "\n",
      "8\n",
      ".\n",
      " The\n",
      " Great\n",
      " Pyramid\n",
      " of\n",
      " G\n",
      "iza\n",
      ",\n",
      " Egypt\n",
      "\n"
     ]
    }
   ],
   "source": [
    "for chunk in llm.stream(\"8 Wonders of World\"):\n",
    "    print(chunk.content)"
   ]
  },
  {
   "cell_type": "code",
   "execution_count": 18,
   "metadata": {},
   "outputs": [
    {
     "name": "stdout",
     "output_type": "stream",
     "text": [
      "2 + 2 is equal to 4.\n",
      "58.68\n"
     ]
    }
   ],
   "source": [
    "result = llm.batch(\n",
    "    [\n",
    "        \"What's 2 +2 ?\",\n",
    "        \"What's 34.9 + 23.78?\"\n",
    "    ]\n",
    ")\n",
    "for _result in result:\n",
    "    print(_result.content)"
   ]
  },
  {
   "cell_type": "markdown",
   "metadata": {},
   "source": [
    "### System & Human Message"
   ]
  },
  {
   "cell_type": "code",
   "execution_count": 16,
   "metadata": {},
   "outputs": [
    {
     "data": {
      "text/plain": [
       "'I am associated with the cricket bat manufacturer, MRF.'"
      ]
     },
     "execution_count": 16,
     "metadata": {},
     "output_type": "execute_result"
    }
   ],
   "source": [
    "from langchain.schema import SystemMessage\n",
    "\n",
    "messages = [\n",
    "    SystemMessage(content=\"You are Virat Kohli\"),\n",
    "    HumanMessage(content=\"Which crickrt bat manufacturer you are associated with?\")\n",
    "]\n",
    "\n",
    "result = llm(messages)\n",
    "result.content"
   ]
  },
  {
   "cell_type": "markdown",
   "metadata": {},
   "source": [
    "### Prompt Template"
   ]
  },
  {
   "cell_type": "code",
   "execution_count": 23,
   "metadata": {},
   "outputs": [
    {
     "data": {
      "text/plain": [
       "'Why did the robot go on a diet?\\n\\nBecause it had a byte problem!'"
      ]
     },
     "execution_count": 23,
     "metadata": {},
     "output_type": "execute_result"
    }
   ],
   "source": [
    "from langchain.prompts import PromptTemplate\n",
    "\n",
    "prompt_template = PromptTemplate.from_template(\n",
    "    \"tell me a {objective} joke about {content}\"\n",
    ")\n",
    "\n",
    "filled_prompt = prompt_template.format(objective=\"funny\", content=\"robots\")\n",
    "\n",
    "response = llm.invoke(filled_prompt)\n",
    "response.content"
   ]
  },
  {
   "cell_type": "markdown",
   "metadata": {},
   "source": [
    "### Chat Prompt Template"
   ]
  },
  {
   "cell_type": "code",
   "execution_count": 27,
   "metadata": {},
   "outputs": [
    {
     "name": "stdout",
     "output_type": "stream",
     "text": [
      "You are a helpful AI Mathematics teacher bot. Your name is {name}\n",
      "Hello, How are you doing?\n",
      "I'm doing well, thanks!\n",
      "{math_problem}\n"
     ]
    }
   ],
   "source": [
    "from langchain.prompts import ChatPromptTemplate\n",
    "from langchain_core.messages import SystemMessage, HumanMessage, AIMessage\n",
    "\n",
    "# Defining a chat template with various roles\n",
    "chat_template = ChatPromptTemplate.from_messages(\n",
    "    [\n",
    "        SystemMessage(content=\"You are a helpful AI Mathematics teacher bot. Your name is {name}\"),\n",
    "        HumanMessage(content=\"Hello, How are you doing?\"),\n",
    "        AIMessage(content=\"I'm doing well, thanks!\"),\n",
    "        HumanMessage(content=\"{math_problem}\")\n",
    "    ]\n",
    ")\n",
    "\n",
    "math_problem = input(\"Enter Math problem:\")\n",
    "\n",
    "formatted_messages = chat_template.format_messages(name=\"Bob\", math_problem=math_problem)\n",
    "\n",
    "for message in formatted_messages:\n",
    "    print(message.content)"
   ]
  },
  {
   "cell_type": "markdown",
   "metadata": {},
   "source": [
    "### Output Parsers"
   ]
  },
  {
   "cell_type": "markdown",
   "metadata": {},
   "source": [
    "Simple Json Parser"
   ]
  },
  {
   "cell_type": "code",
   "execution_count": 52,
   "metadata": {},
   "outputs": [
    {
     "data": {
      "text/plain": [
       "{'birth_place': {'Elon Musk': 'Pretoria, South Africa',\n",
       "  'Bill Gates': 'Seattle, Washington, USA'},\n",
       " 'birth_date': {'Elon Musk': 'June 28, 1971',\n",
       "  'Bill Gates': 'October 28, 1955'}}"
      ]
     },
     "execution_count": 52,
     "metadata": {},
     "output_type": "execute_result"
    }
   ],
   "source": [
    "from langchain.prompts import PromptTemplate\n",
    "from langchain.output_parsers.json import SimpleJsonOutputParser\n",
    "\n",
    "json_parser = SimpleJsonOutputParser()\n",
    "\n",
    "template = \"\"\"\n",
    "Answer the user's question:\n",
    "{question}\n",
    "Return the answer as a JSON object with keys 'birth_place' and 'birth_date'.\n",
    "\"\"\"\n",
    "\n",
    "json_prompt = PromptTemplate.from_template(template)\n",
    "\n",
    "json_chain = json_prompt | llm | json_parser\n",
    "\n",
    "input_data = {\"question\": \"When and where were Elon Musk and Bill Gates born?\"}\n",
    "\n",
    "output = json_chain.invoke(input_data)\n",
    "output"
   ]
  },
  {
   "cell_type": "code",
   "execution_count": 56,
   "metadata": {},
   "outputs": [
    {
     "data": {
      "text/plain": [
       "['Afghanistan',\n",
       " 'Kabul',\n",
       " 'August 19',\n",
       " '1919\\nArmenia',\n",
       " 'Yerevan',\n",
       " 'September 21',\n",
       " '1991\\nAzerbaijan',\n",
       " 'Baku',\n",
       " 'October 18',\n",
       " '1991\\nBahrain',\n",
       " 'Manama',\n",
       " 'December 16',\n",
       " '1971\\nBangladesh',\n",
       " 'Dhaka',\n",
       " 'March 26',\n",
       " '1971\\nBhutan',\n",
       " 'Thimphu',\n",
       " 'August 8',\n",
       " '1949\\nBrunei',\n",
       " 'Bandar Seri Begawan',\n",
       " 'January 1',\n",
       " '1984\\nCambodia',\n",
       " 'Phnom Penh',\n",
       " 'November 9',\n",
       " '1953\\nChina',\n",
       " 'Beijing',\n",
       " 'October 1',\n",
       " '1949\\nCyprus',\n",
       " 'Nicosia',\n",
       " 'October 1',\n",
       " '1960\\nGeorgia',\n",
       " 'Tbilisi',\n",
       " 'April 9',\n",
       " '1991\\nIndia',\n",
       " 'New Delhi',\n",
       " 'August 15',\n",
       " '1947\\nIndonesia',\n",
       " 'Jakarta',\n",
       " 'August 17',\n",
       " '1945\\nIran',\n",
       " 'Tehran',\n",
       " 'February 11',\n",
       " '1979\\nIraq',\n",
       " 'Baghdad',\n",
       " 'October 3',\n",
       " '1932\\nIsrael',\n",
       " 'Jerusalem',\n",
       " 'May 14',\n",
       " '1948\\nJapan',\n",
       " 'Tokyo',\n",
       " 'February 11',\n",
       " '660 BC\\nJordan',\n",
       " 'Amman',\n",
       " 'May 25',\n",
       " '1946\\nKazakhstan',\n",
       " 'Nur-Sultan',\n",
       " 'December 16',\n",
       " '1991\\nKuwait',\n",
       " 'Kuwait City',\n",
       " 'June 19',\n",
       " '1961\\nKyrgyzstan',\n",
       " 'Bishkek',\n",
       " 'August 31',\n",
       " '1991\\nLaos',\n",
       " 'Vientiane',\n",
       " 'July 19',\n",
       " '1949\\nLebanon',\n",
       " 'Beirut',\n",
       " 'November 22',\n",
       " '1943\\nMalaysia',\n",
       " 'Kuala Lumpur',\n",
       " 'August 31',\n",
       " '1957\\nMaldives',\n",
       " 'Male',\n",
       " 'July 26',\n",
       " '1965\\nMongolia',\n",
       " 'Ulaanbaatar',\n",
       " 'December 29',\n",
       " '1911\\nMyanmar',\n",
       " 'Naypyidaw',\n",
       " 'January 4',\n",
       " '1948\\nNepal',\n",
       " 'Kathmandu',\n",
       " 'September 20',\n",
       " '1951\\nNorth Korea',\n",
       " 'Pyongyang',\n",
       " 'September 9',\n",
       " '1948\\nOman',\n",
       " 'Muscat',\n",
       " 'November 18',\n",
       " '1650\\nPakistan',\n",
       " 'Islamabad',\n",
       " 'August 14',\n",
       " '1947\\nPalestine',\n",
       " 'Ramallah',\n",
       " 'November 15',\n",
       " '1988\\nPhilippines',\n",
       " 'Manila',\n",
       " 'June 12',\n",
       " '1898\\nQatar',\n",
       " 'Doha',\n",
       " 'September 3',\n",
       " '1971\\nSaudi Arabia',\n",
       " 'Riyadh',\n",
       " 'September 23',\n",
       " '1932\\nSingapore',\n",
       " 'Singapore',\n",
       " 'August 9',\n",
       " '1965\\nSouth Korea',\n",
       " 'Seoul',\n",
       " 'August 15',\n",
       " '1948\\nSri Lanka',\n",
       " 'Colombo',\n",
       " 'February 4',\n",
       " '1948\\nSyria',\n",
       " 'Damascus',\n",
       " 'April 17',\n",
       " '1946\\nTajikistan',\n",
       " 'Dushanbe',\n",
       " 'September 9',\n",
       " '1991\\nThailand',\n",
       " 'Bangkok',\n",
       " 'December 10',\n",
       " '1932\\nTimor-Leste',\n",
       " 'Dili',\n",
       " 'May 20',\n",
       " '2002\\nTurkey',\n",
       " 'Ankara',\n",
       " 'October 29',\n",
       " '1923\\nTurkmenistan',\n",
       " 'Ashgabat',\n",
       " 'October 27',\n",
       " '1991\\nUnited Arab Emirates',\n",
       " 'Abu Dhabi',\n",
       " 'December 2',\n",
       " '1971\\nUzbekistan',\n",
       " 'Tashkent',\n",
       " 'September 1',\n",
       " '1991\\nVietnam',\n",
       " 'Hanoi',\n",
       " 'September 2',\n",
       " '1945\\nYemen',\n",
       " \"Sana'a\",\n",
       " 'May 22',\n",
       " '1990']"
      ]
     },
     "execution_count": 56,
     "metadata": {},
     "output_type": "execute_result"
    }
   ],
   "source": [
    "from langchain.prompts import PromptTemplate\n",
    "from langchain.output_parsers import CommaSeparatedListOutputParser\n",
    "\n",
    "csv_parser = CommaSeparatedListOutputParser()\n",
    "\n",
    "template = \"\"\"\n",
    "Answer the user's question:\n",
    "{question}\n",
    "Return the answer as a comma-separated list with the format: \"Country, Capital, Independence Date\".\n",
    "Only include countries in Asia.\n",
    "\"\"\"\n",
    "\n",
    "csv_prompt = PromptTemplate.from_template(template)\n",
    "\n",
    "csv_chain = csv_prompt | llm | csv_parser\n",
    "\n",
    "input_data = {\"question\": \"Give details of countries in Aisa\"}\n",
    "\n",
    "output = csv_chain.invoke(input_data)\n",
    "output"
   ]
  },
  {
   "cell_type": "markdown",
   "metadata": {},
   "source": [
    "### Retrieval"
   ]
  },
  {
   "cell_type": "code",
   "execution_count": 92,
   "metadata": {},
   "outputs": [
    {
     "data": {
      "text/plain": [
       "['Welcome to Smallpdf',\n",
       " 'Digital Documents—All In One Place',\n",
       " 'Access Files Anytime, Anywhere Enhance Documents in One Click ',\n",
       " 'Collaborate With Others With the new Smallpdf experience, you can ',\n",
       " 'freely upload, organize, and share digital ',\n",
       " 'documents. When you enable the ‘Storage’ ',\n",
       " 'option, we’ll also store all processed files here. ',\n",
       " 'You can access files stored on Smallpdf from ',\n",
       " 'your computer, phone, or tablet. We’ll also ',\n",
       " 'sync files from the Smallpdf Mobile App to our ',\n",
       " 'online portalWhen you right-click on a file, we’ll present ',\n",
       " 'you with an array of options to convert, ',\n",
       " 'compress, or modify it. ',\n",
       " 'Forget mundane administrative tasks. With ',\n",
       " 'Smallpdf, you can request e-signatures, send ',\n",
       " 'large files, or even enable the Smallpdf G Suite ',\n",
       " 'App for your entire organization. Ready to take document management to the next level?']"
      ]
     },
     "execution_count": 92,
     "metadata": {},
     "output_type": "execute_result"
    }
   ],
   "source": [
    "from langchain.document_loaders import PyPDFLoader\n",
    "\n",
    "loader = PyPDFLoader(\"/home/arslanhaider/ahs-data/test-pdf.pdf\")\n",
    "\n",
    "pages = loader.load_and_split()\n",
    "\n",
    "pages[0].page_content.split(\"\\n\")"
   ]
  }
 ],
 "metadata": {
  "kernelspec": {
   "display_name": "langchain-venv",
   "language": "python",
   "name": "python3"
  },
  "language_info": {
   "codemirror_mode": {
    "name": "ipython",
    "version": 3
   },
   "file_extension": ".py",
   "mimetype": "text/x-python",
   "name": "python",
   "nbconvert_exporter": "python",
   "pygments_lexer": "ipython3",
   "version": "3.12.4"
  }
 },
 "nbformat": 4,
 "nbformat_minor": 2
}
