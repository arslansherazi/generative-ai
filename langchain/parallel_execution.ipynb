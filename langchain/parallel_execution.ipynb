{
 "cells": [
  {
   "cell_type": "markdown",
   "id": "407d455f",
   "metadata": {},
   "source": [
    "## Parallel Execution of multiple Nodes\n",
    "Parallel execution in LangChain refers to running multiple computation nodes (tasks) simultaneously instead of sequentially.\n",
    "\n",
    "Each node can represent a distinct part of a workflow — such as calling different APIs, running multiple retrievals, or executing sub-models.\n",
    "LangChain's **RunnableParallel** enables this kind of parallelism, allowing independent branches to execute concurrently, reducing overall latency."
   ]
  },
  {
   "cell_type": "markdown",
   "id": "d50fa107",
   "metadata": {},
   "source": [
    "⚙️ **Scenario: Real-Life Use Case**\n",
    "\n",
    "A system receives a breaking news headline and must:\n",
    "\n",
    "1. Summarize the event using an LLM.\n",
    "\n",
    "2. Analyze its sentiment.\n",
    "\n",
    "3. Extract key entities (people, organizations, places).\n",
    "\n",
    "Instead of running these one by one, all are executed in parallel using RunnableParallel.\n",
    "This demonstrates a practical **multi-agent workflow.**"
   ]
  },
  {
   "cell_type": "code",
   "execution_count": 19,
   "id": "f6bb52c1",
   "metadata": {},
   "outputs": [],
   "source": [
    "from langchain_openai import ChatOpenAI\n",
    "from langchain.schema.runnable import RunnableLambda, RunnableParallel\n",
    "from langchain.prompts import ChatPromptTemplate\n",
    "import time"
   ]
  },
  {
   "cell_type": "code",
   "execution_count": 2,
   "id": "06099a33",
   "metadata": {},
   "outputs": [],
   "source": [
    "llm = ChatOpenAI(model=\"gpt-4o-mini\", temperature=0)"
   ]
  },
  {
   "cell_type": "code",
   "execution_count": null,
   "id": "f6f66cb6",
   "metadata": {},
   "outputs": [],
   "source": [
    "# Example headline\n",
    "news_headline = \"\"\"\n",
    "Tesla shares surge after record-breaking quarterly profits and strong \n",
    "EV demand forecast.\n",
    "\"\"\""
   ]
  },
  {
   "cell_type": "markdown",
   "id": "5e689f0a",
   "metadata": {},
   "source": [
    "#### Prompts"
   ]
  },
  {
   "cell_type": "code",
   "execution_count": 4,
   "id": "60dfef93",
   "metadata": {},
   "outputs": [],
   "source": [
    "# Prompt for summarization\n",
    "summary_prompt = ChatPromptTemplate.from_template(\n",
    "    \"Summarize the following headline in one concise sentence:\\n\\n{headline}\"\n",
    ")\n",
    "\n",
    "# Prompt for sentiment analysis\n",
    "sentiment_prompt = ChatPromptTemplate.from_template(\n",
    "    \"Analyze the sentiment of this headline as Positive, Neutral, or Negative, and briefly explain why:\\n\\n{headline}\"\n",
    ")\n",
    "\n",
    "# Prompt for entity extraction\n",
    "entity_prompt = ChatPromptTemplate.from_template(\n",
    "    \"Extract key entities (like companies, people, and locations) from this headline. Return a JSON list.\\n\\n{headline}\"\n",
    ")\n"
   ]
  },
  {
   "cell_type": "markdown",
   "id": "93f0518d",
   "metadata": {},
   "source": [
    "#### Runnable Pipelines (Nodes)"
   ]
  },
  {
   "cell_type": "code",
   "execution_count": 5,
   "id": "dd5cd7b8",
   "metadata": {},
   "outputs": [],
   "source": [
    "# Each node runs independently\n",
    "\n",
    "# Summarization Node\n",
    "summarizer = summary_prompt | llm\n",
    "\n",
    "# Sentiment Analysis Node\n",
    "sentiment_analyzer = sentiment_prompt | llm\n",
    "\n",
    "# Entity Extraction Node\n",
    "entity_extractor = entity_prompt | llm\n"
   ]
  },
  {
   "cell_type": "markdown",
   "id": "10aa0730",
   "metadata": {},
   "source": [
    "#### Sequential Execution"
   ]
  },
  {
   "cell_type": "code",
   "execution_count": 20,
   "id": "0a6da1ba",
   "metadata": {},
   "outputs": [
    {
     "name": "stdout",
     "output_type": "stream",
     "text": [
      "Sequential Execution Time: 7.08 seconds\n"
     ]
    },
    {
     "data": {
      "text/plain": [
       "{'summary': 'Tesla shares rise sharply following record quarterly profits and a positive outlook for electric vehicle demand.',\n",
       " 'sentiment': 'The sentiment of the headline is Positive. \\n\\nThis is indicated by the phrases \"surge,\" \"record-breaking quarterly profits,\" and \"strong EV demand forecast,\" all of which convey a sense of success and optimism. The use of \"surge\" suggests a significant increase in share value, while \"record-breaking\" implies exceptional performance. Additionally, a \"strong EV demand forecast\" indicates positive future prospects for the company, contributing to an overall favorable sentiment.',\n",
       " 'entities': '```json\\n[\\n    {\\n        \"entity\": \"Tesla\",\\n        \"type\": \"company\"\\n    },\\n    {\\n        \"entity\": \"quarterly profits\",\\n        \"type\": \"financial term\"\\n    },\\n    {\\n        \"entity\": \"EV demand\",\\n        \"type\": \"market trend\"\\n    }\\n]\\n```'}"
      ]
     },
     "execution_count": 20,
     "metadata": {},
     "output_type": "execute_result"
    }
   ],
   "source": [
    "# Run tasks one by one\n",
    "start_time = time.perf_counter()\n",
    "\n",
    "summary_res = summarizer.invoke({\"headline\": news_headline})\n",
    "sentiment_res = sentiment_analyzer.invoke({\"headline\": news_headline})\n",
    "entity_res = entity_extractor.invoke({\"headline\": news_headline})\n",
    "\n",
    "sequential_result = {\n",
    "    \"summary\": summary_res.content.strip(),\n",
    "    \"sentiment\": sentiment_res.content.strip(),\n",
    "    \"entities\": entity_res.content.strip(),\n",
    "}\n",
    "\n",
    "sequential_time = time.perf_counter() - start_time\n",
    "print(f\"Sequential Execution Time: {sequential_time:.2f} seconds\")\n",
    "sequential_result\n"
   ]
  },
  {
   "cell_type": "markdown",
   "id": "97f983cf",
   "metadata": {},
   "source": [
    "#### Combine All Nodes Using RunnableParallel"
   ]
  },
  {
   "cell_type": "code",
   "execution_count": 6,
   "id": "cc92066f",
   "metadata": {},
   "outputs": [],
   "source": [
    "# Combine tasks into a parallel pipeline\n",
    "parallel_tasks = RunnableParallel(\n",
    "    summary=summarizer,\n",
    "    sentiment=sentiment_analyzer,\n",
    "    entities=entity_extractor\n",
    ")"
   ]
  },
  {
   "cell_type": "markdown",
   "id": "61ce8cca",
   "metadata": {},
   "source": [
    "#### Execute All Tasks in Parallel"
   ]
  },
  {
   "cell_type": "code",
   "execution_count": 21,
   "id": "ecc61393",
   "metadata": {},
   "outputs": [
    {
     "name": "stdout",
     "output_type": "stream",
     "text": [
      "Parallel Execution Time: 2.96 seconds\n"
     ]
    },
    {
     "data": {
      "text/plain": [
       "{'summary': 'Tesla shares rise sharply following record quarterly profits and a positive outlook for electric vehicle demand.',\n",
       " 'sentiment': 'The sentiment of the headline is Positive. \\n\\nThis is indicated by the use of words like \"surge,\" \"record-breaking,\" and \"strong,\" which convey a sense of success and optimism. The mention of \"quarterly profits\" suggests financial growth, while \"strong EV demand forecast\" implies a positive outlook for the company\\'s future performance. Overall, the language used in the headline reflects favorable news for Tesla, contributing to a positive sentiment.',\n",
       " 'entities': '```json\\n[\\n    {\\n        \"entity\": \"Tesla\",\\n        \"type\": \"company\"\\n    },\\n    {\\n        \"entity\": \"quarterly profits\",\\n        \"type\": \"financial term\"\\n    },\\n    {\\n        \"entity\": \"EV demand\",\\n        \"type\": \"market trend\"\\n    }\\n]\\n```'}"
      ]
     },
     "execution_count": 21,
     "metadata": {},
     "output_type": "execute_result"
    }
   ],
   "source": [
    "# Execute parallel tasks\n",
    "start_time = time.perf_counter()\n",
    "parallel_result = parallel_tasks.invoke({\"headline\": news_headline})\n",
    "parallel_time = time.perf_counter() - start_time\n",
    "\n",
    "# Clean up results\n",
    "parallel_result_clean = {\n",
    "    k: v.content.strip() for k, v in parallel_result.items()\n",
    "}\n",
    "\n",
    "print(f\"Parallel Execution Time: {parallel_time:.2f} seconds\")\n",
    "parallel_result_clean"
   ]
  },
  {
   "cell_type": "markdown",
   "id": "56f7c95f",
   "metadata": {},
   "source": [
    "#### Async Execution (Improves Latency)"
   ]
  },
  {
   "cell_type": "code",
   "execution_count": 22,
   "id": "04bd7ae1",
   "metadata": {},
   "outputs": [
    {
     "name": "stdout",
     "output_type": "stream",
     "text": [
      "Async Parallel Execution Time: 2.52 seconds\n"
     ]
    },
    {
     "data": {
      "text/plain": [
       "{'summary': 'Tesla shares rise sharply following record quarterly profits and a positive outlook for electric vehicle demand.',\n",
       " 'sentiment': 'The sentiment of the headline is Positive. \\n\\nThis is because it highlights a significant achievement for Tesla, specifically \"record-breaking quarterly profits,\" which indicates strong financial performance. Additionally, the mention of a \"strong EV demand forecast\" suggests optimism about future sales and growth in the electric vehicle market. Both elements contribute to a favorable outlook for the company, leading to a positive sentiment overall.',\n",
       " 'entities': '```json\\n[\\n    {\\n        \"entity\": \"Tesla\",\\n        \"type\": \"company\"\\n    },\\n    {\\n        \"entity\": \"quarterly profits\",\\n        \"type\": \"financial term\"\\n    },\\n    {\\n        \"entity\": \"EV demand\",\\n        \"type\": \"market trend\"\\n    }\\n]\\n```'}"
      ]
     },
     "execution_count": 22,
     "metadata": {},
     "output_type": "execute_result"
    }
   ],
   "source": [
    "async def run_async_parallel():\n",
    "    start = time.perf_counter()\n",
    "    result = await parallel_tasks.ainvoke({\"headline\": news_headline})\n",
    "    end = time.perf_counter()\n",
    "    return {\n",
    "        \"results\": {k: v.content.strip() for k, v in result.items()},\n",
    "        \"time\": end - start,\n",
    "    }\n",
    "\n",
    "async_result = await run_async_parallel()\n",
    "\n",
    "print(f\"Async Parallel Execution Time: {async_result['time']:.2f} seconds\")\n",
    "async_result[\"results\"]\n"
   ]
  }
 ],
 "metadata": {
  "kernelspec": {
   "display_name": "venv-genai",
   "language": "python",
   "name": "python3"
  },
  "language_info": {
   "codemirror_mode": {
    "name": "ipython",
    "version": 3
   },
   "file_extension": ".py",
   "mimetype": "text/x-python",
   "name": "python",
   "nbconvert_exporter": "python",
   "pygments_lexer": "ipython3",
   "version": "3.13.5"
  }
 },
 "nbformat": 4,
 "nbformat_minor": 5
}
