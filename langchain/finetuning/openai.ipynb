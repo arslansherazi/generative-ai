{
 "cells": [
  {
   "cell_type": "markdown",
   "metadata": {},
   "source": [
    "# Finetune Open AI Model\n",
    "- Finetuned model can be finetuned again"
   ]
  },
  {
   "cell_type": "code",
   "execution_count": 20,
   "metadata": {},
   "outputs": [
    {
     "data": {
      "text/plain": [
       "True"
      ]
     },
     "execution_count": 20,
     "metadata": {},
     "output_type": "execute_result"
    }
   ],
   "source": [
    "import os \n",
    "\n",
    "from dotenv import load_dotenv\n",
    "\n",
    "load_dotenv()"
   ]
  },
  {
   "cell_type": "code",
   "execution_count": null,
   "metadata": {},
   "outputs": [],
   "source": [
    "load_dotenv()"
   ]
  },
  {
   "cell_type": "code",
   "execution_count": null,
   "metadata": {},
   "outputs": [],
   "source": [
    "from openai import OpenAI\n",
    "\n",
    "client = OpenAI()\n",
    "\n",
    "training_file_path = \"../../static/json/sales_policy_fine_tune_data.jsonl\"\n",
    "\n",
    "with open(training_file_path, \"r\") as file:\n",
    "    training_data = file.readlines()\n",
    "\n",
    "# Convert the file into the right format for OpenAI\n",
    "response = client.files.create(\n",
    "  file=open(training_file_path, \"rb\"),\n",
    "  purpose=\"fine-tune\"\n",
    ")\n",
    "\n",
    "training_file_id = response.id\n",
    "\n",
    "# Fine-tune the model\n",
    "fine_tuning_response = client.fine_tuning.jobs.create(\n",
    "    training_file=training_file_id,\n",
    "    model=\"gpt-3.5-turbo\",\n",
    "    hyperparameters={\n",
    "    \"n_epochs\":2\n",
    "  }\n",
    ")\n",
    "\n",
    "print(\"fine tuned model id: \", fine_tuning_response.id)"
   ]
  },
  {
   "cell_type": "code",
   "execution_count": null,
   "metadata": {},
   "outputs": [],
   "source": [
    "result = client.fine_tuning.jobs.retrieve(os.getenv(\"FINE_TUNED_MODEL_ID\"))\n",
    "print(\"Status: \", result.status)\n",
    "print(\"Error: \", result.error.message)\n",
    "print(\"Model: \", result.fine_tuned_model)"
   ]
  },
  {
   "cell_type": "code",
   "execution_count": null,
   "metadata": {},
   "outputs": [
    {
     "name": "stdout",
     "output_type": "stream",
     "text": [
      "Question: What is the refund policy?\n",
      "Answer: Refunds are available within 30 days of purchase for items in their original condition.\n",
      "\n",
      "Question: Can i get gift rapping?\n",
      "Answer: Yes, gift wrapping services are available for an additional charge.\n",
      "\n",
      "Question: Will i receive the tracking number after my order?\n",
      "Answer: Yes, you will receive a tracking number for your order once it has been shipped.\n",
      "\n"
     ]
    }
   ],
   "source": [
    "from langchain_openai import ChatOpenAI\n",
    "from langchain.schema import HumanMessage\n",
    "\n",
    "queries = [\n",
    "    \"What is the refund policy?\",\n",
    "    \"Can i get gift rapping?\",\n",
    "    \"Will i receive the tracking number after my order?\"\n",
    "]\n",
    "\n",
    "llm = ChatOpenAI(model=os.getenv(\"FINE_TUNED_MODEL_NAME\"))\n",
    "\n",
    "\n",
    "for query in queries:\n",
    "    messages = [\n",
    "        HumanMessage(content=query)\n",
    "    ]\n",
    "    result = llm.invoke(messages)\n",
    "    print(f\"Question: {query}\")\n",
    "    print(f\"Answer: {result.content}\\n\")"
   ]
  }
 ],
 "metadata": {
  "kernelspec": {
   "display_name": "generative-ai-XwelIRLU",
   "language": "python",
   "name": "python3"
  },
  "language_info": {
   "codemirror_mode": {
    "name": "ipython",
    "version": 3
   },
   "file_extension": ".py",
   "mimetype": "text/x-python",
   "name": "python",
   "nbconvert_exporter": "python",
   "pygments_lexer": "ipython3",
   "version": "3.12.7"
  }
 },
 "nbformat": 4,
 "nbformat_minor": 2
}
