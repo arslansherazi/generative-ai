{
 "cells": [
  {
   "cell_type": "code",
   "execution_count": null,
   "metadata": {},
   "outputs": [],
   "source": [
    "from langchain_community.graphs import Neo4jGraph\n",
    "from langchain_openai import ChatOpenAI\n",
    "from langchain_core.runnables import RunnablePassthrough\n",
    "from langchain.prompts import ChatPromptTemplate\n",
    "from langchain_core.output_parsers import StrOutputParser\n"
   ]
  },
  {
   "cell_type": "code",
   "execution_count": 40,
   "metadata": {},
   "outputs": [],
   "source": [
    "graph = Neo4jGraph(\n",
    "    url=\"bolt://localhost:7689\",\n",
    "    username=\"neo4j\",\n",
    "    password=\"admin_neo4j\"\n",
    ")"
   ]
  },
  {
   "cell_type": "code",
   "execution_count": 111,
   "metadata": {},
   "outputs": [],
   "source": [
    "movies_data = {\n",
    "    \"Rajkumar Hirani\": [\n",
    "        (\"3 Idiots\", [\"Aamir Khan\", \"R. Madhavan\"], 8.4),\n",
    "        (\"PK\", [\"Aamir Khan\", \"Anushka Sharma\"], 8.2),\n",
    "        (\"Sanju\", [\"Ranbir Kapoor\", \"Paresh Rawal\"], 7.6),\n",
    "        (\"Lage Raho Munna Bhai\", [\"Sanjay Dutt\", \"Arshad Warsi\"], 8.0),\n",
    "    ],\n",
    "    \"Sanjay Leela Bhansali\": [\n",
    "        (\"Padmaavat\", [\"Ranveer Singh\", \"Deepika Padukone\"], 7.0),\n",
    "        (\"Bajirao Mastani\", [\"Ranveer Singh\", \"Priyanka Chopra\"], 7.2),\n",
    "        (\"Black\", [\"Amitabh Bachchan\", \"Rani Mukerji\"], 8.2),\n",
    "        (\"Devdas\", [\"Shah Rukh Khan\", \"Aishwarya Rai\"], 7.5),\n",
    "    ],\n",
    "    \"Anurag Kashyap\": [\n",
    "        (\"Gangs of Wasseypur\", [\"Nawazuddin Siddiqui\", \"Manoj Bajpayee\"], 8.2),\n",
    "        (\"Ugly\", [\"Ronit Roy\", \"Rahul Bhat\"], 8.0),\n",
    "        (\"Raman Raghav 2.0\", [\"Nawazuddin Siddiqui\", \"Vicky Kaushal\"], 7.3),\n",
    "        (\"Dev.D\", [\"Abhay Deol\", \"Mahie Gill\"], 7.9),\n",
    "    ],\n",
    "    \"Zoya Akhtar\": [\n",
    "        (\"Zindagi Na Milegi Dobara\", [\"Hrithik Roshan\", \"Farhan Akhtar\"], 8.1),\n",
    "        (\"Dil Dhadakne Do\", [\"Ranveer Singh\", \"Priyanka Chopra\"], 6.8),\n",
    "        (\"Gully Boy\", [\"Ranveer Singh\", \"Alia Bhatt\"], 7.9),\n",
    "        (\"Luck by Chance\", [\"Farhan Akhtar\", \"Konkona Sen Sharma\"], 7.0),\n",
    "    ],\n",
    "    \"Karan Johar\": [\n",
    "        (\"Kabhi Khushi Kabhie Gham\", [\"Shah Rukh Khan\", \"Kajol\"], 7.4),\n",
    "        (\"My Name Is Khan\", [\"Shah Rukh Khan\", \"Kajol\"], 7.9),\n",
    "        (\"Student of the Year\", [\"Sidharth Malhotra\", \"Alia Bhatt\"], 5.6),\n",
    "        (\"Ae Dil Hai Mushkil\", [\"Ranbir Kapoor\", \"Anushka Sharma\"], 5.8),\n",
    "    ]\n",
    "}\n"
   ]
  },
  {
   "cell_type": "code",
   "execution_count": 113,
   "metadata": {},
   "outputs": [],
   "source": [
    "# Populate Neo4j database with movie data\n",
    "for director, movies in movies_data.items():\n",
    "    for title, actors, rating in movies:\n",
    "        graph.query(\"\"\"\n",
    "            MERGE (d:Director {name: $director})\n",
    "            MERGE (m:Movie {title: $title})\n",
    "            SET m.rating = $rating\n",
    "            MERGE (d)-[:DIRECTED]->(m)\n",
    "        \"\"\", {\"director\": director, \"title\": title, \"rating\": rating})\n",
    "\n",
    "        for actor in actors:\n",
    "            graph.query(\"\"\"\n",
    "                MERGE (a:Actor {name: $actor})\n",
    "                MERGE (m:Movie {title: $title})\n",
    "                MERGE (a)-[:ACTED_IN]->(m)\n",
    "            \"\"\", {\"actor\": actor, \"title\": title})"
   ]
  },
  {
   "cell_type": "code",
   "execution_count": 114,
   "metadata": {},
   "outputs": [],
   "source": [
    "llm = ChatOpenAI(temperature=0, model=\"gpt-3.5-turbo\")"
   ]
  },
  {
   "cell_type": "code",
   "execution_count": 119,
   "metadata": {},
   "outputs": [],
   "source": [
    "SCHEMA = \"\"\"\n",
    "Node types:\n",
    "- Movie(title: string, released: int, genre: string, rating: float)\n",
    "- Actor(name: string)\n",
    "- Director(name: string)\n",
    "\n",
    "Relationships:\n",
    "- (Actor)-[:ACTED_IN]->(Movie)\n",
    "- (Director)-[:DIRECTED]->(Movie)\n",
    "\"\"\"\n",
    "\n",
    "cypher_prompt = ChatPromptTemplate.from_template(\"\"\"\n",
    "You are an expert Cypher generator for a Neo4j database. Based on the schema below and the user question, write a Cypher query.\n",
    "\n",
    "Schema:\n",
    "{schema}\n",
    "\n",
    "Question:\n",
    "{question}\n",
    "\n",
    "Cypher Query:\n",
    "\"\"\")\n",
    "\n",
    "def movie_context(query: str) -> str:\n",
    "    cypher_generator = (\n",
    "        {\"schema\": RunnablePassthrough(), \"question\": RunnablePassthrough()}\n",
    "        | cypher_prompt\n",
    "        | llm\n",
    "        | StrOutputParser()\n",
    "    )\n",
    "    cypher = cypher_generator.invoke({\"schema\": SCHEMA, \"question\": query})\n",
    "\n",
    "    result = graph.query(cypher)\n",
    "    \n",
    "    return str(result)"
   ]
  },
  {
   "cell_type": "code",
   "execution_count": 120,
   "metadata": {},
   "outputs": [],
   "source": [
    "prompt = ChatPromptTemplate.from_template(\"\"\"\n",
    "You are a movie expert chatbot. Use the following knowledge from a graph to answer the question. \n",
    "Only include movies from the graph context.\n",
    "\n",
    "Graph Context:\n",
    "{context}\n",
    "\n",
    "Question:\n",
    "{question}\n",
    "\"\"\")\n",
    "\n",
    "chain = (\n",
    "    {\"context\": movie_context, \"question\": RunnablePassthrough()}\n",
    "    | prompt\n",
    "    | llm\n",
    ")\n"
   ]
  },
  {
   "cell_type": "code",
   "execution_count": 121,
   "metadata": {},
   "outputs": [
    {
     "name": "stdout",
     "output_type": "stream",
     "text": [
      "Actors who acted in movies directed by Rajkumar Hirani are:\n",
      "\n",
      "1. Aamir Khan in \"3 Idiots\" and \"PK\"\n",
      "2. R. Madhavan in \"3 Idiots\"\n",
      "3. Anushka Sharma in \"PK\"\n"
     ]
    }
   ],
   "source": [
    "query = \"list some actors who acted in movies directed by Rajkumar Hirani. name the movies as well.\"\n",
    "response = chain.invoke(query)\n",
    "print(response.content)"
   ]
  },
  {
   "cell_type": "code",
   "execution_count": 122,
   "metadata": {},
   "outputs": [
    {
     "name": "stdout",
     "output_type": "stream",
     "text": [
      "I'm sorry, but there are no movies directed by Rajkumar Hirani and acted by Shah Rukh Khan in the graph context provided.\n"
     ]
    }
   ],
   "source": [
    "query = \"list some movies directed by Rajkumar Hirani and acted by Shah Rukh Khan.\"\n",
    "response = chain.invoke(query)\n",
    "print(response.content)"
   ]
  },
  {
   "cell_type": "code",
   "execution_count": 123,
   "metadata": {},
   "outputs": [
    {
     "name": "stdout",
     "output_type": "stream",
     "text": [
      "Some movies acted by Shah Rukh Khan from the graph context are:\n",
      "1. Devdas directed by Sanjay Leela Bhansali\n",
      "2. My Name Is Khan directed by Karan Johar\n"
     ]
    }
   ],
   "source": [
    "query = \"list some movies acted by Shah Rukh Khan. Name the directors as well.\"\n",
    "response = chain.invoke(query)\n",
    "print(response.content)"
   ]
  },
  {
   "cell_type": "code",
   "execution_count": 124,
   "metadata": {},
   "outputs": [
    {
     "name": "stdout",
     "output_type": "stream",
     "text": [
      "- 3 Idiots: 8.4\n",
      "- PK: 8.2\n",
      "- Sanju: 7.6\n",
      "- Lage Raho Munna Bhai: 8.0\n",
      "- Black: 8.2\n",
      "- Gangs of Wasseypur: 8.2\n",
      "- Ugly: 8.0\n",
      "- Dev.D: 7.9\n",
      "- Zindagi Na Milegi Dobara: 8.1\n",
      "- Gully Boy: 7.9\n"
     ]
    }
   ],
   "source": [
    "query = \"list some movies along with ratings\"\n",
    "response = chain.invoke(query)\n",
    "print(response.content)"
   ]
  },
  {
   "cell_type": "code",
   "execution_count": 125,
   "metadata": {},
   "outputs": [
    {
     "name": "stdout",
     "output_type": "stream",
     "text": [
      "Sure! Some movies from the graph context with a rating greater than 8.0 are:\n",
      "1. 3 Idiots (8.4)\n",
      "2. PK (8.2)\n",
      "3. Black (8.2)\n",
      "4. Gangs of Wasseypur (8.2)\n"
     ]
    }
   ],
   "source": [
    "query = \"list some movies having rating greater than 8.0\"\n",
    "response = chain.invoke(query)\n",
    "print(response.content)"
   ]
  }
 ],
 "metadata": {
  "kernelspec": {
   "display_name": "generative-ai-XwelIRLU",
   "language": "python",
   "name": "python3"
  },
  "language_info": {
   "codemirror_mode": {
    "name": "ipython",
    "version": 3
   },
   "file_extension": ".py",
   "mimetype": "text/x-python",
   "name": "python",
   "nbconvert_exporter": "python",
   "pygments_lexer": "ipython3",
   "version": "3.12.9"
  }
 },
 "nbformat": 4,
 "nbformat_minor": 2
}
