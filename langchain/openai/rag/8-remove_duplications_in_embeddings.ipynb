{
 "cells": [
  {
   "cell_type": "code",
   "execution_count": null,
   "id": "827f2f48",
   "metadata": {},
   "outputs": [
    {
     "data": {
      "text/plain": [
       "True"
      ]
     },
     "execution_count": 3,
     "metadata": {},
     "output_type": "execute_result"
    }
   ],
   "source": [
    "import hashlib\n",
    "import pandas as pd\n",
    "from langchain_openai import OpenAIEmbeddings\n",
    "from sklearn.metrics.pairwise import cosine_similarity\n",
    "import numpy as np\n",
    "from dotenv import load_dotenv\n",
    "\n",
    "load_dotenv()"
   ]
  },
  {
   "cell_type": "code",
   "execution_count": 5,
   "id": "e1120752",
   "metadata": {},
   "outputs": [
    {
     "name": "stdout",
     "output_type": "stream",
     "text": [
      "🔹 Original Dataset (11 records)\n"
     ]
    },
    {
     "data": {
      "text/html": [
       "<div>\n",
       "<style scoped>\n",
       "    .dataframe tbody tr th:only-of-type {\n",
       "        vertical-align: middle;\n",
       "    }\n",
       "\n",
       "    .dataframe tbody tr th {\n",
       "        vertical-align: top;\n",
       "    }\n",
       "\n",
       "    .dataframe thead th {\n",
       "        text-align: right;\n",
       "    }\n",
       "</style>\n",
       "<table border=\"1\" class=\"dataframe\">\n",
       "  <thead>\n",
       "    <tr style=\"text-align: right;\">\n",
       "      <th></th>\n",
       "      <th>text</th>\n",
       "    </tr>\n",
       "  </thead>\n",
       "  <tbody>\n",
       "    <tr>\n",
       "      <th>0</th>\n",
       "      <td>The warranty covers accidental screen damage a...</td>\n",
       "    </tr>\n",
       "    <tr>\n",
       "      <th>1</th>\n",
       "      <td>Accidental damage and water exposure are cover...</td>\n",
       "    </tr>\n",
       "    <tr>\n",
       "      <th>2</th>\n",
       "      <td>Battery replacements are provided free within ...</td>\n",
       "    </tr>\n",
       "    <tr>\n",
       "      <th>3</th>\n",
       "      <td>The warranty does not include intentional phys...</td>\n",
       "    </tr>\n",
       "    <tr>\n",
       "      <th>4</th>\n",
       "      <td>Intentional damage or modification voids the w...</td>\n",
       "    </tr>\n",
       "    <tr>\n",
       "      <th>5</th>\n",
       "      <td>Battery replacements are provided free within ...</td>\n",
       "    </tr>\n",
       "    <tr>\n",
       "      <th>6</th>\n",
       "      <td>Free battery replacement is available during t...</td>\n",
       "    </tr>\n",
       "    <tr>\n",
       "      <th>7</th>\n",
       "      <td>The warranty includes coverage for accidental ...</td>\n",
       "    </tr>\n",
       "    <tr>\n",
       "      <th>8</th>\n",
       "      <td>Manufacturing defects are always covered under...</td>\n",
       "    </tr>\n",
       "    <tr>\n",
       "      <th>9</th>\n",
       "      <td>Any manufacturing issue will be covered free o...</td>\n",
       "    </tr>\n",
       "    <tr>\n",
       "      <th>10</th>\n",
       "      <td>Water and screen damages are part of warranty ...</td>\n",
       "    </tr>\n",
       "  </tbody>\n",
       "</table>\n",
       "</div>"
      ],
      "text/plain": [
       "                                                 text\n",
       "0   The warranty covers accidental screen damage a...\n",
       "1   Accidental damage and water exposure are cover...\n",
       "2   Battery replacements are provided free within ...\n",
       "3   The warranty does not include intentional phys...\n",
       "4   Intentional damage or modification voids the w...\n",
       "5   Battery replacements are provided free within ...\n",
       "6   Free battery replacement is available during t...\n",
       "7   The warranty includes coverage for accidental ...\n",
       "8   Manufacturing defects are always covered under...\n",
       "9   Any manufacturing issue will be covered free o...\n",
       "10  Water and screen damages are part of warranty ..."
      ]
     },
     "execution_count": 5,
     "metadata": {},
     "output_type": "execute_result"
    }
   ],
   "source": [
    "data = [\n",
    "    \"The warranty covers accidental screen damage and liquid damage.\",\n",
    "    \"Accidental damage and water exposure are covered under warranty.\",\n",
    "    \"Battery replacements are provided free within one year.\",\n",
    "    \"The warranty does not include intentional physical damage.\",\n",
    "    \"Intentional damage or modification voids the warranty.\",\n",
    "    \"Battery replacements are provided free within one year.\",  # exact duplicate\n",
    "    \"Free battery replacement is available during the first year.\",  # paraphrased\n",
    "    \"The warranty includes coverage for accidental screen damage.\",\n",
    "    \"Manufacturing defects are always covered under the warranty.\",\n",
    "    \"Any manufacturing issue will be covered free of cost under the warranty.\",\n",
    "    \"Water and screen damages are part of warranty protection plan.\"\n",
    "]\n",
    "\n",
    "df = pd.DataFrame({\"text\": data})\n",
    "print(\"🔹 Original Dataset ({} records)\".format(len(df)))\n",
    "df"
   ]
  },
  {
   "cell_type": "markdown",
   "id": "83674017",
   "metadata": {},
   "source": [
    "### Hash-Based Deduplication (Exact Match Filter)\n",
    "✅ **Use Case:** When ingesting raw documents (PDFs, text files, etc.), where we want to remove byte-for-byte duplicates before embedding.\n",
    "\n",
    "**⚡ Fast and cheap** — best as the first filter."
   ]
  },
  {
   "cell_type": "code",
   "execution_count": 6,
   "id": "e407c5d9",
   "metadata": {},
   "outputs": [
    {
     "name": "stdout",
     "output_type": "stream",
     "text": [
      "✅ After hash deduplication: 10 unique records\n",
      "- The warranty covers accidental screen damage and liquid damage.\n",
      "- Accidental damage and water exposure are covered under warranty.\n",
      "- Battery replacements are provided free within one year.\n",
      "- The warranty does not include intentional physical damage.\n",
      "- Intentional damage or modification voids the warranty.\n",
      "- Free battery replacement is available during the first year.\n",
      "- The warranty includes coverage for accidental screen damage.\n",
      "- Manufacturing defects are always covered under the warranty.\n",
      "- Any manufacturing issue will be covered free of cost under the warranty.\n",
      "- Water and screen damages are part of warranty protection plan.\n"
     ]
    }
   ],
   "source": [
    "def hash_deduplicate(texts):\n",
    "    \"\"\"\n",
    "    Removes exact duplicates using hash values (SHA256).\n",
    "    Recommended before generating embeddings to save cost and time.\n",
    "    \"\"\"\n",
    "    seen = set()\n",
    "    unique = []\n",
    "    for t in texts:\n",
    "        h = hashlib.sha256(t.strip().lower().encode()).hexdigest()\n",
    "        if h not in seen:\n",
    "            unique.append(t)\n",
    "            seen.add(h)\n",
    "    return unique\n",
    "\n",
    "hash_deduped_texts = hash_deduplicate(df[\"text\"].tolist())\n",
    "\n",
    "print(f\"✅ After hash deduplication: {len(hash_deduped_texts)} unique records\")\n",
    "for t in hash_deduped_texts:\n",
    "    print(\"-\", t)\n"
   ]
  },
  {
   "cell_type": "markdown",
   "id": "f48d785f",
   "metadata": {},
   "source": [
    "### Semantic Deduplication (Cosine Similarity on Embeddings)\n",
    "\n",
    "✅ **Use Case:** When we want to remove semantically similar text that is reworded but carries the same meaning (e.g., “covered under warranty” vs “warranty includes coverage”).\n",
    "🧩 **Slightly expensive** (embedding generation) but intelligent — used for final corpus cleanup."
   ]
  },
  {
   "cell_type": "code",
   "execution_count": 8,
   "id": "aaf34ec5",
   "metadata": {},
   "outputs": [
    {
     "name": "stdout",
     "output_type": "stream",
     "text": [
      "\n",
      "✅ After semantic deduplication: 9 records remain\n",
      "📉 Removed 1 similar pairs:\n",
      "\n",
      "🗑️  Removed (similarity: 0.8894):\n",
      "    'The warranty includes coverage for accidental screen damage.'\n",
      "    (kept: 'The warranty covers accidental screen damage and liquid damage.')\n",
      "\n",
      "📋 Final deduplicated texts:\n",
      "- The warranty covers accidental screen damage and liquid damage.\n",
      "- Accidental damage and water exposure are covered under warranty.\n",
      "- Battery replacements are provided free within one year.\n",
      "- The warranty does not include intentional physical damage.\n",
      "- Intentional damage or modification voids the warranty.\n",
      "- Free battery replacement is available during the first year.\n",
      "- Manufacturing defects are always covered under the warranty.\n",
      "- Any manufacturing issue will be covered free of cost under the warranty.\n",
      "- Water and screen damages are part of warranty protection plan.\n"
     ]
    }
   ],
   "source": [
    "# Initialize embedding model\n",
    "embeddings = OpenAIEmbeddings(model=\"text-embedding-3-small\")\n",
    "\n",
    "# Create embeddings for each text\n",
    "embedded_vectors = [embeddings.embed_query(t) for t in hash_deduped_texts]\n",
    "embedded_vectors = np.array(embedded_vectors)\n",
    "\n",
    "# Function to find semantic duplicates\n",
    "def semantic_deduplicate(texts, vectors, threshold=0.85):\n",
    "    \"\"\"\n",
    "    Removes semantically similar sentences based on cosine similarity.\n",
    "    threshold: 0.85 means remove if similarity > 85%\n",
    "    \"\"\"\n",
    "    keep_indices = []\n",
    "    removed_indices = set()\n",
    "    removed_pairs = []  # Track what was removed\n",
    "\n",
    "    for i in range(len(vectors)):\n",
    "        if i in removed_indices:\n",
    "            continue\n",
    "            \n",
    "        # Check if current text is similar to any already kept text\n",
    "        should_keep = True\n",
    "        for kept_idx in keep_indices:\n",
    "            if kept_idx in removed_indices:\n",
    "                continue\n",
    "            sim = cosine_similarity([vectors[i]], [vectors[kept_idx]])[0][0]\n",
    "            if sim > threshold:\n",
    "                should_keep = False\n",
    "                removed_indices.add(i)\n",
    "                removed_pairs.append({\n",
    "                    'removed_idx': i,\n",
    "                    'kept_idx': kept_idx,\n",
    "                    'similarity': sim,\n",
    "                    'removed_text': texts[i],\n",
    "                    'kept_text': texts[kept_idx]\n",
    "                })\n",
    "                break\n",
    "        \n",
    "        if should_keep:\n",
    "            keep_indices.append(i)\n",
    "\n",
    "    filtered_texts = [texts[i] for i in keep_indices]\n",
    "    return filtered_texts, removed_pairs\n",
    "\n",
    "semantic_deduped_texts, removed_pairs = semantic_deduplicate(hash_deduped_texts, embedded_vectors)\n",
    "\n",
    "print(f\"\\n✅ After semantic deduplication: {len(semantic_deduped_texts)} records remain\")\n",
    "print(f\"📉 Removed {len(removed_pairs)} similar pairs:\\n\")\n",
    "\n",
    "for pair in removed_pairs:\n",
    "    print(f\"🗑️  Removed (similarity: {pair['similarity']:.4f}):\")\n",
    "    print(f\"    '{pair['removed_text']}'\")\n",
    "    print(f\"    (kept: '{pair['kept_text']}')\\n\")\n",
    "\n",
    "print(\"📋 Final deduplicated texts:\")\n",
    "for t in semantic_deduped_texts:\n",
    "    print(\"-\", t)\n"
   ]
  }
 ],
 "metadata": {
  "kernelspec": {
   "display_name": "venv-genai",
   "language": "python",
   "name": "python3"
  },
  "language_info": {
   "codemirror_mode": {
    "name": "ipython",
    "version": 3
   },
   "file_extension": ".py",
   "mimetype": "text/x-python",
   "name": "python",
   "nbconvert_exporter": "python",
   "pygments_lexer": "ipython3",
   "version": "3.13.5"
  }
 },
 "nbformat": 4,
 "nbformat_minor": 5
}
