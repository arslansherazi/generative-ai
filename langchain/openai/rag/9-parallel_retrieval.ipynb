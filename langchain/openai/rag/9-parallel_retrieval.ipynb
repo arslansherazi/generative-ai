{
 "cells": [
  {
   "cell_type": "markdown",
   "id": "9c626542",
   "metadata": {},
   "source": [
    "# Parallel Retrieval\n",
    "\n",
    "In **Retrieval-Augmented Generation (RAG)**, relevant documents are fetched from a knowledge base before the large language model (LLM) generates a response.\n",
    "Typically, a single retriever is used, such as **FAISS, Pinecone, or Chroma.**\n",
    "\n",
    "However, certain applications require querying multiple data sources—such as vector stores, APIs, or indices—and performing these queries sequentially can be slow.\n",
    "This challenge is addressed through **parallel retrieval**, where multiple sources are queried simultaneously to improve efficiency and reduce latency."
   ]
  },
  {
   "cell_type": "markdown",
   "id": "6317d4e9",
   "metadata": {},
   "source": [
    "## Use case\n",
    "\n",
    "**Imagine a product assistant that retrieves info from:**\n",
    "\n",
    "- Product Descriptions (stored in FAISS)\n",
    "\n",
    "- Protection Plans (stored in Chroma)\n",
    "\n",
    "- Customer Reviews (stored in Elasticsearch)\n",
    "\n",
    "<br>\n",
    "FAISS: 200ms\n",
    "\n",
    "Chroma: 250ms\n",
    "\n",
    "Elasticsearch: 180ms\n",
    "\n",
    "**Total sequential:** 630ms\n",
    "\n",
    "<br>\n",
    "\n",
    "**With parallel retrieval, they run concurrently:**\n",
    "\n",
    "Total time ≈ 250ms  ✅\n"
   ]
  },
  {
   "cell_type": "code",
   "execution_count": 3,
   "id": "c7dcff5e",
   "metadata": {},
   "outputs": [],
   "source": [
    "import asyncio\n",
    "import nest_asyncio\n",
    "from langchain_openai import OpenAIEmbeddings\n",
    "from langchain.vectorstores import FAISS"
   ]
  },
  {
   "cell_type": "code",
   "execution_count": 4,
   "id": "6ae26939",
   "metadata": {},
   "outputs": [],
   "source": [
    "# Product knowledge base\n",
    "products = [\n",
    "    \"iPhone 15 Pro has a titanium body and A17 chip.\",\n",
    "    \"Samsung Galaxy S24 Ultra has 200MP camera.\",\n",
    "    \"Google Pixel 8 has AI-powered photo editing.\"\n",
    "]\n",
    "\n",
    "# Warranty knowledge base\n",
    "warranties = [\n",
    "    \"Warranty covers accidental and liquid damage.\",\n",
    "    \"AppleCare+ extends iPhone coverage for 2 years.\",\n",
    "    \"Samsung Care+ includes screen replacement twice per year.\"\n",
    "]\n",
    "\n",
    "# Reviews knowledge base\n",
    "reviews = [\n",
    "    \"I love my iPhone 15 Pro. The titanium finish feels premium.\",\n",
    "    \"Pixel 8 AI photo tools are amazing but battery life is average.\",\n",
    "    \"Samsung S24 Ultra camera is the best I've ever used.\"\n",
    "]\n"
   ]
  },
  {
   "cell_type": "markdown",
   "id": "1a9e0113",
   "metadata": {},
   "source": [
    "### Parallel Retrieval"
   ]
  },
  {
   "cell_type": "code",
   "execution_count": 5,
   "id": "4e9eb09a",
   "metadata": {},
   "outputs": [
    {
     "name": "stdout",
     "output_type": "stream",
     "text": [
      "🔍 Retrieved documents:\n",
      "- iPhone 15 Pro has a titanium body and A17 chip.\n",
      "- Google Pixel 8 has AI-powered photo editing.\n",
      "- AppleCare+ extends iPhone coverage for 2 years.\n",
      "- Warranty covers accidental and liquid damage.\n",
      "- I love my iPhone 15 Pro. The titanium finish feels premium.\n",
      "- Pixel 8 AI photo tools are amazing but battery life is average.\n"
     ]
    }
   ],
   "source": [
    "nest_asyncio.apply()\n",
    "\n",
    "# Initialize embeddings\n",
    "embeddings = OpenAIEmbeddings(model=\"text-embedding-3-small\")\n",
    "\n",
    "# Create vector stores for each dataset\n",
    "product_store = FAISS.from_texts(products, embedding=embeddings)\n",
    "warranty_store = FAISS.from_texts(warranties, embedding=embeddings)\n",
    "review_store = FAISS.from_texts(reviews, embedding=embeddings)\n",
    "\n",
    "# Define async retrieval functions\n",
    "async def retrieve_from_product(query):\n",
    "    return product_store.similarity_search(query, k=2)\n",
    "\n",
    "async def retrieve_from_warranty(query):\n",
    "    return warranty_store.similarity_search(query, k=2)\n",
    "\n",
    "async def retrieve_from_reviews(query):\n",
    "    return review_store.similarity_search(query, k=2)\n",
    "\n",
    "# Combine in parallel\n",
    "async def parallel_retrieve(query):\n",
    "    results = await asyncio.gather(\n",
    "        retrieve_from_product(query),\n",
    "        retrieve_from_warranty(query),\n",
    "        retrieve_from_reviews(query)\n",
    "    )\n",
    "    # Flatten the results\n",
    "    flat_results = [item for sublist in results for item in sublist]\n",
    "    return flat_results\n",
    "\n",
    "# Run it\n",
    "query = \"Does iPhone have screen damage coverage?\"\n",
    "results = asyncio.run(parallel_retrieve(query))\n",
    "\n",
    "print(\"🔍 Retrieved documents:\")\n",
    "for r in results:\n",
    "    print(\"-\", r.page_content)"
   ]
  }
 ],
 "metadata": {
  "kernelspec": {
   "display_name": "venv-genai",
   "language": "python",
   "name": "python3"
  },
  "language_info": {
   "codemirror_mode": {
    "name": "ipython",
    "version": 3
   },
   "file_extension": ".py",
   "mimetype": "text/x-python",
   "name": "python",
   "nbconvert_exporter": "python",
   "pygments_lexer": "ipython3",
   "version": "3.13.5"
  }
 },
 "nbformat": 4,
 "nbformat_minor": 5
}
