{
 "cells": [
  {
   "cell_type": "markdown",
   "id": "5439a9ad",
   "metadata": {},
   "source": [
    "# Agentic RAG\n",
    "\n",
    "**Agentic RAG (Retrieval-Augmented Generation with Agents)** is an advanced evolution of RAG that adds autonomy, reasoning, and multi-step decision-making to the retrieval process.\n",
    "\n",
    "Instead of passively fetching chunks from a knowledge base and sending them to an LLM, Agentic RAG allows an intelligent agent to decide:\n",
    "\n",
    "- What information to retrieve\n",
    "\n",
    "- Where to retrieve it from (DB, API, or documents)\n",
    "\n",
    "- When retrieval is unnecessary\n",
    "\n",
    "- How to verify or refine the retrieved knowledge before answering\n",
    "\n",
    "In simple terms, the **LLM acts as a decision-making agent**, not just a passive responder."
   ]
  },
  {
   "cell_type": "markdown",
   "id": "83aa4939",
   "metadata": {},
   "source": [
    "### Use Case \n",
    "Imagine we’re building a **Medical Assistant Chatbot** for a hospital.\n",
    "\n",
    "Chroma Retriever → Trained on structured policies, SOPs, and hospital manuals\n",
    "\n",
    "FAISS Retriever → Trained on unstructured patient Q&A or case descriptions\n",
    "\n",
    "API Retriever → Calls a live API (like CDC or WHO) for up-to-date disease info.\n",
    "\n",
    "When a doctor types:\n",
    "\n",
    "“What is the isolation protocol for a patient with suspected MERS?”\n",
    "\n",
    "The Agentic RAG workflow could be:\n",
    "\n",
    "- The agent checks intent: “This is about hospital protocol.”\n",
    "\n",
    "- Uses Chroma Retriever to fetch official policy.\n",
    "\n",
    "- Cross-checks medical context with FAISS Retriever for case handling advice.\n",
    "\n",
    "- Optionally queries WHO API for the latest recommendations.\n",
    "\n",
    "- Synthesizes an answer using the LLM."
   ]
  },
  {
   "cell_type": "code",
   "execution_count": 24,
   "id": "e47d16e4",
   "metadata": {},
   "outputs": [],
   "source": [
    "from langchain_community.vectorstores import FAISS\n",
    "from langchain_openai import OpenAIEmbeddings, ChatOpenAI\n",
    "from langchain.schema import Document\n",
    "import requests"
   ]
  },
  {
   "cell_type": "code",
   "execution_count": 5,
   "id": "55c89269",
   "metadata": {},
   "outputs": [],
   "source": [
    "# Initialize embeddings and model\n",
    "embeddings = OpenAIEmbeddings()\n",
    "llm = ChatOpenAI(model=\"gpt-4o-mini\")"
   ]
  },
  {
   "cell_type": "code",
   "execution_count": 6,
   "id": "53d9e1d9",
   "metadata": {},
   "outputs": [],
   "source": [
    "# Example structured data (Hospital SOPs)\n",
    "sop_texts = [\n",
    "    \"All patients suspected of having MERS must be isolated immediately in negative pressure rooms.\",\n",
    "    \"Doctors must wear N95 masks and PPE kits when handling contagious cases.\",\n",
    "    \"All waste from infectious wards should be disposed of as per biohazard protocol section 3.2.\"\n",
    "]\n",
    "\n",
    "# Example unstructured Q&A data (Semantic)\n",
    "qa_texts = [\n",
    "    \"A patient with MERS showed symptoms of fever, cough, and difficulty breathing. He was isolated within 2 hours.\",\n",
    "    \"If the hospital is full, temporary isolation using portable barriers is acceptable for suspected infections.\",\n",
    "    \"Patients with COVID-19 and MERS require separate wards due to cross-contamination risks.\"\n",
    "]\n",
    "\n",
    "# Convert to LangChain Document objects\n",
    "sop_docs = [Document(page_content=t) for t in sop_texts]\n",
    "qa_docs = [Document(page_content=t) for t in qa_texts]\n"
   ]
  },
  {
   "cell_type": "code",
   "execution_count": 14,
   "id": "618f366a",
   "metadata": {},
   "outputs": [
    {
     "name": "stdout",
     "output_type": "stream",
     "text": [
      "✅ In-memory retrievers initialized successfully.\n"
     ]
    }
   ],
   "source": [
    "# Create in-memory vector stores\n",
    "sop_faiss_db = FAISS.from_documents(sop_docs, embedding=embeddings)\n",
    "qa_faiss_db = FAISS.from_documents(qa_docs, embedding=embeddings)\n",
    "\n",
    "print(\"✅ In-memory retrievers initialized successfully.\")"
   ]
  },
  {
   "cell_type": "code",
   "execution_count": 15,
   "id": "edc95c76",
   "metadata": {},
   "outputs": [],
   "source": [
    "# Convert to retrievers\n",
    "sop_retriever = sop_faiss_db.as_retriever(search_kwargs={\"k\": 2})\n",
    "qa_retriever = qa_faiss_db.as_retriever(search_kwargs={\"k\": 2})"
   ]
  },
  {
   "cell_type": "code",
   "execution_count": 16,
   "id": "e7562ad0",
   "metadata": {},
   "outputs": [],
   "source": [
    "def api_retriever(query: str):\n",
    "    \"\"\"Mock retriever for external data (WHO API example).\"\"\"\n",
    "    if \"covid\" not in query.lower():\n",
    "        return \"No live data relevant to this query.\"\n",
    "    try:\n",
    "        response = requests.get(\"https://disease.sh/v3/covid-19/all\", timeout=5)\n",
    "        data = response.json()\n",
    "        return f\"Live API data: {data['cases']:,} total COVID cases globally, {data['deaths']:,} deaths.\"\n",
    "    except Exception as e:\n",
    "        return f\"API fetch failed: {e}\""
   ]
  },
  {
   "cell_type": "markdown",
   "id": "51029e07",
   "metadata": {},
   "source": [
    "#### Agentic Decision Logic"
   ]
  },
  {
   "cell_type": "code",
   "execution_count": 22,
   "id": "ed1e191d",
   "metadata": {},
   "outputs": [],
   "source": [
    "from langchain.agents import Tool\n",
    "from langchain.schema import HumanMessage, SystemMessage\n",
    "\n",
    "def create_retrieval_tools():\n",
    "    \"\"\"Create tools for different retrieval sources.\"\"\"\n",
    "    def sop_search(query: str) -> str:\n",
    "        docs = sop_retriever.get_relevant_documents(query)\n",
    "        return \"\\n\".join([doc.page_content for doc in docs])\n",
    "    \n",
    "    def qa_search(query: str) -> str:\n",
    "        docs = qa_retriever.get_relevant_documents(query)\n",
    "        return \"\\n\".join([doc.page_content for doc in docs])\n",
    "    \n",
    "    def api_search(query: str) -> str:\n",
    "        return api_retriever(query)\n",
    "    \n",
    "    return [\n",
    "        Tool(name=\"sop_search\", description=\"Search hospital SOPs and policies\", func=sop_search),\n",
    "        Tool(name=\"qa_search\", description=\"Search patient Q&A and case studies\", func=qa_search),\n",
    "        Tool(name=\"api_search\", description=\"Get live data from external APIs\", func=api_search)\n",
    "    ]\n",
    "\n",
    "tools = create_retrieval_tools()"
   ]
  },
  {
   "cell_type": "code",
   "execution_count": 25,
   "id": "f8b387e8",
   "metadata": {},
   "outputs": [],
   "source": [
    "class AgenticRAG:\n",
    "    def __init__(self, llm, tools):\n",
    "        self.llm = llm\n",
    "        self.tools = {tool.name: tool for tool in tools}\n",
    "        \n",
    "    def _decide_retrieval_strategy(self, query: str) -> list:\n",
    "        \"\"\"LLM decides which retrieval sources to use.\"\"\"\n",
    "        print(f\"🤔 Analyzing query: '{query}'\")\n",
    "        print(\"📋 Available sources:\")\n",
    "        for tool_name, tool in self.tools.items():\n",
    "            print(f\"  - {tool_name}: {tool.description}\")\n",
    "        \n",
    "        system_prompt = \"\"\"You are a medical assistant. Analyze the query and decide which retrieval sources to use.\n",
    "        \n",
    "        Available sources:\n",
    "        - sop_search: Hospital policies, SOPs, official procedures\n",
    "        - qa_search: Patient cases, Q&A, practical examples  \n",
    "        - api_search: Live data, current statistics\n",
    "\n",
    "        Return only the tool names as a comma-separated list. Example: \"sop_search,qa_search\"\n",
    "        \"\"\"\n",
    "        \n",
    "        messages = [\n",
    "            SystemMessage(content=system_prompt),\n",
    "            HumanMessage(content=f\"Query: {query}\")\n",
    "        ]\n",
    "        \n",
    "        response = self.llm.invoke(messages)\n",
    "        tool_names = [name.strip() for name in response.content.split(\",\")]\n",
    "        selected_tools = [name for name in tool_names if name in self.tools]\n",
    "        \n",
    "        print(f\"🎯 LLM selected sources: {selected_tools}\")\n",
    "        return selected_tools\n",
    "    \n",
    "    def _retrieve_and_synthesize(self, query: str, tool_names: list) -> str:\n",
    "        \"\"\"Retrieve from selected sources and synthesize response.\"\"\"\n",
    "        print(f\"\\n🔍 Retrieving information from {len(tool_names)} sources...\")\n",
    "        retrieved_info = []\n",
    "        \n",
    "        for tool_name in tool_names:\n",
    "            print(f\"  📖 Querying {tool_name}...\")\n",
    "            tool = self.tools[tool_name]\n",
    "            result = tool.func(query)\n",
    "            retrieved_info.append(f\"From {tool_name}: {result}\")\n",
    "            print(f\"    ✅ Retrieved {len(result)} characters\")\n",
    "        \n",
    "        print(f\"\\n🧠 Synthesizing response...\")\n",
    "        context = \"\\n\\n\".join(retrieved_info)\n",
    "        \n",
    "        synthesis_prompt = f\"\"\"Based on the retrieved information, provide a comprehensive answer to the query.\n",
    "\n",
    "        Query: {query}\n",
    "\n",
    "        Retrieved Information:\n",
    "        {context}\n",
    "\n",
    "        Answer:\"\"\"\n",
    "        \n",
    "        response = self.llm.invoke([HumanMessage(content=synthesis_prompt)])\n",
    "        print(\"✅ Response generated\")\n",
    "        return response.content\n",
    "    \n",
    "    def query(self, question: str) -> str:\n",
    "        \"\"\"Main query method that orchestrates the agentic RAG process.\"\"\"\n",
    "        print(f\"\\n🚀 Starting Agentic RAG process...\")\n",
    "        tool_names = self._decide_retrieval_strategy(question)\n",
    "        return self._retrieve_and_synthesize(question, tool_names)\n",
    "\n",
    "# Initialize Agentic RAG\n",
    "agentic_rag = AgenticRAG(llm, tools)\n"
   ]
  },
  {
   "cell_type": "code",
   "execution_count": 26,
   "id": "824d5a2f",
   "metadata": {},
   "outputs": [
    {
     "name": "stdout",
     "output_type": "stream",
     "text": [
      "\n",
      "🚀 Starting Agentic RAG process...\n",
      "🤔 Analyzing query: 'What is the isolation protocol for a patient with suspected MERS?'\n",
      "📋 Available sources:\n",
      "  - sop_search: Search hospital SOPs and policies\n",
      "  - qa_search: Search patient Q&A and case studies\n",
      "  - api_search: Get live data from external APIs\n",
      "🎯 LLM selected sources: ['sop_search']\n",
      "\n",
      "🔍 Retrieving information from 1 sources...\n",
      "  📖 Querying sop_search...\n",
      "    ✅ Retrieved 167 characters\n",
      "\n",
      "🧠 Synthesizing response...\n",
      "✅ Response generated\n",
      "Question: What is the isolation protocol for a patient with suspected MERS?\n",
      "Answer: The isolation protocol for a patient with suspected Middle East Respiratory Syndrome (MERS) requires immediate action to prevent the transmission of the virus. Here are the key components of the protocol:\n",
      "\n",
      "1. **Immediate Isolation**: Patients suspected of having MERS must be isolated immediately upon suspicion of infection. This is crucial for containing the virus and ensuring the safety of other patients and healthcare workers.\n",
      "\n",
      "2. **Negative Pressure Rooms**: Suspected MERS patients should be placed in negative pressure rooms. These specialized rooms are designed to prevent airborne pathogens from escaping, thereby minimizing the risk of transmission to other areas of the healthcare facility.\n",
      "\n",
      "3. **Personal Protective Equipment (PPE)**: Healthcare providers attending to patients with suspected MERS must adhere to strict PPE protocols. Specifically, they should wear N95 respirators to protect against inhalation of respiratory droplets, as well as full PPE kits which may include gowns, gloves, face shields, and eye protection.\n",
      "\n",
      "These measures are essential to control the spread of MERS and protect both healthcare personnel and the general public.\n"
     ]
    }
   ],
   "source": [
    "# Test Agentic RAG\n",
    "question = \"What is the isolation protocol for a patient with suspected MERS?\"\n",
    "answer = agentic_rag.query(question)\n",
    "print(f\"Question: {question}\")\n",
    "print(f\"Answer: {answer}\")"
   ]
  },
  {
   "cell_type": "code",
   "execution_count": 27,
   "id": "137b391d",
   "metadata": {},
   "outputs": [
    {
     "name": "stdout",
     "output_type": "stream",
     "text": [
      "\n",
      "🚀 Starting Agentic RAG process...\n",
      "🤔 Analyzing query: 'What are covid stats so far?'\n",
      "📋 Available sources:\n",
      "  - sop_search: Search hospital SOPs and policies\n",
      "  - qa_search: Search patient Q&A and case studies\n",
      "  - api_search: Get live data from external APIs\n",
      "🎯 LLM selected sources: ['api_search']\n",
      "\n",
      "🔍 Retrieving information from 1 sources...\n",
      "  📖 Querying api_search...\n",
      "    ✅ Retrieved 72 characters\n",
      "\n",
      "🧠 Synthesizing response...\n",
      "✅ Response generated\n",
      "Question: What are covid stats so far?\n",
      "Answer: As of the latest live data available, there have been a total of 704,753,890 confirmed COVID-19 cases worldwide. The pandemic has resulted in approximately 7,010,681 deaths globally. These statistics reflect the ongoing impact of COVID-19 across various nations, highlighting the importance of continued public health efforts and vaccination campaigns to combat the virus.\n"
     ]
    }
   ],
   "source": [
    "question = \"What are covid stats so far?\"\n",
    "answer = agentic_rag.query(question)\n",
    "print(f\"Question: {question}\")\n",
    "print(f\"Answer: {answer}\")"
   ]
  },
  {
   "cell_type": "code",
   "execution_count": 28,
   "id": "45b52be3",
   "metadata": {},
   "outputs": [
    {
     "name": "stdout",
     "output_type": "stream",
     "text": [
      "\n",
      "🚀 Starting Agentic RAG process...\n",
      "🤔 Analyzing query: 'What are the symptomps of MERS and what should be the initial steps by doctors?'\n",
      "📋 Available sources:\n",
      "  - sop_search: Search hospital SOPs and policies\n",
      "  - qa_search: Search patient Q&A and case studies\n",
      "  - api_search: Get live data from external APIs\n",
      "🎯 LLM selected sources: ['qa_search', 'sop_search']\n",
      "\n",
      "🔍 Retrieving information from 2 sources...\n",
      "  📖 Querying qa_search...\n",
      "    ✅ Retrieved 199 characters\n",
      "  📖 Querying sop_search...\n",
      "    ✅ Retrieved 167 characters\n",
      "\n",
      "🧠 Synthesizing response...\n",
      "✅ Response generated\n",
      "Question: What are the symptomps of MERS and what should be the initial steps by doctors?\n",
      "Answer: MERS, or Middle East Respiratory Syndrome, presents a range of symptoms primarily affecting the respiratory system. The key symptoms to look out for include:\n",
      "\n",
      "1. **Fever** - Often one of the first indicators.\n",
      "2. **Cough** - May develop as the illness progresses.\n",
      "3. **Difficulty Breathing** - This can range from mild to severe and is a critical symptom that may necessitate immediate medical attention.\n",
      "\n",
      "In addition to these, some patients may also experience other symptoms such as muscle pain, sore throat, or gastrointestinal issues.\n",
      "\n",
      "Upon suspicion of MERS, the initial steps that doctors should take include:\n",
      "\n",
      "1. **Immediate Isolation** - The patient should be isolated as quickly as possible, ideally within 2 hours of symptom onset, to prevent the spread of the virus. Isolation should take place in a negative pressure room to reduce the risk of cross-contamination.\n",
      "\n",
      "2. **Protective Equipment** - Healthcare providers must don appropriate protective gear, including N95 masks and complete Personal Protective Equipment (PPE) kits, to safeguard themselves while managing the suspected case.\n",
      "\n",
      "3. **Separation from Other Patients** - It's essential to have clear protocols in place to ensure that patients exhibiting symptoms of MERS are kept in separate wards from those suspected of having other respiratory infections, such as COVID-19, to mitigate any risks of cross-contamination.\n",
      "\n",
      "Following these steps not only helps in managing the immediate care of the patient but also plays a crucial role in preventing outbreaks and ensuring the safety of healthcare workers and other patients.\n"
     ]
    }
   ],
   "source": [
    "question = \"What are the symptomps of MERS and what should be the initial steps by doctors?\"\n",
    "answer = agentic_rag.query(question)\n",
    "print(f\"Question: {question}\")\n",
    "print(f\"Answer: {answer}\")"
   ]
  }
 ],
 "metadata": {
  "kernelspec": {
   "display_name": "venv-genai",
   "language": "python",
   "name": "python3"
  },
  "language_info": {
   "codemirror_mode": {
    "name": "ipython",
    "version": 3
   },
   "file_extension": ".py",
   "mimetype": "text/x-python",
   "name": "python",
   "nbconvert_exporter": "python",
   "pygments_lexer": "ipython3",
   "version": "3.13.5"
  }
 },
 "nbformat": 4,
 "nbformat_minor": 5
}
