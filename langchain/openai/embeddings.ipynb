{
 "cells": [
  {
   "cell_type": "markdown",
   "metadata": {},
   "source": [
    "# Embeddings"
   ]
  },
  {
   "cell_type": "markdown",
   "metadata": {},
   "source": [
    "#### Vector store index"
   ]
  },
  {
   "cell_type": "code",
   "execution_count": 7,
   "metadata": {},
   "outputs": [],
   "source": [
    "from langchain.vectorstores import FAISS\n",
    "from langchain.embeddings import OpenAIEmbeddings\n",
    "from langchain.indexes import VectorstoreIndexCreator"
   ]
  },
  {
   "cell_type": "code",
   "execution_count": 19,
   "metadata": {},
   "outputs": [
    {
     "name": "stdout",
     "output_type": "stream",
     "text": [
      "Result 1: page_content='jumps over the lazy dog'\n",
      "Result 2: page_content='The quick brown fox'\n",
      "Result 3: page_content='Hello World!'\n"
     ]
    }
   ],
   "source": [
    "documents = [\"The quick brown fox\", \"jumps over the lazy dog\", \"Hello World!\"]\n",
    "embeddings = OpenAIEmbeddings()\n",
    "\n",
    "documents = [\"The quick brown fox\", \"jumps over the lazy dog\", \"Hello World!\"]\n",
    "embeddings = OpenAIEmbeddings()\n",
    "\n",
    "# Create a vector store index\n",
    "vectorstore = FAISS.from_texts(documents, embedding=embeddings)\n",
    "\n",
    "# Query the index\n",
    "query = \"lazy dog\"\n",
    "results = vectorstore.similarity_search(query)\n",
    "\n",
    "# Display the results\n",
    "for i, result in enumerate(results):\n",
    "    print(f\"Result {i+1}: {result}\")"
   ]
  },
  {
   "cell_type": "code",
   "execution_count": 20,
   "metadata": {},
   "outputs": [
    {
     "name": "stdout",
     "output_type": "stream",
     "text": [
      "Result 1: page_content='Hello World!'\n",
      "Result 2: page_content='The quick brown fox'\n",
      "Result 3: page_content='jumps over the lazy dog'\n"
     ]
    }
   ],
   "source": [
    "# Query the index\n",
    "query = \"world\"\n",
    "results = vectorstore.similarity_search(query)\n",
    "\n",
    "# Display the results\n",
    "for i, result in enumerate(results):\n",
    "    print(f\"Result {i+1}: {result}\")"
   ]
  },
  {
   "cell_type": "code",
   "execution_count": null,
   "metadata": {},
   "outputs": [],
   "source": []
  },
  {
   "cell_type": "code",
   "execution_count": null,
   "metadata": {},
   "outputs": [],
   "source": []
  }
 ],
 "metadata": {
  "kernelspec": {
   "display_name": "generative-ai-cfm5DT86",
   "language": "python",
   "name": "python3"
  },
  "language_info": {
   "codemirror_mode": {
    "name": "ipython",
    "version": 3
   },
   "file_extension": ".py",
   "mimetype": "text/x-python",
   "name": "python",
   "nbconvert_exporter": "python",
   "pygments_lexer": "ipython3",
   "version": "3.12.5"
  }
 },
 "nbformat": 4,
 "nbformat_minor": 2
}
