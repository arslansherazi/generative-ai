{
 "cells": [
  {
   "cell_type": "code",
   "execution_count": 1,
   "metadata": {},
   "outputs": [
    {
     "data": {
      "text/plain": [
       "True"
      ]
     },
     "execution_count": 1,
     "metadata": {},
     "output_type": "execute_result"
    }
   ],
   "source": [
    "from dotenv import load_dotenv\n",
    "\n",
    "load_dotenv()"
   ]
  },
  {
   "cell_type": "code",
   "execution_count": 2,
   "metadata": {},
   "outputs": [],
   "source": [
    "from langchain_google_genai import ChatGoogleGenerativeAI"
   ]
  },
  {
   "cell_type": "code",
   "execution_count": 5,
   "metadata": {},
   "outputs": [
    {
     "name": "stdout",
     "output_type": "stream",
     "text": [
      "content='1. Great Wall of China\\n2. Christ the Redeemer\\n3. Chichen Itza\\n4. Colosseum\\n5. Machu Picchu\\n6. Petra\\n7. Taj Mahal\\n8. Great Pyramid of Giza' response_metadata={'prompt_feedback': {'block_reason': 0, 'safety_ratings': []}, 'finish_reason': 'STOP', 'safety_ratings': [{'category': 'HARM_CATEGORY_SEXUALLY_EXPLICIT', 'probability': 'NEGLIGIBLE', 'blocked': False}, {'category': 'HARM_CATEGORY_HATE_SPEECH', 'probability': 'NEGLIGIBLE', 'blocked': False}, {'category': 'HARM_CATEGORY_HARASSMENT', 'probability': 'NEGLIGIBLE', 'blocked': False}, {'category': 'HARM_CATEGORY_DANGEROUS_CONTENT', 'probability': 'NEGLIGIBLE', 'blocked': False}]} id='run-64f21f0e-031b-48cb-9fea-a1ceb63b390f-0' usage_metadata={'input_tokens': 8, 'output_tokens': 46, 'total_tokens': 54}\n"
     ]
    }
   ],
   "source": [
    "llm = ChatGoogleGenerativeAI(model=\"gemini-pro\")\n",
    "result = llm.invoke(\"List 8 wonders of the word\")\n",
    "print(result)"
   ]
  },
  {
   "cell_type": "markdown",
   "metadata": {},
   "source": [
    "### Streaming and Batching\n"
   ]
  },
  {
   "cell_type": "code",
   "execution_count": 6,
   "metadata": {},
   "outputs": [
    {
     "name": "stdout",
     "output_type": "stream",
     "text": [
      "**1. The Great Wall of China**\n",
      "\n",
      "* Location: China\n",
      "*\n",
      " Length: Over 21,000 km (13,000 miles)\n",
      "* Built: 7th century BC to 1\n",
      "7th century AD\n",
      "* Purpose: To protect China from invaders\n",
      "\n",
      "**2. The Colosseum**\n",
      "\n",
      "* Location: Rome, Italy\n",
      "* Built: 70-80 AD\n",
      "* Capacity: Over 50,000 spectators\n",
      "* Purpose: To host gladiatorial contests and public spectacles\n",
      "\n",
      "\n",
      "**3. Chichen Itza**\n",
      "\n",
      "* Location: Yucatán Peninsula, Mexico\n",
      "* Built: 9th-12th centuries AD\n",
      "* Purpose: A ceremonial and political center of the Maya civilization\n",
      "\n",
      "**4. Christ the Redeemer**\n",
      "\n",
      "* Location: Rio de Janeiro, Brazil\n",
      "* Built: 1922-1931\n",
      "* Height: 30 meters (98 feet)\n",
      "* Purpose: A symbol of Christianity and a national landmark\n",
      "\n",
      "**5. Machu Picchu**\n",
      "\n",
      "* Location: Andes Mountains, Peru\n",
      "* Built: 15th century AD\n",
      "* Purpose:\n",
      " A ceremonial and political center of the Inca Empire\n",
      "\n",
      "**6. Petra**\n",
      "\n",
      "* Location: Jordan\n",
      "* Built: 1st century AD\n",
      "* Purpose: The capital city of the Nabataean Kingdom\n",
      "\n",
      "**7. Taj Mahal**\n",
      "\n",
      "* Location: Agra, India\n",
      "* Built: 1631-1653\n",
      "* Purpose: A mausoleum for the Mughal emperor Shah Jahan and his wife\n",
      "\n",
      "**8. Great Barrier Reef**\n",
      "\n",
      "* Location: Coral Sea, off the coast of Queensland, Australia\n",
      "* Length: Over 2,300 km (1,400 miles)\n",
      "* Purpose: A diverse and fragile ecosystem home to a wide variety of marine life\n"
     ]
    }
   ],
   "source": [
    "for chunk in llm.stream(\"8 Wonders of World\"):\n",
    "    print(chunk.content)"
   ]
  },
  {
   "cell_type": "code",
   "execution_count": 8,
   "metadata": {},
   "outputs": [
    {
     "name": "stdout",
     "output_type": "stream",
     "text": [
      "4\n",
      "58.68\n"
     ]
    }
   ],
   "source": [
    "result = llm.batch(\n",
    "    [\n",
    "        \"What's 2 +2 ?\",\n",
    "        \"What's 34.9 + 23.78?\"\n",
    "    ]\n",
    ")\n",
    "for _result in result:\n",
    "    print(_result.content)"
   ]
  },
  {
   "cell_type": "code",
   "execution_count": null,
   "metadata": {},
   "outputs": [],
   "source": []
  }
 ],
 "metadata": {
  "kernelspec": {
   "display_name": "langchain-venv",
   "language": "python",
   "name": "python3"
  },
  "language_info": {
   "codemirror_mode": {
    "name": "ipython",
    "version": 3
   },
   "file_extension": ".py",
   "mimetype": "text/x-python",
   "name": "python",
   "nbconvert_exporter": "python",
   "pygments_lexer": "ipython3",
   "version": "3.12.4"
  }
 },
 "nbformat": 4,
 "nbformat_minor": 2
}
