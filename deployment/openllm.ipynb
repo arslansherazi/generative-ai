{
 "cells": [
  {
   "cell_type": "markdown",
   "id": "51050e15",
   "metadata": {},
   "source": [
    "# Open LLM"
   ]
  },
  {
   "cell_type": "code",
   "execution_count": null,
   "id": "a47c5328",
   "metadata": {},
   "outputs": [],
   "source": [
    "!openllm hello"
   ]
  },
  {
   "cell_type": "code",
   "execution_count": null,
   "id": "6ead1a62",
   "metadata": {},
   "outputs": [],
   "source": [
    "! openllm serve gemma3:1b-instruct-15d1 "
   ]
  }
 ],
 "metadata": {
  "kernelspec": {
   "display_name": "venv-genai",
   "language": "python",
   "name": "python3"
  },
  "language_info": {
   "codemirror_mode": {
    "name": "ipython",
    "version": 3
   },
   "file_extension": ".py",
   "mimetype": "text/x-python",
   "name": "python",
   "nbconvert_exporter": "python",
   "pygments_lexer": "ipython3",
   "version": "3.13.3"
  }
 },
 "nbformat": 4,
 "nbformat_minor": 5
}
