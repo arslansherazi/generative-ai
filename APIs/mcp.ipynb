{
 "cells": [
  {
   "cell_type": "markdown",
   "id": "5c6f5feb",
   "metadata": {},
   "source": [
    "# MCP Server using Fast API"
   ]
  }
 ],
 "metadata": {
  "language_info": {
   "name": "python"
  }
 },
 "nbformat": 4,
 "nbformat_minor": 5
}
