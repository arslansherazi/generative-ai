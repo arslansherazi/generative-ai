{
 "cells": [
  {
   "cell_type": "markdown",
   "metadata": {},
   "source": [
    "## Recipe Maker"
   ]
  },
  {
   "cell_type": "code",
   "execution_count": 1,
   "metadata": {},
   "outputs": [
    {
     "data": {
      "text/plain": [
       "True"
      ]
     },
     "execution_count": 1,
     "metadata": {},
     "output_type": "execute_result"
    }
   ],
   "source": [
    "from dotenv import load_dotenv\n",
    "\n",
    "load_dotenv()"
   ]
  },
  {
   "cell_type": "code",
   "execution_count": 2,
   "metadata": {},
   "outputs": [],
   "source": [
    "from langchain_openai import ChatOpenAI\n",
    "from langgraph.graph import StateGraph\n",
    "from pydantic import BaseModel"
   ]
  },
  {
   "cell_type": "code",
   "execution_count": 3,
   "metadata": {},
   "outputs": [],
   "source": [
    "class RecipeCreationState(BaseModel):\n",
    "    \"\"\"\n",
    "    Represents the state of a recipe generation workflow.\n",
    "    \"\"\"\n",
    "    ingredients: str\n",
    "    meal_type: str | None = None\n",
    "    recipe_steps: str | None = None\n",
    "    final_recipe: str | None = None"
   ]
  },
  {
   "cell_type": "markdown",
   "metadata": {},
   "source": [
    "### LLM"
   ]
  },
  {
   "cell_type": "code",
   "execution_count": 4,
   "metadata": {},
   "outputs": [],
   "source": [
    "llm = ChatOpenAI(model=\"gpt-3.5-turbo\")"
   ]
  },
  {
   "cell_type": "markdown",
   "metadata": {},
   "source": [
    "### Agents"
   ]
  },
  {
   "cell_type": "code",
   "execution_count": 5,
   "metadata": {},
   "outputs": [],
   "source": [
    "from langchain.schema import HumanMessage\n",
    "\n",
    "def determine_meal_type(state: RecipeCreationState) -> RecipeCreationState:\n",
    "    \"\"\"\n",
    "    Determines the type of meal based on provided ingredients.\n",
    "    \"\"\"\n",
    "    response = llm.invoke([HumanMessage(content=f\"What type of meal can be made with these ingredients? {state.ingredients}\")]).content\n",
    "    state.meal_type = response\n",
    "    return state\n",
    "\n",
    "def generate_recipe_steps(state: RecipeCreationState) -> RecipeCreationState:\n",
    "    \"\"\"\n",
    "    Generates cooking steps for the meal type.\n",
    "    \"\"\"\n",
    "    response = llm.invoke([HumanMessage(content=f\"Provide cooking steps for making {state.meal_type} with these ingredients: {state.ingredients}\")]).content\n",
    "    state.recipe_steps = response\n",
    "    return state\n",
    "\n",
    "def format_final_recipe(state: RecipeCreationState) -> RecipeCreationState:\n",
    "    \"\"\"\n",
    "    Formats the final recipe in a structured manner.\n",
    "    \"\"\"\n",
    "    response = llm.invoke([HumanMessage(content=f\"Format a final recipe for {state.meal_type} including ingredients and steps: {state.recipe_steps}\")]).content\n",
    "    state.final_recipe = response\n",
    "    return state"
   ]
  },
  {
   "cell_type": "markdown",
   "metadata": {},
   "source": [
    "### Workflow (Nodes)"
   ]
  },
  {
   "cell_type": "code",
   "execution_count": 6,
   "metadata": {},
   "outputs": [
    {
     "data": {
      "text/plain": [
       "<langgraph.graph.state.StateGraph at 0x11892c290>"
      ]
     },
     "execution_count": 6,
     "metadata": {},
     "output_type": "execute_result"
    }
   ],
   "source": [
    "graph = StateGraph(RecipeCreationState)\n",
    "graph.add_node(\"DetermineMealType\", determine_meal_type)\n",
    "graph.add_node(\"GenerateRecipeSteps\", generate_recipe_steps)\n",
    "graph.add_node(\"FormatFinalRecipe\", format_final_recipe)"
   ]
  },
  {
   "cell_type": "markdown",
   "metadata": {},
   "source": [
    "### Edges"
   ]
  },
  {
   "cell_type": "code",
   "execution_count": 7,
   "metadata": {},
   "outputs": [
    {
     "data": {
      "text/plain": [
       "<langgraph.graph.state.StateGraph at 0x11892c290>"
      ]
     },
     "execution_count": 7,
     "metadata": {},
     "output_type": "execute_result"
    }
   ],
   "source": [
    "graph.add_edge(\"DetermineMealType\", \"GenerateRecipeSteps\")\n",
    "graph.add_edge(\"GenerateRecipeSteps\", \"FormatFinalRecipe\")\n",
    "\n",
    "graph.set_entry_point(\"DetermineMealType\")"
   ]
  },
  {
   "cell_type": "markdown",
   "metadata": {},
   "source": [
    "### Run the Graph"
   ]
  },
  {
   "cell_type": "code",
   "execution_count": 9,
   "metadata": {},
   "outputs": [
    {
     "name": "stdout",
     "output_type": "stream",
     "text": [
      "Generated Recipe: Ingredients:\n",
      "- 1 lb chicken pieces (such as thighs or breasts)\n",
      "- 1 onion, chopped\n",
      "- 3 cloves garlic, minced\n",
      "- 1 can diced tomatoes\n",
      "- 2 tsp paprika\n",
      "- 1 tsp cumin\n",
      "- 1 tsp oregano\n",
      "- Salt and pepper, to taste\n",
      "- Olive oil\n",
      "- Chicken broth\n",
      "\n",
      "Instructions:\n",
      "1. Heat a large pot or Dutch oven over medium-high heat. Add a drizzle of olive oil and brown the chicken pieces on all sides, about 5-7 minutes. Remove the chicken and set aside.\n",
      "2. In the same pot, add chopped onions and garlic. Cook until the onions are translucent, about 5 minutes.\n",
      "3. Add diced tomatoes to the pot, along with paprika, cumin, and oregano. Stir to combine.\n",
      "4. Add the browned chicken back to the pot and pour in enough chicken broth to cover the chicken and vegetables. Bring to a boil, then reduce heat and let simmer for about 30 minutes.\n",
      "5. Taste and adjust seasoning as needed, adding salt and pepper to taste.\n",
      "6. Serve the chicken and tomato stew over cooked rice or with crusty bread. Enjoy!\n"
     ]
    }
   ],
   "source": [
    "runnable_graph = graph.compile()\n",
    "\n",
    "initial_state = RecipeCreationState(ingredients=\"chicken, garlic, tomatoes, onions, spices\")\n",
    "final_state = RecipeCreationState(**runnable_graph.invoke(initial_state))\n",
    "\n",
    "print(\"Generated Recipe:\", final_state.final_recipe)\n"
   ]
  }
 ],
 "metadata": {
  "kernelspec": {
   "display_name": "generative-ai-XwelIRLU",
   "language": "python",
   "name": "python3"
  },
  "language_info": {
   "codemirror_mode": {
    "name": "ipython",
    "version": 3
   },
   "file_extension": ".py",
   "mimetype": "text/x-python",
   "name": "python",
   "nbconvert_exporter": "python",
   "pygments_lexer": "ipython3",
   "version": "3.12.9"
  }
 },
 "nbformat": 4,
 "nbformat_minor": 2
}
