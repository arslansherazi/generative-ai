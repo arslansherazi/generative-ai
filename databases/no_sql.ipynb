{
 "cells": [
  {
   "cell_type": "markdown",
   "id": "3da35930",
   "metadata": {},
   "source": [
    "# NoSQL DBs in Generative AI\n",
    "\n",
    "**MongoDB:** Used for storing structured/unstructured metadata, user prompts, model outputs, and other app-level data.\n",
    "\n",
    "**Elasticsearch:** Used for semantic search or retrieval-augmented generation (RAG), where relevant context is retrieved and passed to the LLM to enhance response quality."
   ]
  },
  {
   "cell_type": "markdown",
   "id": "49c0d6ec",
   "metadata": {},
   "source": [
    "## AI Knowledge Assistant\n",
    "\n",
    "🗣️ Accepts a user query\n",
    "\n",
    "🔍 Uses an Elasticsearch retriever tool to fetch related docs\n",
    "\n",
    "🧾 Optionally checks user history or context from MongoDB\n",
    "\n",
    "🤖 Uses LangChain Agent to decide how to answer\n",
    "\n",
    "💬 Generates a response using LLM\n",
    "\n",
    "🧠 Stores chat in MongoDB\n",
    "\n",
    "\n",
    "**Architecture**\n",
    "\n",
    "User Query\n",
    "\n",
    "   ↓\n",
    "\n",
    "LangChain Agent\n",
    "\n",
    "   ├── Tool 1: ElasticsearchRetrieverTool\n",
    "\n",
    "   ├── Tool 2: MongoDBChatHistoryTool\n",
    "\n",
    "   ↓\n",
    "\n",
    "LLM generates answer using both tools\n",
    "\n",
    "   ↓\n",
    "\n",
    "Answer is saved to MongoDB\n"
   ]
  },
  {
   "cell_type": "code",
   "execution_count": 2,
   "id": "80b72c5e",
   "metadata": {
    "ExecuteTime": {
     "end_time": "2025-04-18T14:43:01.643907Z",
     "start_time": "2025-04-18T14:43:01.636467Z"
    }
   },
   "outputs": [
    {
     "data": {
      "text/plain": [
       "True"
      ]
     },
     "execution_count": 2,
     "metadata": {},
     "output_type": "execute_result"
    }
   ],
   "source": [
    "from dotenv import load_dotenv\n",
    "\n",
    "load_dotenv()"
   ]
  },
  {
   "cell_type": "code",
   "execution_count": 3,
   "id": "120a9035",
   "metadata": {
    "ExecuteTime": {
     "end_time": "2025-04-18T14:39:16.199410Z",
     "start_time": "2025-04-18T14:39:14.790574Z"
    }
   },
   "outputs": [],
   "source": [
    "import traceback\n",
    "\n",
    "from langchain.agents import initialize_agent\n",
    "from langchain_core.tools import Tool\n",
    "from langchain_openai import ChatOpenAI\n",
    "from pymongo import MongoClient"
   ]
  },
  {
   "cell_type": "code",
   "execution_count": 4,
   "id": "c0043369",
   "metadata": {
    "ExecuteTime": {
     "end_time": "2025-04-17T13:28:07.085194Z",
     "start_time": "2025-04-17T13:28:07.082331Z"
    }
   },
   "outputs": [],
   "source": [
    "INDEX_NAME = \"product_docs_vector\"\n",
    "\n",
    "documents = [\n",
    "    \"To reset your password, go to the settings page and click on 'Forgot Password'.\",\n",
    "    \"Our refund policy allows returns within 30 days of purchase, with the original receipt.\",\n",
    "    \"All electronics come with a one-year manufacturer warranty unless specified otherwise.\",\n",
    "    \"You can track your order using the tracking number sent to your email after shipping.\",\n",
    "    \"Contact our support team 24/7 via live chat or by calling our toll-free number.\",\n",
    "    \"Premium members receive free shipping and priority customer support.\",\n",
    "    \"Your data is encrypted and stored securely as per industry standards.\",\n",
    "    \"Multiple failed login attempts will temporarily lock your account for 15 minutes.\",\n",
    "    \"You can change your communication preferences from your profile settings.\",\n",
    "    \"Install our mobile app for a better experience and faster checkout.\"\n",
    "]"
   ]
  },
  {
   "cell_type": "code",
   "execution_count": 5,
   "id": "1306912912f14016",
   "metadata": {
    "ExecuteTime": {
     "end_time": "2025-04-18T11:11:57.411555Z",
     "start_time": "2025-04-18T11:11:40.007424Z"
    }
   },
   "outputs": [],
   "source": [
    "from langchain_huggingface import HuggingFaceEmbeddings\n",
    "\n",
    "embedding = HuggingFaceEmbeddings(\n",
    "    model_name=\"thenlper/gte-small\"\n",
    ")"
   ]
  },
  {
   "cell_type": "code",
   "execution_count": 6,
   "id": "ce7d7bccb69d729f",
   "metadata": {
    "ExecuteTime": {
     "end_time": "2025-04-18T11:18:17.473487Z",
     "start_time": "2025-04-18T11:18:16.875762Z"
    }
   },
   "outputs": [],
   "source": [
    "from langchain_community.vectorstores import FAISS\n",
    "\n",
    "vectorstore = FAISS.from_texts(texts=documents, embedding=embedding)"
   ]
  },
  {
   "cell_type": "code",
   "execution_count": 7,
   "id": "f9dcbb3b",
   "metadata": {
    "ExecuteTime": {
     "end_time": "2025-04-18T11:18:20.840964Z",
     "start_time": "2025-04-18T11:18:20.821803Z"
    }
   },
   "outputs": [],
   "source": [
    "mongo = MongoClient(\"mongodb://localhost:27017/\")\n",
    "db = mongo[\"support_bot\"]\n",
    "chat_collection = db[\"chats\"]"
   ]
  },
  {
   "cell_type": "code",
   "execution_count": 8,
   "id": "4757ffdf",
   "metadata": {
    "ExecuteTime": {
     "end_time": "2025-04-18T11:18:22.916331Z",
     "start_time": "2025-04-18T11:18:22.884843Z"
    }
   },
   "outputs": [],
   "source": [
    "llm = ChatOpenAI(model=\"gpt-4\", verbose=True)"
   ]
  },
  {
   "cell_type": "code",
   "execution_count": 51,
   "id": "c8a7078a",
   "metadata": {
    "ExecuteTime": {
     "end_time": "2025-04-18T11:19:53.189387Z",
     "start_time": "2025-04-18T11:19:53.175179Z"
    }
   },
   "outputs": [],
   "source": [
    "# ==== Tool 1: Hybrid FAISS Retriever ====\n",
    "class HybridFAISSRetrieverTool(Tool):\n",
    "    name: str = \"HybridFAISSRetrieverTool\"\n",
    "    description: str = \"Use this tool to retrieve relevant documents from the FAISS vector store based on the user query. It uses a hybrid approach combining vector search and semantic search.\"\n",
    "    \n",
    "    # tool class attributes should be defined here\n",
    "    _vectorstore: FAISS\n",
    "    embedding_model: HuggingFaceEmbeddings\n",
    "\n",
    "    def __init__(self, _vectorstore: FAISS, embedding_model: HuggingFaceEmbeddings, name: str = None, description: str = None):\n",
    "        self._vectorstore = _vectorstore\n",
    "        self.embedding_model = embedding_model\n",
    "        self.name = name or self.name\n",
    "        self.description = description or self.description\n",
    "        super().__init__(name=name or self.name, func=self._perform_action, description=description or self.description)\n",
    "\n",
    "    def _preform_action(self, query: str) -> str | None:\n",
    "        try:\n",
    "            # Generate embedding for the user query\n",
    "            query_vector = self.embedding_model.embed_query(query)\n",
    "\n",
    "            # Perform similarity search in FAISS\n",
    "            results = self._vectorstore.similarity_search_by_vector(query_vector, k=5)\n",
    "\n",
    "            if not results:\n",
    "                return \"No relevant content found.\"\n",
    "\n",
    "            _response = []\n",
    "            for result in results:\n",
    "                content = result.page_content\n",
    "                score = result.score  # similarity score\n",
    "                _response.append(f\"Score: {score:.2f}\\nContent:\\n{content}\")\n",
    "\n",
    "            return \"\\n\\n---\\n\\n\".join(_response)\n",
    "\n",
    "        except Exception as e:\n",
    "            return f\"Error during hybrid FAISS search: {str(e)}\\n{traceback.format_exc()}\"\n"
   ]
  },
  {
   "cell_type": "code",
   "execution_count": 52,
   "id": "6d269ab7",
   "metadata": {
    "ExecuteTime": {
     "end_time": "2025-04-18T11:19:55.410067Z",
     "start_time": "2025-04-18T11:19:55.398844Z"
    }
   },
   "outputs": [],
   "source": [
    "# ==== Tool 2: MongoDB Chat History ====\n",
    "class MongoChatHistoryTool(Tool):\n",
    "    name: str = \"MongoChatHistoryTool\"\n",
    "    description: str = \"Use this tool to retrieve the last 3 chat history entries from MongoDB.\"\n",
    "\n",
    "    def __init__(self, name: str = None, description: str = None):\n",
    "        super().__init__(name=name or self.name, description=description or self.description, func=self._preform_action)\n",
    "\n",
    "    @staticmethod\n",
    "    def _preform_action(user_id: str):\n",
    "        history = chat_collection.find({\"user_id\": user_id}).sort(\"timestamp\", -1).limit(3)\n",
    "        return \"\\n\".join([f\"User: {h['prompt']}\\nBot: {h['response']}\" for h in history])"
   ]
  },
  {
   "cell_type": "code",
   "execution_count": null,
   "id": "a2af3be2",
   "metadata": {},
   "outputs": [],
   "source": [
    "faiss_tool = HybridFAISSRetrieverTool(_vectorstore=vectorstore, embedding_model=embedding)\n",
    "mongo_tool = MongoChatHistoryTool()\n",
    "\n",
    "tools = [\n",
    "    faiss_tool,\n",
    "    mongo_tool\n",
    "]\n",
    "\n",
    "agent = initialize_agent(\n",
    "    tools=tools,\n",
    "    llm=llm,\n",
    "    agent=\"zero-shot-react-description\",\n",
    "    verbose=True,\n",
    "    return_intermediate_steps=True\n",
    ")\n"
   ]
  },
  {
   "cell_type": "code",
   "execution_count": null,
   "id": "20298b3c",
   "metadata": {
    "ExecuteTime": {
     "end_time": "2025-04-18T11:20:54.043059Z",
     "start_time": "2025-04-18T11:20:54.038123Z"
    }
   },
   "outputs": [],
   "source": [
    "def generate_response(user_id, prompt):\n",
    "    system_prompt = f\"The user ID is {user_id}. The user asked: '{prompt}'\"\n",
    "    final_response = agent.run(system_prompt)\n",
    "\n",
    "    # Save to MongoDB\n",
    "    chat_collection.insert_one({\n",
    "        \"user_id\": user_id,\n",
    "        \"prompt\": prompt,\n",
    "        \"response\": final_response\n",
    "    })\n",
    "\n",
    "    return final_response"
   ]
  },
  {
   "cell_type": "code",
   "execution_count": null,
   "id": "fb650fd1",
   "metadata": {},
   "outputs": [],
   "source": [
    "response = generate_response(user_id=\"123\", prompt=\"How do I reset my password?\")\n",
    "print(response)"
   ]
  }
 ],
 "metadata": {
  "kernelspec": {
   "display_name": "venv-genai",
   "language": "python",
   "name": "python3"
  },
  "language_info": {
   "codemirror_mode": {
    "name": "ipython",
    "version": 3
   },
   "file_extension": ".py",
   "mimetype": "text/x-python",
   "name": "python",
   "nbconvert_exporter": "python",
   "pygments_lexer": "ipython3",
   "version": "3.13.3"
  }
 },
 "nbformat": 4,
 "nbformat_minor": 5
}
